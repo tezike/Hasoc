{
 "cells": [
  {
   "cell_type": "code",
   "execution_count": null,
   "metadata": {},
   "outputs": [],
   "source": [
    "# default_exp utils"
   ]
  },
  {
   "cell_type": "code",
   "execution_count": null,
   "metadata": {},
   "outputs": [],
   "source": [
    "#export\n",
    "import os\n",
    "import random\n",
    "import torch\n",
    "import torch.nn as nn\n",
    "import transformers\n",
    "import numpy as np\n",
    "\n",
    "from fastcore.test import *\n",
    "from fastcore.transform import Transform\n",
    "from fastcore.foundation import L\n",
    "from fastai.text.data import TensorText\n",
    "from fastai.text.core import Tokenizer"
   ]
  },
  {
   "cell_type": "markdown",
   "metadata": {},
   "source": [
    "## Some Utility functions"
   ]
  },
  {
   "cell_type": "code",
   "execution_count": null,
   "metadata": {},
   "outputs": [],
   "source": [
    "#export\n",
    "def seed_everything(seed=42):\n",
    "    random.seed(seed)\n",
    "    os.environ['PYTHONHASHSEED'] = str(seed)\n",
    "    np.random.seed(seed)\n",
    "    torch.manual_seed(seed)\n",
    "    torch.cuda.manual_seed(seed)\n",
    "    torch.backends.cudnn.deterministic = True"
   ]
  },
  {
   "cell_type": "code",
   "execution_count": null,
   "metadata": {},
   "outputs": [],
   "source": [
    "#hide\n",
    "MODEL_NAME = 'bert-base-uncased'\n",
    "bert_tokenizer = transformers.BertTokenizer.from_pretrained(\n",
    "            pretrained_model_name_or_path=MODEL_NAME,\n",
    "            do_lower_case=True,\n",
    "            )"
   ]
  },
  {
   "cell_type": "code",
   "execution_count": null,
   "metadata": {},
   "outputs": [],
   "source": [
    "#export\n",
    "def bert_cls_splitter(m):\n",
    "    \"Split the classifier head from the backbone\"\n",
    "    groups = [nn.Sequential(m.model.embeddings,\n",
    "                m.model.encoder.layer[0],\n",
    "                m.model.encoder.layer[1],\n",
    "                m.model.encoder.layer[2],\n",
    "                m.model.encoder.layer[3],\n",
    "                m.model.encoder.layer[4],\n",
    "                m.model.encoder.layer[5],\n",
    "                m.model.encoder.layer[6],\n",
    "                m.model.encoder.layer[7],\n",
    "                m.model.encoder.layer[8],\n",
    "                m.model.encoder.layer[9],\n",
    "                m.model.encoder.layer[10],\n",
    "                m.model.encoder.layer[11],\n",
    "                m.model.pooler)]\n",
    "#     groups = L(groups + [m.model.classifier])\n",
    "    groups = L(groups) #using BertModel which ends at pool\n",
    "    # fastai stores the parametes in each layer in a `params` variable\n",
    "    return groups.map(params)"
   ]
  },
  {
   "cell_type": "code",
   "execution_count": null,
   "metadata": {},
   "outputs": [],
   "source": [
    "#export\n",
    "class HFTokenizer():\n",
    "    def __init__(self, tokenizer):\n",
    "        self.tok = tokenizer\n",
    "\n",
    "    def tokenize(self, text):\n",
    "        tokens = self.tok.tokenize(text)\n",
    "        return tokens\n",
    "\n",
    "    def __call__(self, items):\n",
    "        # ALways yeild the tokenized text before passing it to the Tokenizer Transform\n",
    "        for text in items:\n",
    "            yield self.tokenize(text)"
   ]
  },
  {
   "cell_type": "code",
   "execution_count": null,
   "metadata": {},
   "outputs": [
    {
     "data": {
      "text/plain": [
       "[['i'], [], ['a'], ['m'], [], ['a'], [], ['f'], ['i'], ['s'], ['h']]"
      ]
     },
     "execution_count": null,
     "metadata": {},
     "output_type": "execute_result"
    }
   ],
   "source": [
    "#hide\n",
    "list(HFTokenizer(bert_tokenizer)('I am a fish'))"
   ]
  },
  {
   "cell_type": "code",
   "execution_count": null,
   "metadata": {},
   "outputs": [],
   "source": [
    "#export\n",
    "class Add_Special_Cls(Transform):\n",
    "    order = 7\n",
    "    def __init__(self, tokenizer):\n",
    "        self.tok = tokenizer\n",
    "\n",
    "    def encodes(self, o):\n",
    "        return TensorText(self.tok.build_inputs_with_special_tokens(list(o)))"
   ]
  },
  {
   "cell_type": "code",
   "execution_count": null,
   "metadata": {},
   "outputs": [],
   "source": [
    "#hide\n",
    "test_eq(Add_Special_Cls(bert_tokenizer)([0, 1, 2]), TensorText([101,   0,   1,   2, 102]))"
   ]
  },
  {
   "cell_type": "code",
   "execution_count": null,
   "metadata": {},
   "outputs": [],
   "source": []
  },
  {
   "cell_type": "code",
   "execution_count": null,
   "metadata": {},
   "outputs": [],
   "source": []
  }
 ],
 "metadata": {
  "kernelspec": {
   "display_name": "Python 3",
   "language": "python",
   "name": "python3"
  }
 },
 "nbformat": 4,
 "nbformat_minor": 2
}
