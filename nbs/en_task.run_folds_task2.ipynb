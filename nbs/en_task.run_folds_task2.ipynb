{
 "cells": [
  {
   "cell_type": "code",
   "execution_count": null,
   "metadata": {},
   "outputs": [],
   "source": [
    "#default_exp en_task.run_folds_task2"
   ]
  },
  {
   "cell_type": "code",
   "execution_count": null,
   "metadata": {},
   "outputs": [
    {
     "data": {
      "application/vnd.jupyter.widget-view+json": {
       "model_id": "d0cf0f4f52b14eb0a6085feb24d468e6",
       "version_major": 2,
       "version_minor": 0
      },
      "text/plain": [
       "HBox(children=(FloatProgress(value=0.0, description='Downloading', max=231508.0, style=ProgressStyle(descripti…"
      ]
     },
     "metadata": {},
     "output_type": "display_data"
    },
    {
     "name": "stdout",
     "output_type": "stream",
     "text": [
      "\n"
     ]
    }
   ],
   "source": [
    "#export\n",
    "import os\n",
    "\n",
    "import torch\n",
    "import torch.nn as nn\n",
    "import torch.optim as optim\n",
    "import pandas as pd\n",
    "import numpy as np\n",
    "import transformers\n",
    "\n",
    "import Hasoc.config as config\n",
    "import Hasoc.utils.utils as utils\n",
    "import Hasoc.utils.engine as engine\n",
    "import Hasoc.model.model as model\n",
    "import Hasoc.dataset.dataset as dataset\n",
    "\n",
    "from functools import partial\n",
    "from sklearn.metrics import f1_score\n",
    "from sklearn.preprocessing import LabelEncoder\n",
    "from catalyst.data.sampler import BalanceClassSampler\n",
    "from transformers import AdamW, get_linear_schedule_with_warmup"
   ]
  },
  {
   "cell_type": "code",
   "execution_count": null,
   "metadata": {},
   "outputs": [],
   "source": [
    "#export\n",
    "SEED = 42\n",
    "utils.seed_everything(SEED)"
   ]
  },
  {
   "cell_type": "code",
   "execution_count": null,
   "metadata": {},
   "outputs": [],
   "source": [
    "#export\n",
    "df = pd.read_csv(config.DATA_PATH/'fold_df.csv')"
   ]
  },
  {
   "cell_type": "code",
   "execution_count": null,
   "metadata": {},
   "outputs": [
    {
     "data": {
      "text/html": [
       "<div>\n",
       "<style scoped>\n",
       "    .dataframe tbody tr th:only-of-type {\n",
       "        vertical-align: middle;\n",
       "    }\n",
       "\n",
       "    .dataframe tbody tr th {\n",
       "        vertical-align: top;\n",
       "    }\n",
       "\n",
       "    .dataframe thead th {\n",
       "        text-align: right;\n",
       "    }\n",
       "</style>\n",
       "<table border=\"1\" class=\"dataframe\">\n",
       "  <thead>\n",
       "    <tr style=\"text-align: right;\">\n",
       "      <th></th>\n",
       "      <th>tweet_id</th>\n",
       "      <th>text</th>\n",
       "      <th>task1</th>\n",
       "      <th>task2</th>\n",
       "      <th>ID</th>\n",
       "      <th>kfold_task1</th>\n",
       "      <th>kfold_task2</th>\n",
       "    </tr>\n",
       "  </thead>\n",
       "  <tbody>\n",
       "    <tr>\n",
       "      <th>0</th>\n",
       "      <td>1.126953e+18</td>\n",
       "      <td>We need a word for ‘going somewhere alone,sitt...</td>\n",
       "      <td>NOT</td>\n",
       "      <td>NONE</td>\n",
       "      <td>hasoc_2020_en_1503</td>\n",
       "      <td>2</td>\n",
       "      <td>0</td>\n",
       "    </tr>\n",
       "    <tr>\n",
       "      <th>1</th>\n",
       "      <td>1.123482e+18</td>\n",
       "      <td>RT @RiverCityLabs: Come and work from our spac...</td>\n",
       "      <td>NOT</td>\n",
       "      <td>NONE</td>\n",
       "      <td>hasoc_2020_en_3570</td>\n",
       "      <td>2</td>\n",
       "      <td>0</td>\n",
       "    </tr>\n",
       "  </tbody>\n",
       "</table>\n",
       "</div>"
      ],
      "text/plain": [
       "       tweet_id  ... kfold_task2\n",
       "0  1.126953e+18  ...           0\n",
       "1  1.123482e+18  ...           0\n",
       "\n",
       "[2 rows x 7 columns]"
      ]
     },
     "execution_count": null,
     "metadata": {},
     "output_type": "execute_result"
    }
   ],
   "source": [
    "#hide\n",
    "df.head(2)"
   ]
  },
  {
   "cell_type": "code",
   "execution_count": null,
   "metadata": {},
   "outputs": [
    {
     "data": {
      "text/plain": [
       "(3708, 7)"
      ]
     },
     "execution_count": null,
     "metadata": {},
     "output_type": "execute_result"
    }
   ],
   "source": [
    "#hide\n",
    "df.shape"
   ]
  },
  {
   "cell_type": "code",
   "execution_count": null,
   "metadata": {},
   "outputs": [
    {
     "data": {
      "text/plain": [
       "array(['HATE', 'NONE', 'OFFN', 'PRFN'], dtype=object)"
      ]
     },
     "execution_count": null,
     "metadata": {},
     "output_type": "execute_result"
    }
   ],
   "source": [
    "#export\n",
    "le = LabelEncoder()\n",
    "le.fit_transform(df.task2)\n",
    "le.classes_"
   ]
  },
  {
   "cell_type": "code",
   "execution_count": null,
   "metadata": {},
   "outputs": [],
   "source": [
    "#export\n",
    "df['task2_encoded'] = le.transform(df.task2.values)"
   ]
  },
  {
   "cell_type": "code",
   "execution_count": null,
   "metadata": {},
   "outputs": [
    {
     "data": {
      "text/plain": [
       "['en_task_a', 'raw', 'fold_df.csv', '.ipynb_checkpoints']"
      ]
     },
     "execution_count": null,
     "metadata": {},
     "output_type": "execute_result"
    }
   ],
   "source": [
    "os.listdir(config.DATA_PATH)"
   ]
  },
  {
   "cell_type": "code",
   "execution_count": null,
   "metadata": {},
   "outputs": [],
   "source": [
    "#export\n",
    "test_df = pd.read_csv(config.DATA_PATH/'en_task_a/english_test.csv')"
   ]
  },
  {
   "cell_type": "code",
   "execution_count": null,
   "metadata": {},
   "outputs": [
    {
     "data": {
      "text/html": [
       "<div>\n",
       "<style scoped>\n",
       "    .dataframe tbody tr th:only-of-type {\n",
       "        vertical-align: middle;\n",
       "    }\n",
       "\n",
       "    .dataframe tbody tr th {\n",
       "        vertical-align: top;\n",
       "    }\n",
       "\n",
       "    .dataframe thead th {\n",
       "        text-align: right;\n",
       "    }\n",
       "</style>\n",
       "<table border=\"1\" class=\"dataframe\">\n",
       "  <thead>\n",
       "    <tr style=\"text-align: right;\">\n",
       "      <th></th>\n",
       "      <th>tweet_id</th>\n",
       "      <th>text</th>\n",
       "      <th>task1</th>\n",
       "      <th>task2</th>\n",
       "      <th>ID</th>\n",
       "    </tr>\n",
       "  </thead>\n",
       "  <tbody>\n",
       "    <tr>\n",
       "      <th>0</th>\n",
       "      <td>1130081762154090497</td>\n",
       "      <td>RT @delmiyaa: Samini resetting the show and mo...</td>\n",
       "      <td>NOT</td>\n",
       "      <td>NONE</td>\n",
       "      <td>hasoc_2020_en_2713</td>\n",
       "    </tr>\n",
       "    <tr>\n",
       "      <th>1</th>\n",
       "      <td>1130048316807491584</td>\n",
       "      <td>@Swxnsea how do you know that he’s left?</td>\n",
       "      <td>HOF</td>\n",
       "      <td>NONE</td>\n",
       "      <td>hasoc_2020_en_3874</td>\n",
       "    </tr>\n",
       "    <tr>\n",
       "      <th>2</th>\n",
       "      <td>1123657766143504386</td>\n",
       "      <td>Tried to get Divock Origi on a free seeing as ...</td>\n",
       "      <td>NOT</td>\n",
       "      <td>NONE</td>\n",
       "      <td>hasoc_2020_en_281</td>\n",
       "    </tr>\n",
       "    <tr>\n",
       "      <th>3</th>\n",
       "      <td>1126782963042013186</td>\n",
       "      <td>RT @nutclusteruwu: that....is yalls stupid whi...</td>\n",
       "      <td>HOF</td>\n",
       "      <td>PRFN</td>\n",
       "      <td>hasoc_2020_en_2026</td>\n",
       "    </tr>\n",
       "    <tr>\n",
       "      <th>4</th>\n",
       "      <td>1130159113529434113</td>\n",
       "      <td>&amp;amp; IT DID. But a bitch got big girls things...</td>\n",
       "      <td>HOF</td>\n",
       "      <td>PRFN</td>\n",
       "      <td>hasoc_2020_en_4023</td>\n",
       "    </tr>\n",
       "  </tbody>\n",
       "</table>\n",
       "</div>"
      ],
      "text/plain": [
       "              tweet_id  ...                  ID\n",
       "0  1130081762154090497  ...  hasoc_2020_en_2713\n",
       "1  1130048316807491584  ...  hasoc_2020_en_3874\n",
       "2  1123657766143504386  ...   hasoc_2020_en_281\n",
       "3  1126782963042013186  ...  hasoc_2020_en_2026\n",
       "4  1130159113529434113  ...  hasoc_2020_en_4023\n",
       "\n",
       "[5 rows x 5 columns]"
      ]
     },
     "execution_count": null,
     "metadata": {},
     "output_type": "execute_result"
    }
   ],
   "source": [
    "#hide\n",
    "test_df.head()"
   ]
  },
  {
   "cell_type": "code",
   "execution_count": null,
   "metadata": {},
   "outputs": [],
   "source": [
    "#export\n",
    "def run(fold, num_epochs=6):\n",
    "    NUM_EPOCHS = num_epochs\n",
    "    train_df = df.query(f'kfold_task2!={fold}').reset_index(drop=True)\n",
    "    valid_df = df.query(f'kfold_task2=={fold}').reset_index(drop=True)\n",
    "\n",
    "    #export\n",
    "    train_ds = utils.create_loader(train_df.text.values, train_df.task2_encoded, bs=config.TRAIN_BATCH_SIZE,\n",
    "                                   ret_dataset=True)\n",
    "    train_dl = utils.create_loader(train_df.text.values, train_df.task2_encoded, bs=config.TRAIN_BATCH_SIZE,\n",
    "                                   sampler=BalanceClassSampler(labels=train_ds.get_labels(), mode=\"upsampling\"))\n",
    "    valid_dl = utils.create_loader(valid_df.text.values, valid_df.task2_encoded, bs=config.VALID_BATCH_SIZE)\n",
    "\n",
    "    #export\n",
    "    modeller = model.HasocModel(len(le.classes_), drop=0.6)\n",
    "\n",
    "    #export\n",
    "    model_params = list(modeller.named_parameters())\n",
    "\n",
    "    #export\n",
    "    # we don't want weight decay for these\n",
    "    no_decay = ['bias', 'LayerNorm.weight', 'LayerNorm.bias']\n",
    "\n",
    "    optimizer_params = [\n",
    "        {'params': [p for n, p in model_params if n not in no_decay],\n",
    "        'weight_decay':0.001},\n",
    "        #  no weight decay should be applied\n",
    "        {'params': [p for n, p in model_params if n in no_decay],\n",
    "        'weight_decay':0.0}\n",
    "    ]\n",
    "\n",
    "    #export\n",
    "    # lr = config.LR\n",
    "    lr = 1e-4\n",
    "\n",
    "    #export\n",
    "    optimizer = AdamW(optimizer_params, lr=lr)\n",
    "\n",
    "    #export\n",
    "    num_train_steps = int(len(df) / config.TRAIN_BATCH_SIZE * config.NUM_EPOCHS)\n",
    "\n",
    "    #export\n",
    "    scheduler = get_linear_schedule_with_warmup(optimizer=optimizer,\n",
    "                                                    num_warmup_steps=20,\n",
    "                                                    num_training_steps=num_train_steps-20)\n",
    "\n",
    "    #export\n",
    "    # fit = engine.BertFitter(modeller, (train_dl, valid_dl), optimizer, nn.CrossEntropyLoss(), partial(f1_score, average='macro'), config.DEVICE, scheduler=scheduler, log_file='en_task2_log.txt')\n",
    "    fit = engine.BertFitter(modeller, (train_dl, valid_dl), optimizer, utils.LabelSmoothingCrossEntropy(), partial(f1_score, average='macro'), config.DEVICE, scheduler=scheduler, log_file='en_task2_log.txt')\n",
    "\n",
    "    #export\n",
    "    fit.fit(NUM_EPOCHS, model_path=os.path.join(config.MODEL_PATH/f'en_task2_{fold}.pth'), show_graph=False)\n",
    "\n",
    "    #export\n",
    "    test_dl = utils.create_loader(test_df.text.values, lbls=[None]*len(test_df.text.values), bs=config.VALID_BATCH_SIZE, is_test=True)\n",
    "\n",
    "    #export\n",
    "    modeller = model.HasocModel(len(le.classes_))\n",
    "    modeller.load_state_dict(torch.load(config.MODEL_PATH/f'en_task2_{fold}.pth'))\n",
    "\n",
    "    #export\n",
    "    preds = engine.get_preds(test_dl.dataset, test_dl, modeller, config.DEVICE, ensemble_proba=True)\n",
    "\n",
    "    np.save(os.path.join('..', 'outputs', f'submission_EN_B_{fold}.npy'), preds)"
   ]
  },
  {
   "cell_type": "code",
   "execution_count": null,
   "metadata": {},
   "outputs": [
    {
     "data": {
      "text/html": [
       "<table border=\"1\" class=\"dataframe\">\n",
       "  <thead>\n",
       "    <tr style=\"text-align: left;\">\n",
       "      <th>epoch</th>\n",
       "      <th>train_loss</th>\n",
       "      <th>valid_loss</th>\n",
       "      <th>metric</th>\n",
       "      <th>time</th>\n",
       "    </tr>\n",
       "  </thead>\n",
       "  <tbody>\n",
       "    <tr>\n",
       "      <td>1</td>\n",
       "      <td>0.838752</td>\n",
       "      <td>0.947949</td>\n",
       "      <td>0.552764</td>\n",
       "      <td>0:5:55</td>\n",
       "    </tr>\n",
       "    <tr>\n",
       "      <td>2</td>\n",
       "      <td>0.433689</td>\n",
       "      <td>0.948502</td>\n",
       "      <td>0.589301</td>\n",
       "      <td>0:6:1</td>\n",
       "    </tr>\n",
       "    <tr>\n",
       "      <td>3</td>\n",
       "      <td>0.378118</td>\n",
       "      <td>0.956992</td>\n",
       "      <td>0.586607</td>\n",
       "      <td>0:5:49</td>\n",
       "    </tr>\n",
       "    <tr>\n",
       "      <td>4</td>\n",
       "      <td>0.380649</td>\n",
       "      <td>0.957173</td>\n",
       "      <td>0.586550</td>\n",
       "      <td>0:3:9</td>\n",
       "    </tr>\n",
       "    <tr>\n",
       "      <td>5</td>\n",
       "      <td>0.377751</td>\n",
       "      <td>0.957177</td>\n",
       "      <td>0.586549</td>\n",
       "      <td>0:3:8</td>\n",
       "    </tr>\n",
       "    <tr>\n",
       "      <td>6</td>\n",
       "      <td>0.377655</td>\n",
       "      <td>0.957177</td>\n",
       "      <td>0.586549</td>\n",
       "      <td>0:4:53</td>\n",
       "    </tr>\n",
       "  </tbody>\n",
       "</table>"
      ],
      "text/plain": [
       "<IPython.core.display.HTML object>"
      ]
     },
     "metadata": {},
     "output_type": "display_data"
    },
    {
     "data": {
      "text/html": [
       "\n",
       "    <div>\n",
       "        <style>\n",
       "            /* Turns off some styling */\n",
       "            progress {\n",
       "                /* gets rid of default border in Firefox and Opera. */\n",
       "                border: none;\n",
       "                /* Needs to be in here for Safari polyfill so background images work as expected. */\n",
       "                background-size: auto;\n",
       "            }\n",
       "            .progress-bar-interrupted, .progress-bar-interrupted::-webkit-progress-bar {\n",
       "                background: #F44336;\n",
       "            }\n",
       "        </style>\n",
       "      <progress value='51' class='' max='51' style='width:300px; height:20px; vertical-align: middle;'></progress>\n",
       "      100.00% [51/51 07:07<00:00]\n",
       "    </div>\n",
       "    "
      ],
      "text/plain": [
       "<IPython.core.display.HTML object>"
      ]
     },
     "metadata": {},
     "output_type": "display_data"
    },
    {
     "data": {
      "text/html": [
       "<table border=\"1\" class=\"dataframe\">\n",
       "  <thead>\n",
       "    <tr style=\"text-align: left;\">\n",
       "      <th>epoch</th>\n",
       "      <th>train_loss</th>\n",
       "      <th>valid_loss</th>\n",
       "      <th>metric</th>\n",
       "      <th>time</th>\n",
       "    </tr>\n",
       "  </thead>\n",
       "  <tbody>\n",
       "    <tr>\n",
       "      <td>1</td>\n",
       "      <td>0.871337</td>\n",
       "      <td>0.950515</td>\n",
       "      <td>0.522420</td>\n",
       "      <td>0:3:35</td>\n",
       "    </tr>\n",
       "    <tr>\n",
       "      <td>2</td>\n",
       "      <td>0.445016</td>\n",
       "      <td>0.923976</td>\n",
       "      <td>0.554450</td>\n",
       "      <td>0:3:14</td>\n",
       "    </tr>\n",
       "    <tr>\n",
       "      <td>3</td>\n",
       "      <td>0.384882</td>\n",
       "      <td>0.918306</td>\n",
       "      <td>0.587731</td>\n",
       "      <td>0:4:41</td>\n",
       "    </tr>\n",
       "    <tr>\n",
       "      <td>4</td>\n",
       "      <td>0.382308</td>\n",
       "      <td>0.918185</td>\n",
       "      <td>0.588439</td>\n",
       "      <td>0:5:58</td>\n",
       "    </tr>\n",
       "    <tr>\n",
       "      <td>5</td>\n",
       "      <td>0.379654</td>\n",
       "      <td>0.918182</td>\n",
       "      <td>0.588454</td>\n",
       "      <td>0:6:1</td>\n",
       "    </tr>\n",
       "    <tr>\n",
       "      <td>6</td>\n",
       "      <td>0.381721</td>\n",
       "      <td>0.918182</td>\n",
       "      <td>0.588454</td>\n",
       "      <td>0:4:51</td>\n",
       "    </tr>\n",
       "  </tbody>\n",
       "</table>"
      ],
      "text/plain": [
       "<IPython.core.display.HTML object>"
      ]
     },
     "metadata": {},
     "output_type": "display_data"
    },
    {
     "data": {
      "text/html": [
       "\n",
       "    <div>\n",
       "        <style>\n",
       "            /* Turns off some styling */\n",
       "            progress {\n",
       "                /* gets rid of default border in Firefox and Opera. */\n",
       "                border: none;\n",
       "                /* Needs to be in here for Safari polyfill so background images work as expected. */\n",
       "                background-size: auto;\n",
       "            }\n",
       "            .progress-bar-interrupted, .progress-bar-interrupted::-webkit-progress-bar {\n",
       "                background: #F44336;\n",
       "            }\n",
       "        </style>\n",
       "      <progress value='51' class='' max='51' style='width:300px; height:20px; vertical-align: middle;'></progress>\n",
       "      100.00% [51/51 07:23<00:00]\n",
       "    </div>\n",
       "    "
      ],
      "text/plain": [
       "<IPython.core.display.HTML object>"
      ]
     },
     "metadata": {},
     "output_type": "display_data"
    },
    {
     "data": {
      "text/html": [
       "<table border=\"1\" class=\"dataframe\">\n",
       "  <thead>\n",
       "    <tr style=\"text-align: left;\">\n",
       "      <th>epoch</th>\n",
       "      <th>train_loss</th>\n",
       "      <th>valid_loss</th>\n",
       "      <th>metric</th>\n",
       "      <th>time</th>\n",
       "    </tr>\n",
       "  </thead>\n",
       "  <tbody>\n",
       "    <tr>\n",
       "      <td>1</td>\n",
       "      <td>0.930174</td>\n",
       "      <td>0.995411</td>\n",
       "      <td>0.501469</td>\n",
       "      <td>0:5:54</td>\n",
       "    </tr>\n",
       "    <tr>\n",
       "      <td>2</td>\n",
       "      <td>0.474099</td>\n",
       "      <td>0.926649</td>\n",
       "      <td>0.578121</td>\n",
       "      <td>0:6:1</td>\n",
       "    </tr>\n",
       "    <tr>\n",
       "      <td>3</td>\n",
       "      <td>0.390880</td>\n",
       "      <td>0.946884</td>\n",
       "      <td>0.567922</td>\n",
       "      <td>0:5:11</td>\n",
       "    </tr>\n",
       "    <tr>\n",
       "      <td>4</td>\n",
       "      <td>0.389421</td>\n",
       "      <td>0.947314</td>\n",
       "      <td>0.567705</td>\n",
       "      <td>0:3:9</td>\n",
       "    </tr>\n",
       "    <tr>\n",
       "      <td>5</td>\n",
       "      <td>0.393117</td>\n",
       "      <td>0.947323</td>\n",
       "      <td>0.567700</td>\n",
       "      <td>0:3:9</td>\n",
       "    </tr>\n",
       "    <tr>\n",
       "      <td>6</td>\n",
       "      <td>0.387758</td>\n",
       "      <td>0.947324</td>\n",
       "      <td>0.567700</td>\n",
       "      <td>0:5:30</td>\n",
       "    </tr>\n",
       "  </tbody>\n",
       "</table>"
      ],
      "text/plain": [
       "<IPython.core.display.HTML object>"
      ]
     },
     "metadata": {},
     "output_type": "display_data"
    },
    {
     "data": {
      "text/html": [
       "\n",
       "    <div>\n",
       "        <style>\n",
       "            /* Turns off some styling */\n",
       "            progress {\n",
       "                /* gets rid of default border in Firefox and Opera. */\n",
       "                border: none;\n",
       "                /* Needs to be in here for Safari polyfill so background images work as expected. */\n",
       "                background-size: auto;\n",
       "            }\n",
       "            .progress-bar-interrupted, .progress-bar-interrupted::-webkit-progress-bar {\n",
       "                background: #F44336;\n",
       "            }\n",
       "        </style>\n",
       "      <progress value='51' class='' max='51' style='width:300px; height:20px; vertical-align: middle;'></progress>\n",
       "      100.00% [51/51 07:17<00:00]\n",
       "    </div>\n",
       "    "
      ],
      "text/plain": [
       "<IPython.core.display.HTML object>"
      ]
     },
     "metadata": {},
     "output_type": "display_data"
    },
    {
     "data": {
      "text/html": [
       "<table border=\"1\" class=\"dataframe\">\n",
       "  <thead>\n",
       "    <tr style=\"text-align: left;\">\n",
       "      <th>epoch</th>\n",
       "      <th>train_loss</th>\n",
       "      <th>valid_loss</th>\n",
       "      <th>metric</th>\n",
       "      <th>time</th>\n",
       "    </tr>\n",
       "  </thead>\n",
       "  <tbody>\n",
       "    <tr>\n",
       "      <td>1</td>\n",
       "      <td>0.843593</td>\n",
       "      <td>0.864110</td>\n",
       "      <td>0.582778</td>\n",
       "      <td>0:3:14</td>\n",
       "    </tr>\n",
       "    <tr>\n",
       "      <td>2</td>\n",
       "      <td>0.442409</td>\n",
       "      <td>0.888970</td>\n",
       "      <td>0.598420</td>\n",
       "      <td>0:3:15</td>\n",
       "    </tr>\n",
       "    <tr>\n",
       "      <td>3</td>\n",
       "      <td>0.385222</td>\n",
       "      <td>0.887524</td>\n",
       "      <td>0.621946</td>\n",
       "      <td>0:3:6</td>\n",
       "    </tr>\n",
       "    <tr>\n",
       "      <td>4</td>\n",
       "      <td>0.380899</td>\n",
       "      <td>0.887494</td>\n",
       "      <td>0.622446</td>\n",
       "      <td>0:3:3</td>\n",
       "    </tr>\n",
       "    <tr>\n",
       "      <td>5</td>\n",
       "      <td>0.375378</td>\n",
       "      <td>0.887493</td>\n",
       "      <td>0.622457</td>\n",
       "      <td>0:3:4</td>\n",
       "    </tr>\n",
       "    <tr>\n",
       "      <td>6</td>\n",
       "      <td>0.379337</td>\n",
       "      <td>0.887493</td>\n",
       "      <td>0.622457</td>\n",
       "      <td>0:3:2</td>\n",
       "    </tr>\n",
       "  </tbody>\n",
       "</table>"
      ],
      "text/plain": [
       "<IPython.core.display.HTML object>"
      ]
     },
     "metadata": {},
     "output_type": "display_data"
    },
    {
     "data": {
      "text/html": [
       "\n",
       "    <div>\n",
       "        <style>\n",
       "            /* Turns off some styling */\n",
       "            progress {\n",
       "                /* gets rid of default border in Firefox and Opera. */\n",
       "                border: none;\n",
       "                /* Needs to be in here for Safari polyfill so background images work as expected. */\n",
       "                background-size: auto;\n",
       "            }\n",
       "            .progress-bar-interrupted, .progress-bar-interrupted::-webkit-progress-bar {\n",
       "                background: #F44336;\n",
       "            }\n",
       "        </style>\n",
       "      <progress value='51' class='' max='51' style='width:300px; height:20px; vertical-align: middle;'></progress>\n",
       "      100.00% [51/51 04:43<00:00]\n",
       "    </div>\n",
       "    "
      ],
      "text/plain": [
       "<IPython.core.display.HTML object>"
      ]
     },
     "metadata": {},
     "output_type": "display_data"
    },
    {
     "data": {
      "text/html": [
       "<table border=\"1\" class=\"dataframe\">\n",
       "  <thead>\n",
       "    <tr style=\"text-align: left;\">\n",
       "      <th>epoch</th>\n",
       "      <th>train_loss</th>\n",
       "      <th>valid_loss</th>\n",
       "      <th>metric</th>\n",
       "      <th>time</th>\n",
       "    </tr>\n",
       "  </thead>\n",
       "  <tbody>\n",
       "    <tr>\n",
       "      <td>1</td>\n",
       "      <td>0.834347</td>\n",
       "      <td>0.813219</td>\n",
       "      <td>0.598235</td>\n",
       "      <td>0:3:3</td>\n",
       "    </tr>\n",
       "    <tr>\n",
       "      <td>2</td>\n",
       "      <td>0.431400</td>\n",
       "      <td>0.867900</td>\n",
       "      <td>0.617823</td>\n",
       "      <td>0:3:3</td>\n",
       "    </tr>\n",
       "    <tr>\n",
       "      <td>3</td>\n",
       "      <td>0.387252</td>\n",
       "      <td>0.860864</td>\n",
       "      <td>0.623151</td>\n",
       "      <td>0:3:3</td>\n",
       "    </tr>\n",
       "    <tr>\n",
       "      <td>4</td>\n",
       "      <td>0.381422</td>\n",
       "      <td>0.860714</td>\n",
       "      <td>0.623265</td>\n",
       "      <td>0:3:3</td>\n",
       "    </tr>\n",
       "    <tr>\n",
       "      <td>5</td>\n",
       "      <td>0.380474</td>\n",
       "      <td>0.860711</td>\n",
       "      <td>0.623267</td>\n",
       "      <td>0:3:3</td>\n",
       "    </tr>\n",
       "    <tr>\n",
       "      <td>6</td>\n",
       "      <td>0.381035</td>\n",
       "      <td>0.860711</td>\n",
       "      <td>0.623267</td>\n",
       "      <td>0:3:3</td>\n",
       "    </tr>\n",
       "  </tbody>\n",
       "</table>"
      ],
      "text/plain": [
       "<IPython.core.display.HTML object>"
      ]
     },
     "metadata": {},
     "output_type": "display_data"
    },
    {
     "data": {
      "text/html": [
       "\n",
       "    <div>\n",
       "        <style>\n",
       "            /* Turns off some styling */\n",
       "            progress {\n",
       "                /* gets rid of default border in Firefox and Opera. */\n",
       "                border: none;\n",
       "                /* Needs to be in here for Safari polyfill so background images work as expected. */\n",
       "                background-size: auto;\n",
       "            }\n",
       "            .progress-bar-interrupted, .progress-bar-interrupted::-webkit-progress-bar {\n",
       "                background: #F44336;\n",
       "            }\n",
       "        </style>\n",
       "      <progress value='51' class='' max='51' style='width:300px; height:20px; vertical-align: middle;'></progress>\n",
       "      100.00% [51/51 04:42<00:00]\n",
       "    </div>\n",
       "    "
      ],
      "text/plain": [
       "<IPython.core.display.HTML object>"
      ]
     },
     "metadata": {},
     "output_type": "display_data"
    }
   ],
   "source": [
    "#export\n",
    "for i in range(5):\n",
    "    run(i)"
   ]
  },
  {
   "cell_type": "code",
   "execution_count": null,
   "metadata": {},
   "outputs": [],
   "source": [
    "#export\n",
    "def ensemble():\n",
    "    preds_0 = np.load(os.path.join('..', 'outputs', f'submission_EN_B_0.npy'))\n",
    "    preds_1 = np.load(os.path.join('..', 'outputs', f'submission_EN_B_1.npy'))\n",
    "    preds_2 = np.load(os.path.join('..', 'outputs', f'submission_EN_B_2.npy'))\n",
    "    preds_3 = np.load(os.path.join('..', 'outputs', f'submission_EN_B_3.npy'))\n",
    "    preds_4 = np.load(os.path.join('..', 'outputs', f'submission_EN_B_4.npy'))\n",
    "\n",
    "    preds = (preds_0 + preds_1 + preds_2 + preds_3 + preds_4) / 5\n",
    "\n",
    "    preds = le.inverse_transform(torch.tensor(preds).argmax(dim=-1).numpy())\n",
    "\n",
    "    #export\n",
    "    sub = pd.read_csv(config.DATA_PATH/'en_task_a/english_test.csv')\n",
    "\n",
    "    #export\n",
    "    submission_en_task1_df = test_df.drop(columns=['text', 'task1', 'task2']).copy()\n",
    "\n",
    "    #export\n",
    "    submission_en_task1_df['task2'] = preds\n",
    "\n",
    "    #export\n",
    "    submission_en_task1_df.to_csv(os.path.join('..', 'outputs', f'submission_EN_B.csv'), index=False)"
   ]
  },
  {
   "cell_type": "code",
   "execution_count": null,
   "metadata": {},
   "outputs": [],
   "source": [
    "#export\n",
    "ensemble()"
   ]
  },
  {
   "cell_type": "code",
   "execution_count": null,
   "metadata": {},
   "outputs": [
    {
     "data": {
      "text/html": [
       "<div>\n",
       "<style scoped>\n",
       "    .dataframe tbody tr th:only-of-type {\n",
       "        vertical-align: middle;\n",
       "    }\n",
       "\n",
       "    .dataframe tbody tr th {\n",
       "        vertical-align: top;\n",
       "    }\n",
       "\n",
       "    .dataframe thead th {\n",
       "        text-align: right;\n",
       "    }\n",
       "</style>\n",
       "<table border=\"1\" class=\"dataframe\">\n",
       "  <thead>\n",
       "    <tr style=\"text-align: right;\">\n",
       "      <th></th>\n",
       "      <th>tweet_id</th>\n",
       "      <th>ID</th>\n",
       "      <th>task2</th>\n",
       "    </tr>\n",
       "  </thead>\n",
       "  <tbody>\n",
       "    <tr>\n",
       "      <th>0</th>\n",
       "      <td>1130081762154090497</td>\n",
       "      <td>hasoc_2020_en_2713</td>\n",
       "      <td>NONE</td>\n",
       "    </tr>\n",
       "    <tr>\n",
       "      <th>1</th>\n",
       "      <td>1130048316807491584</td>\n",
       "      <td>hasoc_2020_en_3874</td>\n",
       "      <td>NONE</td>\n",
       "    </tr>\n",
       "    <tr>\n",
       "      <th>2</th>\n",
       "      <td>1123657766143504386</td>\n",
       "      <td>hasoc_2020_en_281</td>\n",
       "      <td>NONE</td>\n",
       "    </tr>\n",
       "    <tr>\n",
       "      <th>3</th>\n",
       "      <td>1126782963042013186</td>\n",
       "      <td>hasoc_2020_en_2026</td>\n",
       "      <td>PRFN</td>\n",
       "    </tr>\n",
       "    <tr>\n",
       "      <th>4</th>\n",
       "      <td>1130159113529434113</td>\n",
       "      <td>hasoc_2020_en_4023</td>\n",
       "      <td>PRFN</td>\n",
       "    </tr>\n",
       "    <tr>\n",
       "      <th>...</th>\n",
       "      <td>...</td>\n",
       "      <td>...</td>\n",
       "      <td>...</td>\n",
       "    </tr>\n",
       "    <tr>\n",
       "      <th>809</th>\n",
       "      <td>1127061607433900032</td>\n",
       "      <td>hasoc_2020_en_1212</td>\n",
       "      <td>NONE</td>\n",
       "    </tr>\n",
       "    <tr>\n",
       "      <th>810</th>\n",
       "      <td>1123685826074951681</td>\n",
       "      <td>hasoc_2020_en_3435</td>\n",
       "      <td>NONE</td>\n",
       "    </tr>\n",
       "    <tr>\n",
       "      <th>811</th>\n",
       "      <td>1126882552587927552</td>\n",
       "      <td>hasoc_2020_en_3987</td>\n",
       "      <td>HATE</td>\n",
       "    </tr>\n",
       "    <tr>\n",
       "      <th>812</th>\n",
       "      <td>1130294488859996160</td>\n",
       "      <td>hasoc_2020_en_1176</td>\n",
       "      <td>NONE</td>\n",
       "    </tr>\n",
       "    <tr>\n",
       "      <th>813</th>\n",
       "      <td>1130111650780991493</td>\n",
       "      <td>hasoc_2020_en_1937</td>\n",
       "      <td>NONE</td>\n",
       "    </tr>\n",
       "  </tbody>\n",
       "</table>\n",
       "<p>814 rows × 3 columns</p>\n",
       "</div>"
      ],
      "text/plain": [
       "                tweet_id                  ID task2\n",
       "0    1130081762154090497  hasoc_2020_en_2713  NONE\n",
       "1    1130048316807491584  hasoc_2020_en_3874  NONE\n",
       "2    1123657766143504386   hasoc_2020_en_281  NONE\n",
       "3    1126782963042013186  hasoc_2020_en_2026  PRFN\n",
       "4    1130159113529434113  hasoc_2020_en_4023  PRFN\n",
       "..                   ...                 ...   ...\n",
       "809  1127061607433900032  hasoc_2020_en_1212  NONE\n",
       "810  1123685826074951681  hasoc_2020_en_3435  NONE\n",
       "811  1126882552587927552  hasoc_2020_en_3987  HATE\n",
       "812  1130294488859996160  hasoc_2020_en_1176  NONE\n",
       "813  1130111650780991493  hasoc_2020_en_1937  NONE\n",
       "\n",
       "[814 rows x 3 columns]"
      ]
     },
     "execution_count": null,
     "metadata": {},
     "output_type": "execute_result"
    }
   ],
   "source": [
    "pd.read_csv(os.path.join('..', 'outputs', f'submission_EN_B.csv'))"
   ]
  },
  {
   "cell_type": "code",
   "execution_count": null,
   "metadata": {},
   "outputs": [
    {
     "data": {
      "text/plain": [
       "'RT @nutclusteruwu: that....is yalls stupid white ass reactions meeting tom holland in disneyland? are you fucking kidding me i would have d…'"
      ]
     },
     "execution_count": null,
     "metadata": {},
     "output_type": "execute_result"
    }
   ],
   "source": [
    "test_df.query('tweet_id == \"1126782963042013186\"').text.values[0]"
   ]
  },
  {
   "cell_type": "code",
   "execution_count": null,
   "metadata": {},
   "outputs": [],
   "source": []
  }
 ],
 "metadata": {
  "kernelspec": {
   "display_name": "Python 3",
   "language": "python",
   "name": "python3"
  }
 },
 "nbformat": 4,
 "nbformat_minor": 2
}
