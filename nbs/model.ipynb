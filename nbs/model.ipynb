{
 "cells": [
  {
   "cell_type": "code",
   "execution_count": null,
   "metadata": {},
   "outputs": [],
   "source": [
    "# default_exp model"
   ]
  },
  {
   "cell_type": "markdown",
   "metadata": {},
   "source": [
    "## Bert from the Transformers Library"
   ]
  },
  {
   "cell_type": "code",
   "execution_count": null,
   "metadata": {},
   "outputs": [],
   "source": [
    "#export\n",
    "import torch\n",
    "import torch.nn as nn\n",
    "import transformers"
   ]
  },
  {
   "cell_type": "code",
   "execution_count": null,
   "metadata": {},
   "outputs": [],
   "source": [
    "#export\n",
    "class HasocModel(nn.Module):\n",
    "    def __init__(self, out_feat, drop=0.3, model_name='bert-base-uncased'):\n",
    "        super().__init__()\n",
    "        _config = transformers.BertConfig.from_pretrained(model_name)\n",
    "        self.model = transformers.BertModel.from_pretrained(model_name, config=_config)\n",
    "        self.tok = transformers.BertTokenizer.from_pretrained(\n",
    "            pretrained_model_name_or_path=MODEL_NAME,\n",
    "            do_lower_case=True,\n",
    "            )\n",
    "        out_size = getattr(self.model, 'pooler').dense.out_features\n",
    "        self.drop = nn.Dropout(drop)\n",
    "        self.classifier = nn.Linear(out_size*2, out_feat) #cus of pooling\n",
    "\n",
    "    def forward(self, input_ids, mask=None, token_type_ids=None):\n",
    "        mask = (input_ids != self.tok.pad_token_id).long()\n",
    "        h_o, _ = self.model(input_ids, \n",
    "                            attention_mask=mask, \n",
    "#                             token_type_ids=token_type_ids)\n",
    "                           )\n",
    "        \n",
    "        # pool the outputs from each timestep\n",
    "        mean_ = torch.mean(h_o, 1)\n",
    "        max_ = torch.max(h_o, 1)[0]\n",
    "        out = torch.cat((mean_, max_), 1)\n",
    "        \n",
    "        out = self.drop(out)\n",
    "        return self.classifier(out)"
   ]
  }
 ],
 "metadata": {
  "kernelspec": {
   "display_name": "Python 3",
   "language": "python",
   "name": "python3"
  }
 },
 "nbformat": 4,
 "nbformat_minor": 2
}
