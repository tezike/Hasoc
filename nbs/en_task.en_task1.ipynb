{
 "cells": [
  {
   "cell_type": "code",
   "execution_count": null,
   "metadata": {},
   "outputs": [],
   "source": [
    "#default_exp en_task.en_task1"
   ]
  },
  {
   "cell_type": "code",
   "execution_count": null,
   "metadata": {},
   "outputs": [],
   "source": [
    "#export\n",
    "import os\n",
    "\n",
    "import torch\n",
    "import torch.nn as nn\n",
    "import torch.optim as optim\n",
    "import pandas as pd\n",
    "import transformers\n",
    "\n",
    "import Hasoc.config as config\n",
    "import Hasoc.utils.utils as utils\n",
    "import Hasoc.utils.engine as engine\n",
    "import Hasoc.model.model as model\n",
    "import Hasoc.dataset.dataset as dataset\n",
    "\n",
    "from functools import partial\n",
    "from sklearn.metrics import f1_score\n",
    "from sklearn.preprocessing import LabelEncoder\n",
    "from transformers import AdamW, get_linear_schedule_with_warmup"
   ]
  },
  {
   "cell_type": "code",
   "execution_count": null,
   "metadata": {},
   "outputs": [],
   "source": [
    "#export\n",
    "SEED = 42\n",
    "utils.seed_everything(SEED)"
   ]
  },
  {
   "cell_type": "code",
   "execution_count": null,
   "metadata": {},
   "outputs": [],
   "source": [
    "#export\n",
    "df = pd.read_csv(config.DATA_PATH/'fold_df.csv')"
   ]
  },
  {
   "cell_type": "code",
   "execution_count": null,
   "metadata": {},
   "outputs": [
    {
     "data": {
      "text/html": [
       "<div>\n",
       "<style scoped>\n",
       "    .dataframe tbody tr th:only-of-type {\n",
       "        vertical-align: middle;\n",
       "    }\n",
       "\n",
       "    .dataframe tbody tr th {\n",
       "        vertical-align: top;\n",
       "    }\n",
       "\n",
       "    .dataframe thead th {\n",
       "        text-align: right;\n",
       "    }\n",
       "</style>\n",
       "<table border=\"1\" class=\"dataframe\">\n",
       "  <thead>\n",
       "    <tr style=\"text-align: right;\">\n",
       "      <th></th>\n",
       "      <th>tweet_id</th>\n",
       "      <th>text</th>\n",
       "      <th>task1</th>\n",
       "      <th>task2</th>\n",
       "      <th>ID</th>\n",
       "      <th>kfold_task1</th>\n",
       "      <th>kfold_task2</th>\n",
       "    </tr>\n",
       "  </thead>\n",
       "  <tbody>\n",
       "    <tr>\n",
       "      <th>0</th>\n",
       "      <td>1.126953e+18</td>\n",
       "      <td>We need a word for ‘going somewhere alone,sitt...</td>\n",
       "      <td>NOT</td>\n",
       "      <td>NONE</td>\n",
       "      <td>hasoc_2020_en_1503</td>\n",
       "      <td>2</td>\n",
       "      <td>0</td>\n",
       "    </tr>\n",
       "    <tr>\n",
       "      <th>1</th>\n",
       "      <td>1.123482e+18</td>\n",
       "      <td>RT @RiverCityLabs: Come and work from our spac...</td>\n",
       "      <td>NOT</td>\n",
       "      <td>NONE</td>\n",
       "      <td>hasoc_2020_en_3570</td>\n",
       "      <td>2</td>\n",
       "      <td>0</td>\n",
       "    </tr>\n",
       "  </tbody>\n",
       "</table>\n",
       "</div>"
      ],
      "text/plain": [
       "       tweet_id  ... kfold_task2\n",
       "0  1.126953e+18  ...           0\n",
       "1  1.123482e+18  ...           0\n",
       "\n",
       "[2 rows x 7 columns]"
      ]
     },
     "execution_count": null,
     "metadata": {},
     "output_type": "execute_result"
    }
   ],
   "source": [
    "#hide\n",
    "df.head(2)"
   ]
  },
  {
   "cell_type": "code",
   "execution_count": null,
   "metadata": {},
   "outputs": [
    {
     "data": {
      "text/plain": [
       "(3708, 7)"
      ]
     },
     "execution_count": null,
     "metadata": {},
     "output_type": "execute_result"
    }
   ],
   "source": [
    "#hide\n",
    "df.shape"
   ]
  },
  {
   "cell_type": "code",
   "execution_count": null,
   "metadata": {},
   "outputs": [
    {
     "data": {
      "text/plain": [
       "array(['HOF', 'NOT'], dtype=object)"
      ]
     },
     "execution_count": null,
     "metadata": {},
     "output_type": "execute_result"
    }
   ],
   "source": [
    "#export\n",
    "le = LabelEncoder()\n",
    "le.fit_transform(df.task1)\n",
    "le.classes_"
   ]
  },
  {
   "cell_type": "code",
   "execution_count": null,
   "metadata": {},
   "outputs": [],
   "source": [
    "#export\n",
    "df['task1_encoded'] = le.transform(df.task1.values)"
   ]
  },
  {
   "cell_type": "code",
   "execution_count": null,
   "metadata": {},
   "outputs": [],
   "source": [
    "fold = 3\n",
    "train_df = df.query(f'kfold_task1!={fold}').reset_index(drop=True)\n",
    "valid_df = df.query(f'kfold_task1=={fold}').reset_index(drop=True)"
   ]
  },
  {
   "cell_type": "code",
   "execution_count": null,
   "metadata": {},
   "outputs": [],
   "source": [
    "#export\n",
    "train_dl = utils.create_loader(train_df.text.values, train_df.task1_encoded, bs=config.TRAIN_BATCH_SIZE)\n",
    "valid_dl = utils.create_loader(valid_df.text.values, valid_df.task1_encoded, bs=config.VALID_BATCH_SIZE)"
   ]
  },
  {
   "cell_type": "code",
   "execution_count": null,
   "metadata": {},
   "outputs": [
    {
     "data": {
      "text/plain": [
       "(16, 16)"
      ]
     },
     "execution_count": null,
     "metadata": {},
     "output_type": "execute_result"
    }
   ],
   "source": [
    "train_dl.batch_size, valid_dl.batch_size"
   ]
  },
  {
   "cell_type": "code",
   "execution_count": null,
   "metadata": {},
   "outputs": [
    {
     "data": {
      "text/plain": [
       "{'attention_mask': tensor([[1, 1, 1,  ..., 0, 0, 0],\n",
       "         [1, 1, 1,  ..., 0, 0, 0],\n",
       "         [1, 1, 1,  ..., 0, 0, 0],\n",
       "         ...,\n",
       "         [1, 1, 1,  ..., 0, 0, 0],\n",
       "         [1, 1, 1,  ..., 0, 0, 0],\n",
       "         [1, 1, 1,  ..., 0, 0, 0]]),\n",
       " 'input_ids': tensor([[  101,  2057,  2342,  ...,     0,     0,     0],\n",
       "         [  101, 19387,  1030,  ...,     0,     0,     0],\n",
       "         [  101, 19387,  1030,  ...,     0,     0,     0],\n",
       "         ...,\n",
       "         [  101,  1030,  1035,  ...,     0,     0,     0],\n",
       "         [  101, 19387,  1030,  ...,     0,     0,     0],\n",
       "         [  101,  1030,  7842,  ...,     0,     0,     0]]),\n",
       " 'targets': tensor([[0, 1],\n",
       "         [0, 1],\n",
       "         [0, 1],\n",
       "         [0, 1],\n",
       "         [1, 0],\n",
       "         [1, 0],\n",
       "         [1, 0],\n",
       "         [1, 0],\n",
       "         [1, 0],\n",
       "         [0, 1],\n",
       "         [1, 0],\n",
       "         [1, 0],\n",
       "         [1, 0],\n",
       "         [0, 1],\n",
       "         [1, 0],\n",
       "         [0, 1]]),\n",
       " 'token_type_ids': tensor([[0, 0, 0,  ..., 0, 0, 0],\n",
       "         [0, 0, 0,  ..., 0, 0, 0],\n",
       "         [0, 0, 0,  ..., 0, 0, 0],\n",
       "         ...,\n",
       "         [0, 0, 0,  ..., 0, 0, 0],\n",
       "         [0, 0, 0,  ..., 0, 0, 0],\n",
       "         [0, 0, 0,  ..., 0, 0, 0]])}"
      ]
     },
     "execution_count": null,
     "metadata": {},
     "output_type": "execute_result"
    }
   ],
   "source": [
    "#hide\n",
    "next(iter(train_dl))"
   ]
  },
  {
   "cell_type": "code",
   "execution_count": null,
   "metadata": {},
   "outputs": [],
   "source": []
  },
  {
   "cell_type": "code",
   "execution_count": null,
   "metadata": {},
   "outputs": [],
   "source": [
    "#export\n",
    "modeller = model.HasocModel(len(le.classes_))"
   ]
  },
  {
   "cell_type": "code",
   "execution_count": null,
   "metadata": {},
   "outputs": [],
   "source": [
    "#export\n",
    "model_params = list(modeller.named_parameters())"
   ]
  },
  {
   "cell_type": "code",
   "execution_count": null,
   "metadata": {},
   "outputs": [],
   "source": [
    "#export\n",
    "# we don't want weight decay for these\n",
    "no_decay = ['bias', 'LayerNorm.weight', 'LayerNorm.bias']\n",
    "\n",
    "optimizer_params = [\n",
    "    {'params': [p for n, p in model_params if n not in no_decay],\n",
    "    'weight_decay':0.001},\n",
    "    #  no weight decay should be applied\n",
    "    {'params': [p for n, p in model_params if n in no_decay],\n",
    "    'weight_decay':0.0}\n",
    "]"
   ]
  },
  {
   "cell_type": "code",
   "execution_count": null,
   "metadata": {},
   "outputs": [],
   "source": [
    "#export\n",
    "lr = config.LR"
   ]
  },
  {
   "cell_type": "code",
   "execution_count": null,
   "metadata": {},
   "outputs": [],
   "source": [
    "#export\n",
    "optimizer = AdamW(optimizer_params, lr=lr)"
   ]
  },
  {
   "cell_type": "code",
   "execution_count": null,
   "metadata": {},
   "outputs": [],
   "source": [
    "#export\n",
    "num_train_steps = int(len(df) / config.TRAIN_BATCH_SIZE * config.NUM_EPOCHS)"
   ]
  },
  {
   "cell_type": "code",
   "execution_count": null,
   "metadata": {},
   "outputs": [],
   "source": [
    "#export\n",
    "scheduler = get_linear_schedule_with_warmup(optimizer=optimizer,\n",
    "                                                num_warmup_steps=0,\n",
    "                                                num_training_steps=num_train_steps)"
   ]
  },
  {
   "cell_type": "code",
   "execution_count": null,
   "metadata": {},
   "outputs": [],
   "source": [
    "#export\n",
    "fit = engine.BertFitter(modeller, (train_dl, valid_dl), optimizer, nn.CrossEntropyLoss(), partial(f1_score, average='macro'), config.DEVICE, scheduler=scheduler, log_file='en_task1_log.txt')\n",
    "# fit = engine.BertFitter(modeller, (train_dl, valid_dl), optimizer, utils.LabelSmoothingCrossEntropy(), partial(f1_score, average='macro'), config.DEVICE, scheduler=scheduler, log_file='en_task1_log.txt')"
   ]
  },
  {
   "cell_type": "code",
   "execution_count": null,
   "metadata": {},
   "outputs": [
    {
     "data": {
      "text/html": [
       "<table border=\"1\" class=\"dataframe\">\n",
       "  <thead>\n",
       "    <tr style=\"text-align: left;\">\n",
       "      <th>epoch</th>\n",
       "      <th>train_loss</th>\n",
       "      <th>valid_loss</th>\n",
       "      <th>metric</th>\n",
       "      <th>time</th>\n",
       "    </tr>\n",
       "  </thead>\n",
       "  <tbody>\n",
       "    <tr>\n",
       "      <td>1</td>\n",
       "      <td>0.469568</td>\n",
       "      <td>0.274709</td>\n",
       "      <td>0.888339</td>\n",
       "      <td>0:1:44</td>\n",
       "    </tr>\n",
       "    <tr>\n",
       "      <td>2</td>\n",
       "      <td>0.248506</td>\n",
       "      <td>0.292492</td>\n",
       "      <td>0.901293</td>\n",
       "      <td>0:1:47</td>\n",
       "    </tr>\n",
       "    <tr>\n",
       "      <td>3</td>\n",
       "      <td>0.191416</td>\n",
       "      <td>0.316064</td>\n",
       "      <td>0.900082</td>\n",
       "      <td>0:1:10</td>\n",
       "    </tr>\n",
       "    <tr>\n",
       "      <td>4</td>\n",
       "      <td>0.153537</td>\n",
       "      <td>0.308095</td>\n",
       "      <td>0.898565</td>\n",
       "      <td>0:0:56</td>\n",
       "    </tr>\n",
       "    <tr>\n",
       "      <td>5</td>\n",
       "      <td>0.119086</td>\n",
       "      <td>0.299318</td>\n",
       "      <td>0.904637</td>\n",
       "      <td>0:0:59</td>\n",
       "    </tr>\n",
       "    <tr>\n",
       "      <td>6</td>\n",
       "      <td>0.109537</td>\n",
       "      <td>0.299131</td>\n",
       "      <td>0.904766</td>\n",
       "      <td>0:1:1</td>\n",
       "    </tr>\n",
       "  </tbody>\n",
       "</table>"
      ],
      "text/plain": [
       "<IPython.core.display.HTML object>"
      ]
     },
     "metadata": {},
     "output_type": "display_data"
    },
    {
     "data": {
      "image/png": "[encoded data removed]",
      "text/plain": [
       "<Figure size 432x288 with 1 Axes>"
      ]
     },
     "metadata": {},
     "output_type": "display_data"
    }
   ],
   "source": [
    "#export\n",
    "NUM_EPOCHS = 6\n",
    "fit.fit(NUM_EPOCHS, model_path=os.path.join(config.MODEL_PATH/'en_task1.pth'))"
   ]
  },
  {
   "cell_type": "code",
   "execution_count": null,
   "metadata": {},
   "outputs": [],
   "source": []
  },
  {
   "cell_type": "markdown",
   "metadata": {},
   "source": [
    "## inference"
   ]
  },
  {
   "cell_type": "code",
   "execution_count": null,
   "metadata": {},
   "outputs": [],
   "source": [
    "#export\n",
    "test_df = pd.read_csv(config.DATA_PATH/'en_task_a/english_test.csv')"
   ]
  },
  {
   "cell_type": "code",
   "execution_count": null,
   "metadata": {},
   "outputs": [
    {
     "data": {
      "text/html": [
       "<div>\n",
       "<style scoped>\n",
       "    .dataframe tbody tr th:only-of-type {\n",
       "        vertical-align: middle;\n",
       "    }\n",
       "\n",
       "    .dataframe tbody tr th {\n",
       "        vertical-align: top;\n",
       "    }\n",
       "\n",
       "    .dataframe thead th {\n",
       "        text-align: right;\n",
       "    }\n",
       "</style>\n",
       "<table border=\"1\" class=\"dataframe\">\n",
       "  <thead>\n",
       "    <tr style=\"text-align: right;\">\n",
       "      <th></th>\n",
       "      <th>tweet_id</th>\n",
       "      <th>text</th>\n",
       "      <th>task1</th>\n",
       "      <th>task2</th>\n",
       "      <th>ID</th>\n",
       "    </tr>\n",
       "  </thead>\n",
       "  <tbody>\n",
       "    <tr>\n",
       "      <th>0</th>\n",
       "      <td>1130081762154090497</td>\n",
       "      <td>RT @delmiyaa: Samini resetting the show and mo...</td>\n",
       "      <td>NOT</td>\n",
       "      <td>NONE</td>\n",
       "      <td>hasoc_2020_en_2713</td>\n",
       "    </tr>\n",
       "    <tr>\n",
       "      <th>1</th>\n",
       "      <td>1130048316807491584</td>\n",
       "      <td>@Swxnsea how do you know that he’s left?</td>\n",
       "      <td>HOF</td>\n",
       "      <td>NONE</td>\n",
       "      <td>hasoc_2020_en_3874</td>\n",
       "    </tr>\n",
       "    <tr>\n",
       "      <th>2</th>\n",
       "      <td>1123657766143504386</td>\n",
       "      <td>Tried to get Divock Origi on a free seeing as ...</td>\n",
       "      <td>NOT</td>\n",
       "      <td>NONE</td>\n",
       "      <td>hasoc_2020_en_281</td>\n",
       "    </tr>\n",
       "    <tr>\n",
       "      <th>3</th>\n",
       "      <td>1126782963042013186</td>\n",
       "      <td>RT @nutclusteruwu: that....is yalls stupid whi...</td>\n",
       "      <td>HOF</td>\n",
       "      <td>PRFN</td>\n",
       "      <td>hasoc_2020_en_2026</td>\n",
       "    </tr>\n",
       "    <tr>\n",
       "      <th>4</th>\n",
       "      <td>1130159113529434113</td>\n",
       "      <td>&amp;amp; IT DID. But a bitch got big girls things...</td>\n",
       "      <td>HOF</td>\n",
       "      <td>PRFN</td>\n",
       "      <td>hasoc_2020_en_4023</td>\n",
       "    </tr>\n",
       "  </tbody>\n",
       "</table>\n",
       "</div>"
      ],
      "text/plain": [
       "              tweet_id  ...                  ID\n",
       "0  1130081762154090497  ...  hasoc_2020_en_2713\n",
       "1  1130048316807491584  ...  hasoc_2020_en_3874\n",
       "2  1123657766143504386  ...   hasoc_2020_en_281\n",
       "3  1126782963042013186  ...  hasoc_2020_en_2026\n",
       "4  1130159113529434113  ...  hasoc_2020_en_4023\n",
       "\n",
       "[5 rows x 5 columns]"
      ]
     },
     "execution_count": null,
     "metadata": {},
     "output_type": "execute_result"
    }
   ],
   "source": [
    "#hide\n",
    "test_df.head()"
   ]
  },
  {
   "cell_type": "code",
   "execution_count": null,
   "metadata": {},
   "outputs": [],
   "source": [
    "#export\n",
    "test_dl = utils.create_loader(test_df.text.values, lbls=[None]*len(test_df.text.values), bs=config.VALID_BATCH_SIZE, is_test=True)"
   ]
  },
  {
   "cell_type": "code",
   "execution_count": null,
   "metadata": {},
   "outputs": [
    {
     "data": {
      "text/plain": [
       "<All keys matched successfully>"
      ]
     },
     "execution_count": null,
     "metadata": {},
     "output_type": "execute_result"
    }
   ],
   "source": [
    "#export\n",
    "modeller = model.HasocModel(len(le.classes_))\n",
    "modeller.load_state_dict(torch.load(config.MODEL_PATH/'en_task1.pth'))"
   ]
  },
  {
   "cell_type": "code",
   "execution_count": null,
   "metadata": {},
   "outputs": [
    {
     "data": {
      "text/html": [
       "\n",
       "    <div>\n",
       "        <style>\n",
       "            /* Turns off some styling */\n",
       "            progress {\n",
       "                /* gets rid of default border in Firefox and Opera. */\n",
       "                border: none;\n",
       "                /* Needs to be in here for Safari polyfill so background images work as expected. */\n",
       "                background-size: auto;\n",
       "            }\n",
       "            .progress-bar-interrupted, .progress-bar-interrupted::-webkit-progress-bar {\n",
       "                background: #F44336;\n",
       "            }\n",
       "        </style>\n",
       "      <progress value='51' class='' max='51' style='width:300px; height:20px; vertical-align: middle;'></progress>\n",
       "      100.00% [51/51 05:24<00:00]\n",
       "    </div>\n",
       "    "
      ],
      "text/plain": [
       "<IPython.core.display.HTML object>"
      ]
     },
     "metadata": {},
     "output_type": "display_data"
    }
   ],
   "source": [
    "#export\n",
    "preds = engine.get_preds(test_dl.dataset, test_dl, modeller, config.DEVICE)"
   ]
  },
  {
   "cell_type": "code",
   "execution_count": null,
   "metadata": {},
   "outputs": [
    {
     "data": {
      "text/plain": [
       "array([1, 1, 1, 0, 0, 1, 0, 0, 1, 0, 0, 0, 0, 1, 0, 0, 1, 1, 1, 0, 1, 0,\n",
       "       1, 1, 0, 0, 0, 0, 1, 1, 1, 1, 1, 1, 1, 1, 0, 0, 0, 1, 0, 0, 0, 0,\n",
       "       0, 1, 0, 1, 1, 0, 0, 1, 1, 0, 0, 1, 1, 1, 1, 1, 0, 0, 0, 1, 0, 1,\n",
       "       1, 0, 0, 1, 1, 1, 1, 1, 1, 1, 0, 1, 1, 0, 0, 1, 0, 0, 1, 1, 1, 0,\n",
       "       1, 0, 1, 1, 0, 0, 1, 0, 0, 0, 1, 1, 0, 1, 1, 0, 0, 0, 0, 1, 1, 0,\n",
       "       0, 1, 1, 1, 0, 0, 1, 1, 1, 0, 1, 0, 0, 0, 0, 1, 1, 1, 0, 0, 0, 0,\n",
       "       0, 0, 0, 0, 0, 1, 0, 1, 1, 1, 1, 1, 0, 1, 0, 1, 0, 0, 1, 1, 1, 0,\n",
       "       1, 1, 1, 0, 1, 1, 0, 1, 1, 0, 0, 0, 1, 0, 1, 0, 1, 1, 0, 0, 1, 0,\n",
       "       1, 1, 1, 1, 0, 1, 0, 0, 1, 1, 1, 0, 1, 0, 1, 1, 0, 0, 1, 1, 1, 0,\n",
       "       0, 1, 0, 0, 0, 0, 1, 1, 1, 0, 0, 0, 1, 0, 0, 1, 0, 1, 0, 1, 1, 0,\n",
       "       1, 0, 0, 1, 0, 1, 0, 1, 1, 0, 0, 1, 0, 0, 0, 0, 0, 1, 0, 1, 0, 0,\n",
       "       1, 1, 1, 0, 1, 1, 1, 1, 0, 1, 1, 0, 0, 0, 0, 1, 0, 0, 0, 1, 1, 0,\n",
       "       0, 1, 1, 1, 0, 1, 1, 1, 0, 1, 0, 0, 1, 0, 0, 0, 0, 0, 1, 1, 1, 0,\n",
       "       1, 0, 0, 0, 1, 1, 0, 0, 0, 0, 1, 1, 0, 1, 1, 1, 1, 1, 0, 0, 0, 0,\n",
       "       1, 1, 1, 0, 0, 0, 1, 0, 1, 0, 0, 1, 0, 1, 1, 1, 1, 0, 0, 1, 0, 1,\n",
       "       0, 0, 1, 1, 1, 1, 1, 0, 1, 1, 0, 1, 1, 1, 0, 1, 0, 0, 0, 1, 0, 0,\n",
       "       0, 1, 1, 0, 1, 1, 0, 1, 0, 1, 0, 0, 0, 1, 1, 0, 0, 1, 1, 0, 1, 1,\n",
       "       1, 1, 0, 1, 0, 1, 0, 1, 0, 0, 1, 0, 0, 1, 0, 0, 0, 1, 0, 1, 1, 1,\n",
       "       1, 0, 1, 0, 1, 0, 0, 0, 1, 1, 0, 0, 0, 0, 0, 1, 0, 1, 1, 1, 1, 0,\n",
       "       0, 1, 0, 1, 0, 0, 1, 0, 1, 1, 0, 1, 1, 0, 1, 0, 0, 1, 1, 0, 0, 0,\n",
       "       1, 1, 1, 0, 0, 1, 0, 1, 1, 1, 0, 1, 0, 1, 0, 1, 1, 0, 1, 1, 1, 0,\n",
       "       1, 1, 0, 1, 1, 0, 1, 1, 1, 1, 0, 1, 0, 1, 0, 0, 1, 1, 1, 1, 1, 0,\n",
       "       0, 0, 0, 0, 1, 1, 0, 0, 1, 0, 1, 0, 1, 0, 0, 1, 1, 1, 1, 0, 1, 0,\n",
       "       1, 1, 1, 1, 1, 0, 1, 0, 1, 0, 1, 0, 1, 1, 1, 1, 0, 0, 1, 0, 1, 0,\n",
       "       1, 1, 0, 0, 0, 0, 0, 1, 0, 1, 0, 0, 0, 0, 1, 1, 1, 1, 1, 1, 1, 0,\n",
       "       1, 1, 1, 1, 0, 1, 1, 0, 1, 0, 0, 0, 0, 1, 0, 1, 0, 1, 0, 1, 0, 1,\n",
       "       0, 1, 1, 1, 1, 0, 1, 1, 0, 0, 1, 0, 0, 0, 0, 0, 0, 1, 1, 0, 0, 0,\n",
       "       0, 0, 0, 1, 1, 0, 0, 0, 1, 1, 1, 1, 1, 0, 1, 0, 1, 0, 0, 1, 0, 0,\n",
       "       0, 1, 1, 1, 0, 1, 0, 1, 1, 0, 1, 0, 1, 1, 1, 1, 1, 0, 1, 0, 0, 0,\n",
       "       1, 1, 0, 0, 1, 1, 0, 1, 1, 0, 0, 1, 0, 1, 1, 0, 0, 1, 1, 1, 1, 1,\n",
       "       0, 0, 1, 1, 0, 0, 1, 1, 1, 1, 1, 0, 1, 1, 0, 1, 1, 0, 0, 0, 1, 0,\n",
       "       0, 1, 1, 0, 1, 0, 0, 0, 0, 1, 1, 1, 0, 0, 0, 1, 1, 1, 1, 0, 1, 0,\n",
       "       0, 0, 0, 1, 1, 1, 0, 1, 0, 1, 1, 0, 1, 1, 0, 1, 1, 0, 0, 0, 0, 0,\n",
       "       0, 1, 0, 0, 0, 1, 1, 0, 1, 0, 1, 0, 0, 1, 0, 0, 1, 0, 0, 0, 0, 0,\n",
       "       0, 0, 0, 1, 0, 0, 0, 1, 0, 0, 1, 1, 1, 1, 0, 0, 0, 1, 1, 1, 1, 1,\n",
       "       1, 0, 0, 0, 1, 0, 0, 1, 0, 1, 1, 0, 1, 1, 0, 1, 0, 0, 0, 0, 0, 0,\n",
       "       1, 1, 1, 1, 1, 0, 1, 0, 0, 0, 0, 0, 1, 0, 1, 0, 1, 1, 1, 1, 1, 1])"
      ]
     },
     "execution_count": null,
     "metadata": {},
     "output_type": "execute_result"
    }
   ],
   "source": [
    "preds"
   ]
  },
  {
   "cell_type": "code",
   "execution_count": null,
   "metadata": {},
   "outputs": [],
   "source": [
    "preds = le.inverse_transform(preds)"
   ]
  },
  {
   "cell_type": "code",
   "execution_count": null,
   "metadata": {},
   "outputs": [
    {
     "data": {
      "text/plain": [
       "array(['NOT', 'NOT', 'NOT', 'HOF', 'HOF', 'NOT', 'HOF', 'HOF', 'NOT',\n",
       "       'HOF', 'HOF', 'HOF', 'HOF', 'NOT', 'HOF', 'HOF', 'NOT', 'NOT',\n",
       "       'NOT', 'HOF', 'NOT', 'HOF', 'NOT', 'NOT', 'HOF', 'HOF', 'HOF',\n",
       "       'HOF', 'NOT', 'NOT', 'NOT', 'NOT', 'NOT', 'NOT', 'NOT', 'NOT',\n",
       "       'HOF', 'HOF', 'HOF', 'NOT', 'HOF', 'HOF', 'HOF', 'HOF', 'HOF',\n",
       "       'NOT', 'HOF', 'NOT', 'NOT', 'HOF', 'HOF', 'NOT', 'NOT', 'HOF',\n",
       "       'HOF', 'NOT', 'NOT', 'NOT', 'NOT', 'NOT', 'HOF', 'HOF', 'HOF',\n",
       "       'NOT', 'HOF', 'NOT', 'NOT', 'HOF', 'HOF', 'NOT', 'NOT', 'NOT',\n",
       "       'NOT', 'NOT', 'NOT', 'NOT', 'HOF', 'NOT', 'NOT', 'HOF', 'HOF',\n",
       "       'NOT', 'HOF', 'HOF', 'NOT', 'NOT', 'NOT', 'HOF', 'NOT', 'HOF',\n",
       "       'NOT', 'NOT', 'HOF', 'HOF', 'NOT', 'HOF', 'HOF', 'HOF', 'NOT',\n",
       "       'NOT', 'HOF', 'NOT', 'NOT', 'HOF', 'HOF', 'HOF', 'HOF', 'NOT',\n",
       "       'NOT', 'HOF', 'HOF', 'NOT', 'NOT', 'NOT', 'HOF', 'HOF', 'NOT',\n",
       "       'NOT', 'NOT', 'HOF', 'NOT', 'HOF', 'HOF', 'HOF', 'HOF', 'NOT',\n",
       "       'NOT', 'NOT', 'HOF', 'HOF', 'HOF', 'HOF', 'HOF', 'HOF', 'HOF',\n",
       "       'HOF', 'HOF', 'NOT', 'HOF', 'NOT', 'NOT', 'NOT', 'NOT', 'NOT',\n",
       "       'HOF', 'NOT', 'HOF', 'NOT', 'HOF', 'HOF', 'NOT', 'NOT', 'NOT',\n",
       "       'HOF', 'NOT', 'NOT', 'NOT', 'HOF', 'NOT', 'NOT', 'HOF', 'NOT',\n",
       "       'NOT', 'HOF', 'HOF', 'HOF', 'NOT', 'HOF', 'NOT', 'HOF', 'NOT',\n",
       "       'NOT', 'HOF', 'HOF', 'NOT', 'HOF', 'NOT', 'NOT', 'NOT', 'NOT',\n",
       "       'HOF', 'NOT', 'HOF', 'HOF', 'NOT', 'NOT', 'NOT', 'HOF', 'NOT',\n",
       "       'HOF', 'NOT', 'NOT', 'HOF', 'HOF', 'NOT', 'NOT', 'NOT', 'HOF',\n",
       "       'HOF', 'NOT', 'HOF', 'HOF', 'HOF', 'HOF', 'NOT', 'NOT', 'NOT',\n",
       "       'HOF', 'HOF', 'HOF', 'NOT', 'HOF', 'HOF', 'NOT', 'HOF', 'NOT',\n",
       "       'HOF', 'NOT', 'NOT', 'HOF', 'NOT', 'HOF', 'HOF', 'NOT', 'HOF',\n",
       "       'NOT', 'HOF', 'NOT', 'NOT', 'HOF', 'HOF', 'NOT', 'HOF', 'HOF',\n",
       "       'HOF', 'HOF', 'HOF', 'NOT', 'HOF', 'NOT', 'HOF', 'HOF', 'NOT',\n",
       "       'NOT', 'NOT', 'HOF', 'NOT', 'NOT', 'NOT', 'NOT', 'HOF', 'NOT',\n",
       "       'NOT', 'HOF', 'HOF', 'HOF', 'HOF', 'NOT', 'HOF', 'HOF', 'HOF',\n",
       "       'NOT', 'NOT', 'HOF', 'HOF', 'NOT', 'NOT', 'NOT', 'HOF', 'NOT',\n",
       "       'NOT', 'NOT', 'HOF', 'NOT', 'HOF', 'HOF', 'NOT', 'HOF', 'HOF',\n",
       "       'HOF', 'HOF', 'HOF', 'NOT', 'NOT', 'NOT', 'HOF', 'NOT', 'HOF',\n",
       "       'HOF', 'HOF', 'NOT', 'NOT', 'HOF', 'HOF', 'HOF', 'HOF', 'NOT',\n",
       "       'NOT', 'HOF', 'NOT', 'NOT', 'NOT', 'NOT', 'NOT', 'HOF', 'HOF',\n",
       "       'HOF', 'HOF', 'NOT', 'NOT', 'NOT', 'HOF', 'HOF', 'HOF', 'NOT',\n",
       "       'HOF', 'NOT', 'HOF', 'HOF', 'NOT', 'HOF', 'NOT', 'NOT', 'NOT',\n",
       "       'NOT', 'HOF', 'HOF', 'NOT', 'HOF', 'NOT', 'HOF', 'HOF', 'NOT',\n",
       "       'NOT', 'NOT', 'NOT', 'NOT', 'HOF', 'NOT', 'NOT', 'HOF', 'NOT',\n",
       "       'NOT', 'NOT', 'HOF', 'NOT', 'HOF', 'HOF', 'HOF', 'NOT', 'HOF',\n",
       "       'HOF', 'HOF', 'NOT', 'NOT', 'HOF', 'NOT', 'NOT', 'HOF', 'NOT',\n",
       "       'HOF', 'NOT', 'HOF', 'HOF', 'HOF', 'NOT', 'NOT', 'HOF', 'HOF',\n",
       "       'NOT', 'NOT', 'HOF', 'NOT', 'NOT', 'NOT', 'NOT', 'HOF', 'NOT',\n",
       "       'HOF', 'NOT', 'HOF', 'NOT', 'HOF', 'HOF', 'NOT', 'HOF', 'HOF',\n",
       "       'NOT', 'HOF', 'HOF', 'HOF', 'NOT', 'HOF', 'NOT', 'NOT', 'NOT',\n",
       "       'NOT', 'HOF', 'NOT', 'HOF', 'NOT', 'HOF', 'HOF', 'HOF', 'NOT',\n",
       "       'NOT', 'HOF', 'HOF', 'HOF', 'HOF', 'HOF', 'NOT', 'HOF', 'NOT',\n",
       "       'NOT', 'NOT', 'NOT', 'HOF', 'HOF', 'NOT', 'HOF', 'NOT', 'HOF',\n",
       "       'HOF', 'NOT', 'HOF', 'NOT', 'NOT', 'HOF', 'NOT', 'NOT', 'HOF',\n",
       "       'NOT', 'HOF', 'HOF', 'NOT', 'NOT', 'HOF', 'HOF', 'HOF', 'NOT',\n",
       "       'NOT', 'NOT', 'HOF', 'HOF', 'NOT', 'HOF', 'NOT', 'NOT', 'NOT',\n",
       "       'HOF', 'NOT', 'HOF', 'NOT', 'HOF', 'NOT', 'NOT', 'HOF', 'NOT',\n",
       "       'NOT', 'NOT', 'HOF', 'NOT', 'NOT', 'HOF', 'NOT', 'NOT', 'HOF',\n",
       "       'NOT', 'NOT', 'NOT', 'NOT', 'HOF', 'NOT', 'HOF', 'NOT', 'HOF',\n",
       "       'HOF', 'NOT', 'NOT', 'NOT', 'NOT', 'NOT', 'HOF', 'HOF', 'HOF',\n",
       "       'HOF', 'HOF', 'NOT', 'NOT', 'HOF', 'HOF', 'NOT', 'HOF', 'NOT',\n",
       "       'HOF', 'NOT', 'HOF', 'HOF', 'NOT', 'NOT', 'NOT', 'NOT', 'HOF',\n",
       "       'NOT', 'HOF', 'NOT', 'NOT', 'NOT', 'NOT', 'NOT', 'HOF', 'NOT',\n",
       "       'HOF', 'NOT', 'HOF', 'NOT', 'HOF', 'NOT', 'NOT', 'NOT', 'NOT',\n",
       "       'HOF', 'HOF', 'NOT', 'HOF', 'NOT', 'HOF', 'NOT', 'NOT', 'HOF',\n",
       "       'HOF', 'HOF', 'HOF', 'HOF', 'NOT', 'HOF', 'NOT', 'HOF', 'HOF',\n",
       "       'HOF', 'HOF', 'NOT', 'NOT', 'NOT', 'NOT', 'NOT', 'NOT', 'NOT',\n",
       "       'HOF', 'NOT', 'NOT', 'NOT', 'NOT', 'HOF', 'NOT', 'NOT', 'HOF',\n",
       "       'NOT', 'HOF', 'HOF', 'HOF', 'HOF', 'NOT', 'HOF', 'NOT', 'HOF',\n",
       "       'NOT', 'HOF', 'NOT', 'HOF', 'NOT', 'HOF', 'NOT', 'NOT', 'NOT',\n",
       "       'NOT', 'HOF', 'NOT', 'NOT', 'HOF', 'HOF', 'NOT', 'HOF', 'HOF',\n",
       "       'HOF', 'HOF', 'HOF', 'HOF', 'NOT', 'NOT', 'HOF', 'HOF', 'HOF',\n",
       "       'HOF', 'HOF', 'HOF', 'NOT', 'NOT', 'HOF', 'HOF', 'HOF', 'NOT',\n",
       "       'NOT', 'NOT', 'NOT', 'NOT', 'HOF', 'NOT', 'HOF', 'NOT', 'HOF',\n",
       "       'HOF', 'NOT', 'HOF', 'HOF', 'HOF', 'NOT', 'NOT', 'NOT', 'HOF',\n",
       "       'NOT', 'HOF', 'NOT', 'NOT', 'HOF', 'NOT', 'HOF', 'NOT', 'NOT',\n",
       "       'NOT', 'NOT', 'NOT', 'HOF', 'NOT', 'HOF', 'HOF', 'HOF', 'NOT',\n",
       "       'NOT', 'HOF', 'HOF', 'NOT', 'NOT', 'HOF', 'NOT', 'NOT', 'HOF',\n",
       "       'HOF', 'NOT', 'HOF', 'NOT', 'NOT', 'HOF', 'HOF', 'NOT', 'NOT',\n",
       "       'NOT', 'NOT', 'NOT', 'HOF', 'HOF', 'NOT', 'NOT', 'HOF', 'HOF',\n",
       "       'NOT', 'NOT', 'NOT', 'NOT', 'NOT', 'HOF', 'NOT', 'NOT', 'HOF',\n",
       "       'NOT', 'NOT', 'HOF', 'HOF', 'HOF', 'NOT', 'HOF', 'HOF', 'NOT',\n",
       "       'NOT', 'HOF', 'NOT', 'HOF', 'HOF', 'HOF', 'HOF', 'NOT', 'NOT',\n",
       "       'NOT', 'HOF', 'HOF', 'HOF', 'NOT', 'NOT', 'NOT', 'NOT', 'HOF',\n",
       "       'NOT', 'HOF', 'HOF', 'HOF', 'HOF', 'NOT', 'NOT', 'NOT', 'HOF',\n",
       "       'NOT', 'HOF', 'NOT', 'NOT', 'HOF', 'NOT', 'NOT', 'HOF', 'NOT',\n",
       "       'NOT', 'HOF', 'HOF', 'HOF', 'HOF', 'HOF', 'HOF', 'NOT', 'HOF',\n",
       "       'HOF', 'HOF', 'NOT', 'NOT', 'HOF', 'NOT', 'HOF', 'NOT', 'HOF',\n",
       "       'HOF', 'NOT', 'HOF', 'HOF', 'NOT', 'HOF', 'HOF', 'HOF', 'HOF',\n",
       "       'HOF', 'HOF', 'HOF', 'HOF', 'NOT', 'HOF', 'HOF', 'HOF', 'NOT',\n",
       "       'HOF', 'HOF', 'NOT', 'NOT', 'NOT', 'NOT', 'HOF', 'HOF', 'HOF',\n",
       "       'NOT', 'NOT', 'NOT', 'NOT', 'NOT', 'NOT', 'HOF', 'HOF', 'HOF',\n",
       "       'NOT', 'HOF', 'HOF', 'NOT', 'HOF', 'NOT', 'NOT', 'HOF', 'NOT',\n",
       "       'NOT', 'HOF', 'NOT', 'HOF', 'HOF', 'HOF', 'HOF', 'HOF', 'HOF',\n",
       "       'NOT', 'NOT', 'NOT', 'NOT', 'NOT', 'HOF', 'NOT', 'HOF', 'HOF',\n",
       "       'HOF', 'HOF', 'HOF', 'NOT', 'HOF', 'NOT', 'HOF', 'NOT', 'NOT',\n",
       "       'NOT', 'NOT', 'NOT', 'NOT'], dtype=object)"
      ]
     },
     "execution_count": null,
     "metadata": {},
     "output_type": "execute_result"
    }
   ],
   "source": [
    "preds"
   ]
  },
  {
   "cell_type": "markdown",
   "metadata": {},
   "source": [
    "## Submission"
   ]
  },
  {
   "cell_type": "code",
   "execution_count": null,
   "metadata": {},
   "outputs": [],
   "source": [
    "#export\n",
    "sub = pd.read_csv(config.DATA_PATH/'en_task_a/english_test.csv')"
   ]
  },
  {
   "cell_type": "code",
   "execution_count": null,
   "metadata": {},
   "outputs": [],
   "source": [
    "#export\n",
    "submission_en_task1_df = test_df.drop(columns=['text', 'task1', 'task2']).copy()"
   ]
  },
  {
   "cell_type": "code",
   "execution_count": null,
   "metadata": {},
   "outputs": [],
   "source": [
    "#export\n",
    "submission_en_task1_df['task1'] = preds"
   ]
  },
  {
   "cell_type": "code",
   "execution_count": null,
   "metadata": {},
   "outputs": [],
   "source": [
    "#export\n",
    "submission_en_task1_df.to_csv(os.path.join('..', 'outputs', 'submission_EN_A.csv'), index=False)"
   ]
  },
  {
   "cell_type": "code",
   "execution_count": null,
   "metadata": {},
   "outputs": [],
   "source": []
  }
 ],
 "metadata": {
  "kernelspec": {
   "display_name": "Python 3",
   "language": "python",
   "name": "python3"
  }
 },
 "nbformat": 4,
 "nbformat_minor": 2
}
