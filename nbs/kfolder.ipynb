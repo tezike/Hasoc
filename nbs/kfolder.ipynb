{
 "cells": [
  {
   "cell_type": "code",
   "execution_count": null,
   "metadata": {},
   "outputs": [],
   "source": [
    "#default_exp"
   ]
  },
  {
   "cell_type": "code",
   "execution_count": null,
   "metadata": {},
   "outputs": [],
   "source": [
    "#export\n",
    "import os\n",
    "import pandas as pd\n",
    "\n",
    "from sklearn.model_selection import StratifiedKFold"
   ]
  },
  {
   "cell_type": "code",
   "execution_count": null,
   "metadata": {},
   "outputs": [],
   "source": [
    "#export\n",
    "df = pd.read_csv(os.path.join('../data', 'en_task_a', 'hasoc_2020_en_train_new.csv'), sep='\\t')"
   ]
  },
  {
   "cell_type": "code",
   "execution_count": null,
   "metadata": {},
   "outputs": [],
   "source": [
    "#export\n",
    "df['kfold_task1'] = -1\n",
    "df['kfold_task2'] = -1\n",
    "df = df.sample(frac=1.,random_state=SEED).reset_index(drop=True)\n",
    "y = df['task1'].values\n",
    "kf = StratifiedKFold(n_splits=5)\n",
    "for fold,(t_,v_) in enumerate(kf.split(X=df,y=y)):\n",
    "    df.loc[v_,'kfold_task1'] = fold\n",
    "\n",
    "df = df.sample(frac=1.,random_state=SEED).reset_index(drop=True)\n",
    "y = df['task2'].values\n",
    "for fold,(t_,v_) in enumerate(kf.split(X=df,y=y)):\n",
    "    df.loc[v_,'kfold_task2'] = fold"
   ]
  },
  {
   "cell_type": "code",
   "execution_count": null,
   "metadata": {},
   "outputs": [],
   "source": [
    "#export\n",
    "df.to_csv(os.path.join('..', 'data', 'fold_df'), index=False)"
   ]
  },
  {
   "cell_type": "code",
   "execution_count": null,
   "metadata": {},
   "outputs": [],
   "source": []
  }
 ],
 "metadata": {
  "kernelspec": {
   "display_name": "Python 3",
   "language": "python",
   "name": "python3"
  }
 },
 "nbformat": 4,
 "nbformat_minor": 2
}
