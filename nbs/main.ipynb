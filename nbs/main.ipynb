{
 "cells": [
  {
   "cell_type": "code",
   "execution_count": null,
   "metadata": {},
   "outputs": [],
   "source": [
    "#default_exp main"
   ]
  },
  {
   "cell_type": "code",
   "execution_count": null,
   "metadata": {},
   "outputs": [],
   "source": [
    "#export\n",
    "import os\n",
    "import pandas as pd\n",
    "import numpy as np\n",
    "import transformers\n",
    "\n",
    "from fastai.text.all import *\n",
    "\n",
    "from Hasoc import utils\n",
    "from Hasoc import model"
   ]
  },
  {
   "cell_type": "code",
   "execution_count": null,
   "metadata": {},
   "outputs": [],
   "source": [
    "#export\n",
    "SEED = 42\n",
    "utils.seed_everything(seed=SEED)"
   ]
  },
  {
   "cell_type": "code",
   "execution_count": null,
   "metadata": {},
   "outputs": [],
   "source": [
    "#export \n",
    "MODEL_NAME = 'bert-base-uncased'\n",
    "MAX_SEQ_LEN = 72\n",
    "device = torch.device('cuda') if torch.cuda.is_available() else torch.device('cpu')"
   ]
  },
  {
   "cell_type": "code",
   "execution_count": null,
   "metadata": {},
   "outputs": [],
   "source": [
    "df = pd.read_csv(os.path.join('..', 'data', 'fold_df'))"
   ]
  },
  {
   "cell_type": "code",
   "execution_count": null,
   "metadata": {},
   "outputs": [
    {
     "data": {
      "text/plain": [
       "(3708, 7)"
      ]
     },
     "execution_count": null,
     "metadata": {},
     "output_type": "execute_result"
    }
   ],
   "source": [
    "df.shape"
   ]
  },
  {
   "cell_type": "code",
   "execution_count": null,
   "metadata": {},
   "outputs": [
    {
     "data": {
      "text/html": [
       "<div>\n",
       "<style scoped>\n",
       "    .dataframe tbody tr th:only-of-type {\n",
       "        vertical-align: middle;\n",
       "    }\n",
       "\n",
       "    .dataframe tbody tr th {\n",
       "        vertical-align: top;\n",
       "    }\n",
       "\n",
       "    .dataframe thead th {\n",
       "        text-align: right;\n",
       "    }\n",
       "</style>\n",
       "<table border=\"1\" class=\"dataframe\">\n",
       "  <thead>\n",
       "    <tr style=\"text-align: right;\">\n",
       "      <th></th>\n",
       "      <th>tweet_id</th>\n",
       "      <th>text</th>\n",
       "      <th>task1</th>\n",
       "      <th>task2</th>\n",
       "      <th>ID</th>\n",
       "      <th>kfold_task1</th>\n",
       "      <th>kfold_task2</th>\n",
       "    </tr>\n",
       "  </thead>\n",
       "  <tbody>\n",
       "    <tr>\n",
       "      <th>1783</th>\n",
       "      <td>1.127040e+18</td>\n",
       "      <td>RT @theblondeMD: Every time I go on a rant I lose followers but honestly if you’re anti vax, or anti choice I dont want you here anyway 👏🏼…</td>\n",
       "      <td>NOT</td>\n",
       "      <td>NONE</td>\n",
       "      <td>hasoc_2020_en_332</td>\n",
       "      <td>0</td>\n",
       "      <td>2</td>\n",
       "    </tr>\n",
       "    <tr>\n",
       "      <th>1929</th>\n",
       "      <td>1.123619e+18</td>\n",
       "      <td>RT @btsvotingteam: Do you want to see our TOTAL VOTES ACCUMULATED FOR TODAY?\\n\\nTo unlock\\n🔐 11,000 RTs \\n🔐 4,000 Replies\\nIn just 1 hour... \\n\\n#…</td>\n",
       "      <td>NOT</td>\n",
       "      <td>NONE</td>\n",
       "      <td>hasoc_2020_en_1328</td>\n",
       "      <td>4</td>\n",
       "      <td>2</td>\n",
       "    </tr>\n",
       "  </tbody>\n",
       "</table>\n",
       "</div>"
      ],
      "text/plain": [
       "          tweet_id  ... kfold_task2\n",
       "1783  1.127040e+18  ...           2\n",
       "1929  1.123619e+18  ...           2\n",
       "\n",
       "[2 rows x 7 columns]"
      ]
     },
     "execution_count": null,
     "metadata": {},
     "output_type": "execute_result"
    }
   ],
   "source": [
    "#hide\n",
    "df.sample(2)"
   ]
  },
  {
   "cell_type": "code",
   "execution_count": null,
   "metadata": {},
   "outputs": [
    {
     "data": {
      "text/plain": [
       "HOF    1856\n",
       "NOT    1852\n",
       "Name: task1, dtype: int64"
      ]
     },
     "execution_count": null,
     "metadata": {},
     "output_type": "execute_result"
    }
   ],
   "source": [
    "#hide\n",
    "df['task1'].value_counts()"
   ]
  },
  {
   "cell_type": "code",
   "execution_count": null,
   "metadata": {},
   "outputs": [
    {
     "data": {
      "text/plain": [
       "NONE    1852\n",
       "PRFN    1377\n",
       "OFFN     321\n",
       "HATE     158\n",
       "Name: task2, dtype: int64"
      ]
     },
     "execution_count": null,
     "metadata": {},
     "output_type": "execute_result"
    }
   ],
   "source": [
    "#hide\n",
    "df['task2'].value_counts()"
   ]
  },
  {
   "cell_type": "code",
   "execution_count": null,
   "metadata": {},
   "outputs": [],
   "source": [
    "#export\n",
    "df.tweet_id = df.tweet_id.astype('int').astype('str')"
   ]
  },
  {
   "cell_type": "code",
   "execution_count": null,
   "metadata": {},
   "outputs": [],
   "source": [
    "#export\n",
    "bert_tokenizer = transformers.BertTokenizer.from_pretrained(\n",
    "            pretrained_model_name_or_path=MODEL_NAME,\n",
    "            do_lower_case=True,\n",
    "            )"
   ]
  },
  {
   "cell_type": "code",
   "execution_count": null,
   "metadata": {},
   "outputs": [],
   "source": [
    "bert_vocab = bert_tokenizer.get_vocab()\n",
    "bert2fastai_vocab = [k for k, v in sorted(bert_vocab.items(), key=lambda item: item[1])]"
   ]
  },
  {
   "cell_type": "code",
   "execution_count": null,
   "metadata": {},
   "outputs": [],
   "source": [
    "#export \n",
    "pad = partial(pad_input_chunk, pad_first=False, pad_idx=bert_tokenizer.pad_token_id, seq_len=MAX_SEQ_LEN)"
   ]
  },
  {
   "cell_type": "code",
   "execution_count": null,
   "metadata": {},
   "outputs": [],
   "source": [
    "#export\n",
    "custom_tokenizer = Tokenizer.from_df(text_cols='text', tok=utils.HFTokenizer(tokenizer=bert_tokenizer), rules=[])"
   ]
  },
  {
   "cell_type": "code",
   "execution_count": null,
   "metadata": {},
   "outputs": [],
   "source": [
    "#export\n",
    "tfms = [attrgetter('text'), custom_tokenizer, Numericalize(vocab=bert2fastai_vocab), utils.Add_Special_Cls(tokenizer=bert_tokenizer)]"
   ]
  },
  {
   "cell_type": "markdown",
   "metadata": {},
   "source": [
    "## Task 1"
   ]
  },
  {
   "cell_type": "code",
   "execution_count": null,
   "metadata": {},
   "outputs": [],
   "source": [
    "fold = 0\n",
    "splits = IndexSplitter(list(df.query(f'kfold_task1 == {fold}').index))(df)"
   ]
  },
  {
   "cell_type": "code",
   "execution_count": null,
   "metadata": {},
   "outputs": [
    {
     "data": {
      "text/plain": [
       "((#2966) [0,1,2,4,5,6,8,9,10,13...], (#742) [3,7,11,12,16,32,33,38,41,45...])"
      ]
     },
     "execution_count": null,
     "metadata": {},
     "output_type": "execute_result"
    }
   ],
   "source": [
    "#hide\n",
    "splits"
   ]
  },
  {
   "cell_type": "code",
   "execution_count": null,
   "metadata": {},
   "outputs": [
    {
     "data": {
      "text/html": [],
      "text/plain": [
       "<IPython.core.display.HTML object>"
      ]
     },
     "metadata": {},
     "output_type": "display_data"
    }
   ],
   "source": [
    "#export\n",
    "dsets = Datasets(df, tfms=[tfms, [attrgetter('task1'), Categorize()]], splits=splits, dl_type=SortedDL)"
   ]
  },
  {
   "cell_type": "code",
   "execution_count": null,
   "metadata": {},
   "outputs": [],
   "source": [
    "#export\n",
    "# splits = RandomSplitter()(df)"
   ]
  },
  {
   "cell_type": "code",
   "execution_count": null,
   "metadata": {},
   "outputs": [],
   "source": [
    "#export\n",
    "dls_clas = dsets.dataloaders(bs=56, val_bs=144, before_batch=[pad], seq_len=MAX_SEQ_LEN)"
   ]
  },
  {
   "cell_type": "code",
   "execution_count": null,
   "metadata": {},
   "outputs": [
    {
     "data": {
      "text/html": [
       "<table border=\"1\" class=\"dataframe\">\n",
       "  <thead>\n",
       "    <tr style=\"text-align: right;\">\n",
       "      <th></th>\n",
       "      <th>text</th>\n",
       "      <th>category</th>\n",
       "    </tr>\n",
       "  </thead>\n",
       "  <tbody>\n",
       "    <tr>\n",
       "      <th>0</th>\n",
       "      <td>[CLS] rt @ na ##lu _ for _ you : after na ##lu one of my favourite [UNK] - - - - - - - - - - - - - - - - - - - - - - - - - - - - - - - - - - - - - - - - - - - - - - - - - - - - - - - - - - - - - - - - - - - - - - - - - - - - - - - - - - … [SEP]</td>\n",
       "      <td>NOT</td>\n",
       "    </tr>\n",
       "    <tr>\n",
       "      <th>1</th>\n",
       "      <td>[CLS] rt @ 780 ##6 ##13 : seo ##k ##jin ##s mom : how can u not see me when im cheering like \" ah ##hh ##h ! ! ! ya ##hh ##h ! ! ! ! ! ! seo ##k ##jin - ah ! ! ! ! ! ! ! ! ! ! ! ! ! ! ! ! ! ! ! ya ##hh ##hh ##h ! ! ! ! ! ! ! ! ! ! \" … [SEP] [PAD] [PAD] [PAD] [PAD] [PAD] [PAD] [PAD] [PAD] [PAD] [PAD] [PAD] [PAD] [PAD] [PAD] [PAD] [PAD] [PAD] [PAD] [PAD] [PAD] [PAD] [PAD]</td>\n",
       "      <td>NOT</td>\n",
       "    </tr>\n",
       "  </tbody>\n",
       "</table>"
      ],
      "text/plain": [
       "<IPython.core.display.HTML object>"
      ]
     },
     "metadata": {},
     "output_type": "display_data"
    }
   ],
   "source": [
    "#export\n",
    "dls_clas.show_batch(max_n=2)"
   ]
  },
  {
   "cell_type": "code",
   "execution_count": null,
   "metadata": {},
   "outputs": [],
   "source": [
    "#export\n",
    "modeller = model.HasocModel(out_feat=dsets.c)"
   ]
  },
  {
   "cell_type": "code",
   "execution_count": null,
   "metadata": {},
   "outputs": [],
   "source": [
    "#export\n",
    "learn = Learner(dls_clas, modeller.to(device), metrics=[accuracy, F1Score(average='macro')], \n",
    "                drop_mult=0.3, device=device, loss_func=CrossEntropyLossFlat())"
   ]
  },
  {
   "cell_type": "code",
   "execution_count": null,
   "metadata": {},
   "outputs": [
    {
     "data": {
      "text/html": [],
      "text/plain": [
       "<IPython.core.display.HTML object>"
      ]
     },
     "metadata": {},
     "output_type": "display_data"
    },
    {
     "data": {
      "text/plain": [
       "SuggestedLRs(lr_min=0.0001737800776027143, lr_steep=0.0005754399462603033)"
      ]
     },
     "execution_count": null,
     "metadata": {},
     "output_type": "execute_result"
    },
    {
     "data": {
      "image/png": "[encoded data removed]",
      "text/plain": [
       "<Figure size 432x288 with 1 Axes>"
      ]
     },
     "metadata": {
      "needs_background": "light"
     },
     "output_type": "display_data"
    }
   ],
   "source": [
    "#export\n",
    "learn.lr_find()"
   ]
  },
  {
   "cell_type": "code",
   "execution_count": null,
   "metadata": {},
   "outputs": [
    {
     "data": {
      "text/html": [
       "<table border=\"1\" class=\"dataframe\">\n",
       "  <thead>\n",
       "    <tr style=\"text-align: left;\">\n",
       "      <th>epoch</th>\n",
       "      <th>train_loss</th>\n",
       "      <th>valid_loss</th>\n",
       "      <th>accuracy</th>\n",
       "      <th>f1_score</th>\n",
       "      <th>time</th>\n",
       "    </tr>\n",
       "  </thead>\n",
       "  <tbody>\n",
       "    <tr>\n",
       "      <td>0</td>\n",
       "      <td>0.503764</td>\n",
       "      <td>0.273966</td>\n",
       "      <td>0.907008</td>\n",
       "      <td>0.906994</td>\n",
       "      <td>00:21</td>\n",
       "    </tr>\n",
       "    <tr>\n",
       "      <td>1</td>\n",
       "      <td>0.313423</td>\n",
       "      <td>0.253474</td>\n",
       "      <td>0.902965</td>\n",
       "      <td>0.902920</td>\n",
       "      <td>00:22</td>\n",
       "    </tr>\n",
       "    <tr>\n",
       "      <td>2</td>\n",
       "      <td>0.217105</td>\n",
       "      <td>0.282782</td>\n",
       "      <td>0.901617</td>\n",
       "      <td>0.901617</td>\n",
       "      <td>00:21</td>\n",
       "    </tr>\n",
       "    <tr>\n",
       "      <td>3</td>\n",
       "      <td>0.141862</td>\n",
       "      <td>0.354812</td>\n",
       "      <td>0.893531</td>\n",
       "      <td>0.893236</td>\n",
       "      <td>00:22</td>\n",
       "    </tr>\n",
       "    <tr>\n",
       "      <td>4</td>\n",
       "      <td>0.080504</td>\n",
       "      <td>0.387372</td>\n",
       "      <td>0.902965</td>\n",
       "      <td>0.902959</td>\n",
       "      <td>00:22</td>\n",
       "    </tr>\n",
       "    <tr>\n",
       "      <td>5</td>\n",
       "      <td>0.042611</td>\n",
       "      <td>0.405715</td>\n",
       "      <td>0.908356</td>\n",
       "      <td>0.908356</td>\n",
       "      <td>00:23</td>\n",
       "    </tr>\n",
       "    <tr>\n",
       "      <td>6</td>\n",
       "      <td>0.028835</td>\n",
       "      <td>0.410404</td>\n",
       "      <td>0.900270</td>\n",
       "      <td>0.900243</td>\n",
       "      <td>00:22</td>\n",
       "    </tr>\n",
       "  </tbody>\n",
       "</table>"
      ],
      "text/plain": [
       "<IPython.core.display.HTML object>"
      ]
     },
     "metadata": {},
     "output_type": "display_data"
    }
   ],
   "source": [
    "#export\n",
    "lr = 2e-4\n",
    "\n",
    "# learn.fit_one_cycle(7, lr, moms=(0.8,0.7,0.8), wd=0.1)\n",
    "learn.fit_one_cycle(7, lr)"
   ]
  },
  {
   "cell_type": "code",
   "execution_count": null,
   "metadata": {},
   "outputs": [],
   "source": [
    "#export\n",
    "learn.export(os.path.join('models', 'task1.pkl'))\n",
    "# learn.save((os.path.join('task1')))"
   ]
  },
  {
   "cell_type": "markdown",
   "metadata": {},
   "source": [
    "## Task2"
   ]
  },
  {
   "cell_type": "markdown",
   "metadata": {},
   "source": [
    "Try focalloss too"
   ]
  },
  {
   "cell_type": "code",
   "execution_count": null,
   "metadata": {},
   "outputs": [],
   "source": [
    "fold = 0\n",
    "splits = IndexSplitter(list(df.query(f'kfold_task2 == {fold}').index))(df)"
   ]
  },
  {
   "cell_type": "code",
   "execution_count": null,
   "metadata": {},
   "outputs": [
    {
     "data": {
      "text/html": [],
      "text/plain": [
       "<IPython.core.display.HTML object>"
      ]
     },
     "metadata": {},
     "output_type": "display_data"
    }
   ],
   "source": [
    "#export\n",
    "dsets = Datasets(df, tfms=[tfms, [attrgetter('task2'), Categorize()]], splits=splits, dl_type=SortedDL)"
   ]
  },
  {
   "cell_type": "code",
   "execution_count": null,
   "metadata": {},
   "outputs": [
    {
     "data": {
      "text/plain": [
       "(#4) ['HATE','NONE','OFFN','PRFN']"
      ]
     },
     "execution_count": null,
     "metadata": {},
     "output_type": "execute_result"
    }
   ],
   "source": [
    "dsets.categorize.vocab"
   ]
  },
  {
   "cell_type": "code",
   "execution_count": null,
   "metadata": {},
   "outputs": [],
   "source": [
    "from collections import Counter\n",
    "count = Counter(df.task2).values()\n",
    "class_weights = np.array([1/Counter(df.task2)[str(v)] for v in dsets.categorize.vocab])"
   ]
  },
  {
   "cell_type": "code",
   "execution_count": null,
   "metadata": {},
   "outputs": [
    {
     "data": {
      "text/plain": [
       "array([0.00632911, 0.00053996, 0.00311526, 0.00072622])"
      ]
     },
     "execution_count": null,
     "metadata": {},
     "output_type": "execute_result"
    }
   ],
   "source": [
    "class_weights"
   ]
  },
  {
   "cell_type": "code",
   "execution_count": null,
   "metadata": {},
   "outputs": [
    {
     "data": {
      "text/plain": [
       "array([0.00632911, 0.00053996, 0.00311526, 0.00072622])"
      ]
     },
     "execution_count": null,
     "metadata": {},
     "output_type": "execute_result"
    }
   ],
   "source": [
    "#hide\n",
    "class_weights"
   ]
  },
  {
   "cell_type": "code",
   "execution_count": null,
   "metadata": {},
   "outputs": [
    {
     "data": {
      "text/plain": [
       "array(['PRFN', 'PRFN', 'PRFN'], dtype=object)"
      ]
     },
     "execution_count": null,
     "metadata": {},
     "output_type": "execute_result"
    }
   ],
   "source": [
    "#hide\n",
    "dsets.train.items['task2'].values[:3]"
   ]
  },
  {
   "cell_type": "code",
   "execution_count": null,
   "metadata": {},
   "outputs": [],
   "source": [
    "#export\n",
    "weights = class_weights[L(dsets.train).map(lambda x: x[1])]"
   ]
  },
  {
   "cell_type": "code",
   "execution_count": null,
   "metadata": {},
   "outputs": [
    {
     "data": {
      "text/plain": [
       "(array([0.00072622, 0.00072622, 0.00053996, 0.00072622, 0.00072622,\n",
       "        0.00072622, 0.00053996, 0.00053996, 0.00053996, 0.00072622]),\n",
       " array([0.00053996, 0.00072622, 0.00311526, 0.00632911]))"
      ]
     },
     "execution_count": null,
     "metadata": {},
     "output_type": "execute_result"
    }
   ],
   "source": [
    "#hide\n",
    "weights[20:30], np.unique(weights)"
   ]
  },
  {
   "cell_type": "code",
   "execution_count": null,
   "metadata": {},
   "outputs": [
    {
     "data": {
      "text/plain": [
       "(2966,)"
      ]
     },
     "execution_count": null,
     "metadata": {},
     "output_type": "execute_result"
    }
   ],
   "source": [
    "weights.shape\n"
   ]
  },
  {
   "cell_type": "code",
   "execution_count": null,
   "metadata": {},
   "outputs": [],
   "source": [
    "def one_hot_embedding(labels, num_classes):\n",
    "    return torch.eye(num_classes)[labels.data.cpu()]\n",
    "\n",
    "class FocalLoss(nn.Module):\n",
    "    def __init__(self, alpha=1, gamma=2, logits=True, reduce=True, device=device):\n",
    "        super(FocalLoss, self).__init__()\n",
    "        self.alpha = alpha\n",
    "        self.gamma = gamma\n",
    "        self.logits = logits\n",
    "        self.reduce = reduce\n",
    "        self.device = device\n",
    "        self.axis = -1\n",
    "\n",
    "    def forward(self, inputs, targets):\n",
    "        targets = one_hot_embedding(targets, inputs.size(-1)).to(self.device)\n",
    "        if self.logits:\n",
    "            BCE_loss = F.binary_cross_entropy_with_logits(inputs, targets)\n",
    "        else:\n",
    "            BCE_loss = F.binary_cross_entropy(inputs, targets)\n",
    "\n",
    "        pt = torch.exp(-BCE_loss)\n",
    "        F_loss = self.alpha * (1-pt)**self.gamma * BCE_loss\n",
    "\n",
    "        if self.reduce:\n",
    "            return torch.mean(F_loss)\n",
    "        else:\n",
    "            return F_loss"
   ]
  },
  {
   "cell_type": "code",
   "execution_count": null,
   "metadata": {},
   "outputs": [],
   "source": [
    "class FocalLossFlat(BaseLoss):\n",
    "    \"Same as `FocalLoss`, but flattens input and target.\"\n",
    "    y_int = True\n",
    "    @use_kwargs_dict(keep=True, weight=None, ignore_index=-100, reduction='mean')\n",
    "    def __init__(self, *args, axis=-1, **kwargs): super().__init__(FocalLoss, *args, axis=axis, **kwargs)\n",
    "    def decodes(self, x):    return x.argmax(dim=self.axis)\n",
    "    def activation(self, x): return F.softmax(x, dim=self.axis)"
   ]
  },
  {
   "cell_type": "code",
   "execution_count": null,
   "metadata": {},
   "outputs": [],
   "source": [
    "#export\n",
    "dls_clas = dsets.dataloaders(bs=56, val_bs=144, before_batch=[pad], seq_len=MAX_SEQ_LEN)\n",
    "\n",
    "# dls_clas = dsets.weighted_dataloaders(wgts=weights, bs=56,val_bs=144, before_batch=[pad], seq_len=MAX_SEQ_LEN)"
   ]
  },
  {
   "cell_type": "code",
   "execution_count": null,
   "metadata": {},
   "outputs": [
    {
     "data": {
      "text/html": [
       "<table border=\"1\" class=\"dataframe\">\n",
       "  <thead>\n",
       "    <tr style=\"text-align: right;\">\n",
       "      <th></th>\n",
       "      <th>text</th>\n",
       "      <th>category</th>\n",
       "    </tr>\n",
       "  </thead>\n",
       "  <tbody>\n",
       "    <tr>\n",
       "      <th>0</th>\n",
       "      <td>[CLS] rt @ sud ##out ##ats ##uy ##a : eat shit grammar nazis ! ! ! ! ! ! ! ! ! ! ! ! ! ! ! ! ! ! ! ! ! ! ! ! ! ! ! ! ! ! ! ! ! ! ! ! ! ! ! ! ! ! ! ! ! ! ! ! ! ! ! ! ! ! ! ! ! ! ! ! ! ! ! ! ! ! ! ! ! ! ! ! ! ! ! ! ! ! ! ! ! ! ! ! ! ! ! ! ! ! ! ! ! [SEP]</td>\n",
       "      <td>OFFN</td>\n",
       "    </tr>\n",
       "    <tr>\n",
       "      <th>1</th>\n",
       "      <td>[CLS] rt @ 780 ##6 ##13 : seo ##k ##jin ##s mom : how can u not see me when im cheering like \" ah ##hh ##h ! ! ! ya ##hh ##h ! ! ! ! ! ! seo ##k ##jin - ah ! ! ! ! ! ! ! ! ! ! ! ! ! ! ! ! ! ! ! ya ##hh ##hh ##h ! ! ! ! ! ! ! ! ! ! \" … [SEP] [PAD] [PAD] [PAD] [PAD] [PAD] [PAD] [PAD] [PAD] [PAD] [PAD] [PAD] [PAD] [PAD] [PAD] [PAD] [PAD] [PAD] [PAD] [PAD] [PAD] [PAD] [PAD] [PAD] [PAD] [PAD] [PAD] [PAD]</td>\n",
       "      <td>NONE</td>\n",
       "    </tr>\n",
       "  </tbody>\n",
       "</table>"
      ],
      "text/plain": [
       "<IPython.core.display.HTML object>"
      ]
     },
     "metadata": {},
     "output_type": "display_data"
    }
   ],
   "source": [
    "#export\n",
    "dls_clas.show_batch(max_n=2)"
   ]
  },
  {
   "cell_type": "code",
   "execution_count": null,
   "metadata": {},
   "outputs": [],
   "source": [
    "#export\n",
    "modeller = model.HasocModel(out_feat=dsets.c)"
   ]
  },
  {
   "cell_type": "code",
   "execution_count": null,
   "metadata": {},
   "outputs": [],
   "source": [
    "#export\n",
    "learn = Learner(dls_clas, modeller.to(device), metrics=[accuracy, F1Score(average='macro')], drop_mult=0.3, device=device, loss_func=FocalLossFlat())"
   ]
  },
  {
   "cell_type": "code",
   "execution_count": null,
   "metadata": {},
   "outputs": [
    {
     "data": {
      "text/plain": [
       "(#201) [('model.embeddings.word_embeddings.weight', Parameter containing:\n",
       "tensor([[-0.0102, -0.0615, -0.0265,  ..., -0.0198, -0.0372, -0.0097],\n",
       "        [-0.0117, -0.0600, -0.0323,  ..., -0.0168, -0.0401, -0.0107],\n",
       "        [-0.0197, -0.0627, -0.0326,  ..., -0.0165, -0.0420, -0.0032],\n",
       "        ...,\n",
       "        [-0.0218, -0.0556, -0.0135,  ..., -0.0043, -0.0151, -0.0249],\n",
       "        [-0.0462, -0.0565, -0.0019,  ...,  0.0157, -0.0139, -0.0094],\n",
       "        [ 0.0015, -0.0821, -0.0160,  ..., -0.0081, -0.0474,  0.0752]],\n",
       "       device='cuda:0', requires_grad=True)),('model.embeddings.position_embeddings.weight', Parameter containing:\n",
       "tensor([[ 0.0185, -0.0255, -0.0344,  ..., -0.0015, -0.0008,  0.0133],\n",
       "        [ 0.0076,  0.0006, -0.0191,  ...,  0.0288,  0.0315, -0.0062],\n",
       "        [-0.0120, -0.0019, -0.0125,  ...,  0.0130,  0.0184, -0.0070],\n",
       "        ...,\n",
       "        [ 0.0174,  0.0035, -0.0096,  ...,  0.0030,  0.0004, -0.0269],\n",
       "        [ 0.0217, -0.0060,  0.0147,  ..., -0.0056, -0.0126, -0.0281],\n",
       "        [ 0.0026, -0.0233,  0.0055,  ...,  0.0175,  0.0275, -0.0776]],\n",
       "       device='cuda:0', requires_grad=True)),('model.embeddings.token_type_embeddings.weight', Parameter containing:\n",
       "tensor([[ 0.0004,  0.0109,  0.0037,  ..., -0.0071, -0.0046, -0.0066],\n",
       "        [ 0.0011, -0.0030, -0.0032,  ...,  0.0047, -0.0052, -0.0112]],\n",
       "       device='cuda:0', requires_grad=True)),('model.embeddings.LayerNorm.weight', Parameter containing:\n",
       "tensor([0.9280, 0.8846, 0.8591, 0.8618, 0.8942, 0.8973, 0.9281, 0.9144, 0.9355,\n",
       "        0.8076, 0.7992, 0.8045, 0.9050, 0.8196, 0.9107, 0.8524, 0.8182, 0.8630,\n",
       "        0.9159, 0.8658, 0.9242, 0.8691, 0.9001, 0.8683, 0.8442, 0.8992, 0.7886,\n",
       "        0.9274, 0.8499, 0.8423, 0.9163, 0.8637, 0.9187, 0.9668, 0.8853, 0.8706,\n",
       "        0.9096, 0.8738, 0.9127, 0.8861, 0.9126, 0.9381, 0.8832, 0.8639, 0.8815,\n",
       "        0.8739, 0.8553, 0.9484, 0.9173, 0.9373, 0.9237, 0.8493, 0.9295, 0.3425,\n",
       "        0.8676, 0.8209, 0.8710, 0.8559, 0.8915, 0.8059, 0.8989, 0.8493, 0.3865,\n",
       "        0.8908, 0.8911, 0.8823, 0.8954, 0.9549, 0.8932, 0.8943, 0.9472, 0.9481,\n",
       "        0.9356, 0.7817, 0.9272, 0.7942, 0.8801, 0.3834, 0.7907, 0.8441, 0.8843,\n",
       "        0.9203, 0.9290, 0.8972, 0.7795, 0.8255, 0.8729, 0.8791, 0.9020, 0.9194,\n",
       "        0.8585, 0.8753, 0.7112, 0.8616, 0.8980, 0.8114, 0.4015, 0.7909, 0.8899,\n",
       "        0.9133, 0.9440, 0.9485, 0.8774, 0.8404, 0.8022, 0.2921, 0.9315, 0.9067,\n",
       "        0.8850, 0.8099, 0.9072, 0.8938, 0.9052, 0.9145, 0.9005, 0.8709, 0.8969,\n",
       "        0.9019, 0.8904, 0.8989, 0.8692, 0.1504, 0.8718, 0.8867, 0.6447, 0.8545,\n",
       "        0.8682, 0.7918, 0.8956, 0.8395, 0.9147, 0.8858, 0.3995, 0.8843, 0.8935,\n",
       "        0.9253, 0.9019, 0.8299, 0.9027, 0.4227, 0.9173, 0.9099, 0.9207, 0.9113,\n",
       "        0.9163, 0.1884, 0.9135, 0.8452, 0.8432, 0.8336, 0.8103, 0.9038, 0.7354,\n",
       "        0.8830, 0.9492, 0.9119, 0.9144, 0.8349, 0.9144, 0.1204, 0.9093, 0.9136,\n",
       "        0.8472, 0.9786, 0.9153, 0.9168, 0.8635, 0.8426, 0.3816, 0.8958, 0.9380,\n",
       "        0.8969, 0.8267, 0.9451, 0.9306, 0.1195, 0.8456, 0.8426, 0.8707, 0.8622,\n",
       "        0.8916, 0.9368, 0.8708, 0.9332, 0.9355, 0.9195, 0.9235, 0.8710, 0.9325,\n",
       "        0.8415, 0.8837, 0.8887, 0.8727, 0.8570, 0.8752, 0.8863, 0.9129, 0.9141,\n",
       "        0.7975, 0.8083, 0.8707, 0.8995, 0.2732, 0.8642, 0.8601, 0.8350, 0.9149,\n",
       "        0.8446, 0.9379, 0.8700, 0.8545, 0.9518, 0.8375, 0.9070, 0.8750, 0.2625,\n",
       "        0.1284, 0.9083, 0.5235, 0.8552, 0.9286, 0.8832, 0.9447, 0.8799, 0.8199,\n",
       "        0.3507, 0.8355, 0.7810, 0.9299, 0.8984, 0.8723, 0.8793, 0.8816, 0.9106,\n",
       "        0.9149, 0.8836, 0.8652, 0.8025, 0.9248, 0.7937, 0.8353, 0.8908, 0.9033,\n",
       "        0.8651, 0.8434, 0.3903, 0.8418, 0.8434, 0.8599, 0.4839, 0.8934, 0.8776,\n",
       "        0.8729, 0.8638, 0.9101, 0.8620, 0.8450, 0.8712, 0.8530, 0.8730, 0.9331,\n",
       "        0.8838, 0.9369, 0.8984, 0.7934, 0.8595, 0.9072, 0.8960, 0.9095, 0.9110,\n",
       "        0.8738, 0.8943, 0.8614, 0.8629, 0.9331, 0.9353, 0.8350, 0.8554, 0.8918,\n",
       "        0.9049, 0.8426, 0.9003, 0.9279, 0.3168, 0.8988, 0.8286, 0.8622, 0.9168,\n",
       "        0.8569, 0.9314, 0.8464, 0.4057, 0.8597, 0.8962, 0.8600, 0.8018, 0.3456,\n",
       "        0.9174, 0.8939, 0.8907, 0.8672, 0.9260, 0.9158, 0.8957, 0.7489, 0.9140,\n",
       "        0.8535, 0.8826, 0.8649, 0.8912, 0.8599, 0.3870, 0.8892, 0.8916, 0.9542,\n",
       "        0.8451, 0.9215, 0.9113, 0.8899, 0.4427, 0.8932, 0.8649, 0.8799, 0.8961,\n",
       "        0.9045, 0.9104, 0.8704, 0.9078, 0.9007, 0.8646, 0.8223, 0.4172, 0.8473,\n",
       "        0.9078, 0.8802, 0.8426, 0.8393, 0.9284, 0.9081, 0.9176, 0.7756, 0.8786,\n",
       "        0.8787, 0.8967, 0.8641, 0.3751, 0.9120, 0.8274, 0.8864, 0.9575, 0.9160,\n",
       "        0.9294, 0.9015, 0.2794, 0.8999, 0.9052, 0.8854, 0.8614, 0.8896, 0.8577,\n",
       "        0.9039, 0.8388, 0.8240, 0.8367, 0.9080, 0.8721, 0.8772, 0.8787, 0.8925,\n",
       "        0.8322, 0.8984, 0.8290, 0.9301, 0.8438, 0.8889, 0.9727, 0.9016, 0.8933,\n",
       "        0.8349, 0.9221, 0.8773, 0.5691, 0.8962, 0.9154, 0.8904, 0.8980, 0.8899,\n",
       "        0.9197, 0.9051, 0.8691, 0.8154, 0.8683, 0.8730, 0.8614, 0.9136, 0.8846,\n",
       "        0.8635, 0.8425, 0.8691, 0.9256, 0.8554, 0.6304, 0.8550, 0.8783, 0.7962,\n",
       "        0.8887, 0.9096, 0.8830, 0.8725, 0.9304, 0.9047, 0.8726, 0.9362, 0.8837,\n",
       "        0.8887, 0.8581, 0.8805, 0.8724, 0.8961, 0.3240, 0.8564, 0.7888, 0.8868,\n",
       "        0.8412, 0.8501, 0.8574, 0.8843, 0.9194, 0.9030, 0.7712, 0.9113, 0.8112,\n",
       "        0.9070, 0.8159, 0.9128, 0.9521, 0.8837, 0.8134, 0.8729, 0.8828, 0.8988,\n",
       "        0.8965, 0.8668, 0.3742, 0.8939, 0.7726, 0.9347, 0.8671, 0.8900, 0.8820,\n",
       "        0.8798, 0.9197, 0.8959, 0.9074, 0.9292, 0.9419, 0.8779, 0.8934, 0.8499,\n",
       "        0.8914, 0.8684, 0.3598, 0.9126, 0.9106, 0.8622, 0.8360, 0.8497, 0.8050,\n",
       "        0.8334, 0.8574, 0.8905, 0.9153, 0.8756, 0.8968, 0.8350, 0.8767, 0.8490,\n",
       "        0.8914, 0.8826, 0.8591, 0.9170, 0.8717, 0.3567, 0.9118, 0.8561, 0.8598,\n",
       "        0.8856, 0.8914, 0.8685, 0.8914, 0.9087, 0.8575, 0.8907, 0.9016, 0.9320,\n",
       "        0.8911, 0.3593, 0.8553, 0.9159, 0.8012, 0.8519, 0.8886, 0.8510, 0.8027,\n",
       "        0.7972, 0.8692, 0.8717, 0.8726, 0.9094, 0.9060, 0.7045, 0.8051, 0.8910,\n",
       "        0.8725, 0.8718, 0.8712, 0.8948, 0.3386, 0.8927, 0.8765, 0.9129, 0.8299,\n",
       "        0.9243, 0.8683, 0.8874, 0.9177, 0.8817, 0.9227, 0.8938, 0.0859, 0.8050,\n",
       "        0.8054, 0.9397, 0.9126, 0.8943, 0.8936, 0.9158, 0.8688, 0.8518, 0.8368,\n",
       "        0.8634, 0.1500, 0.9124, 0.8274, 0.9090, 0.3594, 0.8947, 0.8726, 0.8371,\n",
       "        0.9142, 0.9041, 0.8400, 0.9281, 0.9208, 0.9421, 0.9292, 0.8358, 0.8128,\n",
       "        0.8953, 0.9162, 0.9227, 0.8713, 0.8592, 0.9017, 0.8470, 0.8996, 0.8891,\n",
       "        0.8839, 0.8939, 0.9075, 0.8498, 0.9063, 0.8740, 0.6905, 0.9121, 0.9007,\n",
       "        0.8982, 0.3110, 0.9046, 0.8955, 0.8546, 0.9028, 0.9035, 0.8592, 0.9082,\n",
       "        0.8550, 0.9098, 0.8712, 0.8158, 0.9023, 0.9059, 0.8979, 0.9287, 0.8470,\n",
       "        0.8164, 0.8233, 0.8910, 0.8609, 0.9318, 0.8836, 0.8910, 0.9372, 0.9112,\n",
       "        0.8401, 0.8799, 0.8415, 0.9577, 0.8315, 0.8997, 0.8612, 0.9059, 0.8160,\n",
       "        0.9044, 0.8086, 0.3726, 0.8774, 0.8693, 0.9556, 0.8978, 0.8545, 0.8435,\n",
       "        0.8899, 0.9332, 0.8675, 0.9107, 0.8655, 0.8947, 0.8941, 0.8620, 0.8933,\n",
       "        0.8483, 0.8907, 0.8554, 0.8912, 0.9062, 0.9173, 0.9013, 0.9214, 0.8298,\n",
       "        0.9287, 0.8609, 0.8453, 0.8955, 0.8215, 0.9224, 0.8464, 0.8637, 0.8975,\n",
       "        0.8737, 0.8635, 0.9414, 0.9203, 0.8441, 0.8660, 0.1733, 0.8443, 0.8139,\n",
       "        0.8903, 0.9173, 0.8843, 0.8934, 0.9230, 0.9035, 0.8882, 0.9231, 0.8683,\n",
       "        0.9157, 0.8967, 0.8937, 0.8574, 0.4116, 0.8798, 0.8470, 0.8320, 0.9114,\n",
       "        0.9104, 0.8886, 0.8868, 0.9450, 0.8698, 0.9043, 0.9274, 0.8380, 0.9225,\n",
       "        0.9412, 0.8956, 0.8724, 0.9277, 0.9016, 0.9166, 0.9120, 0.8809, 0.8423,\n",
       "        0.9669, 0.8721, 0.8630, 0.8541, 0.8185, 0.8929, 0.3136, 0.9200, 0.9029,\n",
       "        0.8740, 0.8281, 0.9060, 0.8408, 0.7940, 0.8628, 0.8990, 0.8784, 0.8085,\n",
       "        0.8641, 0.7915, 0.9056, 0.8534, 0.9203, 0.8251, 0.8584, 0.9096, 0.8518,\n",
       "        0.8433, 0.8996, 0.9248, 0.9474, 0.8944, 0.9076, 0.8603, 0.7945, 0.8686,\n",
       "        0.8846, 0.8855, 0.9146, 0.9292, 0.7489, 0.8468, 0.8614, 0.9142, 0.8365,\n",
       "        0.9453, 0.8142, 0.8506, 0.9102, 0.9408, 0.8891, 0.8619, 0.8971, 0.8361,\n",
       "        0.8738, 0.8739, 0.8903, 0.9451, 0.9260, 0.8932, 0.8851, 0.9037, 0.8356,\n",
       "        0.8252, 0.9245, 0.8760, 0.7868, 0.9069, 0.8833, 0.8615, 0.9053, 0.8919,\n",
       "        0.7891, 0.8731, 0.9378], device='cuda:0', requires_grad=True)),('model.embeddings.LayerNorm.bias', Parameter containing:\n",
       "tensor([-2.5813e-02, -1.9586e-02,  2.4394e-02,  9.0982e-02, -6.2028e-02,\n",
       "        -1.3795e-02,  1.4139e-02, -1.3394e-02,  4.6763e-03,  3.6846e-02,\n",
       "        -4.8730e-02, -1.2991e-02,  7.0128e-03, -1.0511e-01, -7.5958e-02,\n",
       "         2.8800e-02, -2.1001e-02, -4.3064e-02, -5.6685e-02, -8.6490e-02,\n",
       "        -9.7988e-03, -3.5523e-02, -4.3928e-02, -2.7846e-02,  1.9645e-02,\n",
       "        -6.3271e-03, -6.2685e-02, -4.8291e-02,  4.3677e-03, -6.1911e-03,\n",
       "        -4.1267e-02, -1.0411e-01, -2.8832e-02, -4.6734e-02, -5.0988e-02,\n",
       "         5.1904e-02, -5.6870e-03, -6.1928e-02, -3.1356e-02, -1.1949e-02,\n",
       "        -2.5355e-02,  3.2771e-02,  2.3254e-02, -3.7789e-02, -7.1493e-02,\n",
       "         1.7847e-02, -4.9188e-02, -2.5303e-02, -1.0610e-01,  4.2229e-03,\n",
       "        -2.8558e-02, -6.0662e-02,  1.1744e-02,  1.2747e-01, -5.7778e-02,\n",
       "        -7.6090e-02, -3.9674e-02,  7.5465e-03, -6.3757e-02, -4.6806e-02,\n",
       "        -2.1365e-02, -3.9843e-02, -7.6920e-02, -4.9523e-02,  2.8745e-02,\n",
       "         2.5994e-02, -4.0898e-02, -9.0911e-02, -4.3689e-02, -2.0687e-02,\n",
       "        -5.7759e-02, -4.8041e-04,  4.3459e-03, -1.7428e-02,  2.3336e-02,\n",
       "        -4.8459e-02,  8.4035e-03, -1.0657e-01, -4.9922e-02,  7.3183e-03,\n",
       "        -1.9214e-02, -4.1459e-02, -7.3932e-02, -6.3225e-04, -5.1698e-02,\n",
       "        -5.9917e-02, -4.2660e-02, -1.4445e-02, -6.5382e-02,  1.4315e-02,\n",
       "        -5.4059e-02, -2.5888e-02, -8.8614e-02, -9.2973e-02, -8.6397e-03,\n",
       "        -7.0096e-03, -7.4826e-03,  1.2044e-02,  1.1161e-03,  5.0036e-02,\n",
       "        -1.5918e-02,  8.8733e-03, -2.6635e-02, -9.6742e-03, -2.5907e-02,\n",
       "        -5.3942e-02,  6.5664e-03, -5.2673e-03, -4.2703e-02, -8.7608e-02,\n",
       "         1.0479e-01, -4.4441e-02,  1.2761e-03,  4.8711e-02, -6.5253e-02,\n",
       "        -6.6164e-02, -6.2349e-02, -4.6970e-03, -1.2753e-02, -3.3353e-02,\n",
       "        -3.0844e-02,  6.1713e-01, -5.6932e-02, -3.0070e-02,  3.5091e-02,\n",
       "        -1.3460e-02, -4.1618e-02,  7.5752e-02, -4.7859e-02,  4.2935e-03,\n",
       "        -3.1598e-02, -1.3134e-03,  2.2072e-02, -8.6062e-02,  2.3901e-02,\n",
       "        -8.0139e-03, -2.0251e-03, -2.6265e-02, -2.7117e-02,  1.2953e-01,\n",
       "        -2.2953e-03, -5.3244e-02, -4.4448e-02, -1.1056e-02, -7.6421e-02,\n",
       "         6.3175e-01, -2.7220e-02,  1.8138e-02,  1.4419e-02,  9.3754e-03,\n",
       "        -1.6411e-02, -2.6319e-03,  7.8440e-02, -2.1309e-02, -1.8780e-02,\n",
       "        -1.6302e-02, -2.2464e-02,  1.7472e-03,  7.4560e-03, -1.7990e-01,\n",
       "        -1.0011e-03, -4.8380e-02, -9.5436e-03,  1.9335e-02, -2.7844e-02,\n",
       "        -1.4299e-02, -2.4347e-02, -1.0624e-01,  1.9124e-01,  2.6371e-02,\n",
       "        -5.6944e-02, -5.8120e-02, -7.8069e-02, -2.0124e-03, -2.9516e-02,\n",
       "        -5.5436e-01, -7.3230e-02, -2.7865e-02, -9.1656e-02, -5.4994e-02,\n",
       "        -9.5567e-03, -2.4272e-02,  2.2483e-02,  1.0854e-02, -4.0347e-02,\n",
       "        -4.2549e-02, -7.1492e-02, -8.4421e-02, -1.5127e-02, -3.8480e-02,\n",
       "        -8.7600e-03,  2.3223e-02, -2.7504e-02,  5.1057e-02, -2.7314e-03,\n",
       "         5.3384e-03, -1.4228e-02, -5.0011e-02,  5.5578e-02,  2.6254e-02,\n",
       "        -2.3016e-02, -1.2736e-01, -4.4869e-02, -1.8081e-02,  3.3149e-02,\n",
       "        -6.6450e-02, -5.1042e-02, -1.2619e-02,  4.6796e-02, -5.1130e-02,\n",
       "        -4.8953e-03,  1.2074e-02, -9.0850e-02, -3.3343e-02, -3.3662e-02,\n",
       "        -8.2301e-02, -8.6696e-02, -4.9458e-02, -3.7572e-02, -7.4955e-02,\n",
       "        -8.3456e-02, -5.5444e-04, -3.8712e-02, -4.1472e-02,  2.7176e-02,\n",
       "        -1.1193e-01, -5.3273e-02, -4.0551e-03, -4.9253e-02,  3.4307e-02,\n",
       "        -8.6025e-03,  1.7744e-02,  4.1292e-02,  1.9682e-02,  1.0674e-02,\n",
       "        -2.1525e-02, -3.9984e-02, -1.0688e-01, -3.7352e-02,  1.3910e-02,\n",
       "        -1.9946e-02,  3.6356e-03, -3.4474e-02, -5.7059e-03,  1.8058e-02,\n",
       "        -1.2838e-01,  9.2106e-03,  2.8652e-02, -3.9930e-02,  1.9103e-02,\n",
       "        -4.5176e-03, -1.4482e-02,  1.5764e-02, -9.8280e-02, -5.7384e-02,\n",
       "        -5.2230e-02,  1.6976e-02, -4.8432e-02, -4.7396e-02, -6.0798e-02,\n",
       "        -3.2504e-02, -2.1356e-02, -6.7610e-02, -2.3495e-03, -4.6317e-02,\n",
       "        -6.3562e-02, -7.9738e-03,  6.8618e-03, -1.0607e-02, -8.1404e-03,\n",
       "        -4.4821e-04, -3.5229e-02, -4.3739e-02, -1.5736e-02,  4.1574e-02,\n",
       "        -2.6906e-02, -7.3267e-02, -8.3963e-03, -2.1769e-02, -8.5045e-03,\n",
       "        -4.8246e-02, -3.8243e-02, -3.0208e-03, -1.5284e-01,  1.4452e-02,\n",
       "         2.0427e-02, -7.5290e-03, -8.3590e-03, -3.1110e-02, -2.0704e-02,\n",
       "        -1.7819e-02, -2.0153e-02, -1.6891e-02, -7.3145e-02, -1.2061e-02,\n",
       "        -5.2631e-02, -7.0590e-02, -5.5989e-02,  5.6625e-03,  2.8767e-02,\n",
       "        -3.2626e-02,  3.4757e-02,  9.8652e-03, -1.3033e-02,  6.4234e-03,\n",
       "        -9.1715e-02, -6.3068e-02, -1.9650e-02,  8.0248e-01,  3.5882e-03,\n",
       "         7.3792e-03, -2.9168e-03, -4.5747e-02,  3.5022e-02, -5.8420e-02,\n",
       "         4.6913e-02, -2.9960e-02, -9.1463e-03, -2.2473e-02, -4.2457e-02,\n",
       "        -3.2390e-02, -4.6282e-02, -3.0228e-02,  1.1817e-02, -4.0957e-02,\n",
       "        -5.1748e-02, -4.2577e-02, -6.2005e-02, -1.7210e-02, -4.3557e-02,\n",
       "        -5.2026e-02, -8.5295e-02,  4.1050e-02,  1.5495e-02, -6.3245e-03,\n",
       "        -7.1295e-02, -4.7373e-02, -8.3128e-04, -2.9855e-02,  1.9860e-02,\n",
       "        -3.2574e-02, -8.2074e-03, -3.2892e-02, -1.8099e-02, -3.7546e-02,\n",
       "         4.1262e-02, -3.0457e-03,  1.6735e-02, -2.4981e-02, -5.8590e-02,\n",
       "         2.8897e-02, -2.0615e-02, -5.2534e-02, -1.5580e-01,  6.4644e-03,\n",
       "         3.9530e-02,  5.8603e-03, -6.4433e-02, -5.5466e-03, -5.3029e-02,\n",
       "        -3.6458e-02, -3.0569e-02, -5.5958e-02, -1.2792e-02, -4.5726e-02,\n",
       "        -1.4813e-02,  2.2206e-03, -6.2349e-02, -9.4024e-03, -3.1266e-02,\n",
       "        -4.6939e-02, -2.9103e-02, -5.3318e-02, -1.4627e-02,  3.9130e-02,\n",
       "        -7.4903e-03, -1.2177e-02, -3.1654e-02,  2.9875e-02, -6.3436e-02,\n",
       "        -4.4272e-02,  8.3875e-02,  2.9641e-03, -5.6126e-02, -2.8246e-03,\n",
       "        -4.8854e-02, -3.3894e-02, -2.2461e-03, -7.9075e-02,  9.3964e-04,\n",
       "        -4.2891e-02, -5.4277e-02,  1.6210e-03, -5.5075e-02, -4.3420e-02,\n",
       "        -4.2715e-02, -2.0780e-02, -9.5354e-03,  1.2678e-02, -6.5957e-03,\n",
       "        -1.0400e-01,  8.1426e-02,  2.6153e-02, -2.0081e-02, -9.2912e-03,\n",
       "        -5.9734e-02,  1.6692e-02, -2.7790e-02, -7.2755e-02, -2.7658e-02,\n",
       "        -8.5615e-03, -4.4652e-03, -1.2445e-02,  4.7501e-02, -3.7511e-02,\n",
       "        -3.0417e-02, -3.5302e-03,  6.1813e-02, -4.7946e-02, -2.5691e-02,\n",
       "        -3.2338e-02,  3.3886e-02, -3.2135e-03, -6.4189e-02,  6.9234e-03,\n",
       "        -2.5463e-03, -2.0605e-02,  5.4527e-03, -1.8768e-02, -2.8983e-02,\n",
       "         9.6464e-03,  5.1683e-03, -2.9302e-02, -4.6026e-02, -3.3185e-02,\n",
       "        -4.4799e-02, -5.5385e-02, -3.0720e-02, -4.7690e-02,  3.4912e-03,\n",
       "        -9.8312e-02, -4.5899e-02, -1.2121e-02, -2.9845e-02, -7.2822e-02,\n",
       "         9.2692e-03,  4.1246e-03, -3.4443e-02,  3.5832e-02, -2.0515e-02,\n",
       "        -8.5094e-02, -4.2471e-02, -8.3520e-03, -3.3840e-02, -5.6404e-02,\n",
       "        -4.7795e-02, -2.8566e-02, -3.5617e-02, -3.4767e-03, -1.7887e-02,\n",
       "        -1.3996e-02, -1.0313e-01,  4.1534e-03, -2.6068e-02, -4.8530e-02,\n",
       "         3.8801e-02, -5.1456e-02, -9.1857e-02, -4.3034e-02, -5.7315e-03,\n",
       "        -4.4466e-02, -9.7403e-02, -2.8975e-03, -5.2225e-02, -1.9506e-02,\n",
       "        -1.0395e-01, -4.4399e-02,  1.9850e-02, -2.4337e-04, -2.0457e-02,\n",
       "        -2.0552e-02, -4.5154e-02, -1.4263e-01, -3.0744e-02, -6.2810e-02,\n",
       "        -3.8361e-02, -6.0288e-02, -1.2271e-02,  1.0882e-02, -1.3937e-02,\n",
       "        -2.4633e-02,  2.5107e-02, -6.6038e-02,  3.3946e-02,  3.5674e-03,\n",
       "        -4.8612e-02, -2.2357e-01, -2.6733e-02, -8.7419e-03, -4.7471e-02,\n",
       "        -5.8612e-02,  7.9803e-03, -3.1095e-02,  4.3708e-02,  2.3806e-02,\n",
       "         8.0680e-02, -3.6127e-03,  2.5604e-03, -2.8561e-02,  1.0267e-02,\n",
       "        -3.3763e-02,  4.9371e-02, -5.2043e-02, -1.1550e-02, -1.6297e-02,\n",
       "         8.4717e-03, -3.0102e-03, -7.2956e-02,  2.9275e-03, -6.0894e-02,\n",
       "         9.7119e-03, -1.7028e-02, -4.2490e-02, -4.7441e-02,  4.2175e-04,\n",
       "        -3.8659e-02, -3.2873e-02,  8.0762e-03, -2.9399e-02,  3.4236e-01,\n",
       "         1.6313e-02, -1.1509e-02,  7.8555e-03, -5.1367e-02,  1.9823e-03,\n",
       "         5.6842e-03, -1.7112e-02, -1.5140e-02, -4.7209e-02, -5.0134e-02,\n",
       "        -4.1404e-02,  5.9038e-01, -6.4823e-02, -3.3764e-02, -4.7025e-02,\n",
       "         3.3882e-02, -5.2676e-02,  7.7222e-03, -2.7641e-02, -7.9870e-02,\n",
       "        -3.4235e-02, -1.4923e-02, -4.2680e-02, -1.1409e-02, -4.8736e-02,\n",
       "        -2.2360e-03, -8.0853e-02, -6.0854e-02, -5.0203e-02,  2.9093e-02,\n",
       "        -2.0010e-02, -5.2885e-02, -3.5396e-02, -3.7104e-04, -6.2613e-02,\n",
       "        -6.6174e-02, -3.0367e-02, -4.5385e-02,  9.9433e-02, -4.6345e-02,\n",
       "        -3.5206e-02,  2.3058e-02, -3.1378e-02,  3.5049e-02, -5.3169e-02,\n",
       "        -8.3849e-02, -5.6941e-02,  1.9959e-03, -1.9827e-02, -2.5556e-02,\n",
       "        -4.4707e-02,  2.1700e-02, -3.7420e-02, -7.5456e-02, -5.3465e-02,\n",
       "        -3.2303e-02, -2.9152e-02, -8.0471e-02, -8.4506e-03, -3.9515e-03,\n",
       "        -1.7210e-02,  2.1441e-02, -2.8625e-02, -3.7123e-02, -5.3698e-02,\n",
       "        -3.5766e-02, -4.3766e-02, -7.1818e-02,  1.4112e-02, -3.1708e-02,\n",
       "        -5.9955e-02,  1.1169e-04, -1.7591e-02, -5.7516e-02, -7.2608e-02,\n",
       "        -1.5888e-03, -5.6250e-02,  1.2733e-02,  1.8422e-02, -3.6549e-02,\n",
       "         8.2642e-03, -2.3371e-02, -3.4344e-02,  1.2842e-02,  2.0969e-02,\n",
       "        -5.7586e-02, -2.1436e-02,  1.2975e-02,  2.3101e-02, -5.7664e-02,\n",
       "        -4.9090e-02, -3.1010e-02, -3.3633e-02,  1.5685e-02, -1.8848e-02,\n",
       "         1.1996e-02,  1.2563e-02, -5.9192e-02, -2.9879e-02, -8.0492e-03,\n",
       "        -9.7915e-03, -6.6454e-02, -6.5780e-02, -1.3264e-02, -3.3119e-02,\n",
       "        -6.7489e-02, -5.4398e-02, -2.7269e-02, -7.7480e-02,  5.1169e-02,\n",
       "        -2.4312e-02,  1.2374e-02,  1.2652e-02, -5.3443e-02, -4.9514e-02,\n",
       "        -2.2640e-02,  2.7701e-03, -2.4768e-02, -6.0062e-02, -6.2245e-02,\n",
       "        -1.7300e-02,  3.1369e-02,  5.7760e-04, -8.6960e-02,  4.1380e-01,\n",
       "        -5.2331e-02, -5.4009e-02,  1.5377e-02, -1.1680e-01, -3.2595e-03,\n",
       "        -2.6802e-03,  2.6752e-02, -3.5410e-02, -5.6183e-02,  3.4595e-02,\n",
       "        -4.9278e-03, -7.0305e-02, -2.0889e-02, -1.0110e-01, -9.0543e-03,\n",
       "        -1.0360e-01, -4.1210e-02, -3.6883e-04, -7.5374e-02,  1.9649e-02,\n",
       "        -3.6074e-02,  4.3602e-02,  5.9207e-03,  1.0921e-02,  1.9372e-02,\n",
       "        -4.5031e-02, -2.8682e-02,  3.4561e-03, -6.2406e-02,  4.0152e-02,\n",
       "        -3.1512e-02, -9.8757e-03,  1.4443e-02, -1.4285e-02, -8.4387e-02,\n",
       "        -7.7624e-02, -6.3885e-02, -3.2195e-02, -1.6495e-02, -2.1929e-02,\n",
       "        -1.3077e-02, -6.3401e-02, -7.4705e-02, -2.2826e-02, -2.5552e-02,\n",
       "        -2.4188e-02, -3.8350e-02,  1.8747e-02, -5.8053e-02,  9.0580e-02,\n",
       "        -6.8325e-02, -3.0336e-02, -1.0976e-01,  8.2274e-03,  5.4368e-02,\n",
       "        -5.2450e-02, -6.7870e-03,  1.9126e-02, -1.2536e-02, -6.7804e-02,\n",
       "        -6.6758e-03, -3.2696e-03, -4.6548e-02,  1.0977e-02, -2.4365e-02,\n",
       "        -1.1955e-02, -5.1119e-02, -3.0745e-02, -3.6379e-02, -1.5907e-02,\n",
       "         5.2886e-02, -4.6803e-02, -7.0494e-03,  4.1408e-02, -4.0555e-02,\n",
       "        -1.0118e-02, -4.5686e-02,  2.5392e-02, -8.8918e-03, -5.3482e-02,\n",
       "        -4.3356e-02, -5.0802e-02,  1.9531e-02,  4.4015e-02, -7.0007e-02,\n",
       "         2.6200e-02, -4.8005e-02, -4.4770e-02,  2.5899e-02, -3.7822e-02,\n",
       "        -2.2518e-02, -4.7879e-02, -1.4801e-02, -1.9089e-04, -1.0751e-01,\n",
       "        -3.0653e-02, -2.7150e-02, -4.6738e-02, -1.0339e-02,  7.2245e-03,\n",
       "        -7.8551e-02,  4.8691e-02, -2.4152e-02,  1.2374e-02, -4.9384e-02,\n",
       "        -2.8865e-02, -4.6988e-02, -3.6048e-02, -1.8201e-03, -4.7752e-02,\n",
       "        -3.0539e-02,  2.0061e-02,  3.2140e-02], device='cuda:0',\n",
       "       requires_grad=True)),('model.encoder.layer.0.attention.self.query.weight', Parameter containing:\n",
       "tensor([[-0.0160,  0.0263, -0.0257,  ...,  0.0166,  0.0758,  0.0546],\n",
       "        [-0.0302,  0.0340, -0.0426,  ..., -0.0509,  0.1382,  0.0075],\n",
       "        [ 0.0098,  0.0339,  0.0099,  ..., -0.0289,  0.0267, -0.0477],\n",
       "        ...,\n",
       "        [-0.0088,  0.0514,  0.0553,  ...,  0.0286,  0.0548, -0.0544],\n",
       "        [-0.0201,  0.0945,  0.0607,  ..., -0.1051,  0.0592,  0.0463],\n",
       "        [ 0.0023, -0.0953,  0.0097,  ..., -0.0195, -0.0522, -0.0073]],\n",
       "       device='cuda:0', requires_grad=True)),('model.encoder.layer.0.attention.self.query.bias', Parameter containing:\n",
       "tensor([ 5.8330e-01, -3.3017e-01, -4.3003e-01,  3.7427e-01, -2.9964e-01,\n",
       "         4.1064e-01,  1.4187e-02,  2.9390e-01,  2.3197e-01, -1.2930e-01,\n",
       "         1.3841e-01,  4.5090e-01, -9.9563e-02,  1.1079e-01,  4.3083e-01,\n",
       "         5.6540e-01,  3.1320e-02, -4.7322e-02, -3.1485e-01, -1.2006e-01,\n",
       "         7.2167e-03,  6.4458e-03,  1.6834e-03,  4.7131e-01, -2.1584e-02,\n",
       "        -6.2352e-02, -7.2282e-02,  5.8581e-01, -4.1886e-01, -3.4707e-03,\n",
       "         3.2088e-01, -1.7525e-02, -1.3638e-01, -2.4106e-01,  5.8448e-02,\n",
       "        -7.8674e-02, -7.4066e-02, -1.2632e-01,  5.3934e-01, -7.8822e-02,\n",
       "        -2.5093e-01, -4.0458e-01, -3.7482e-01, -1.3821e-01, -7.1600e-01,\n",
       "        -4.6841e-01, -1.3126e-01, -3.5905e-01,  3.3808e-02,  2.0895e-01,\n",
       "         4.2926e-01, -9.1646e-04,  6.7309e-01, -1.7484e-01,  3.0148e-01,\n",
       "        -2.9369e-01,  4.1191e-01,  8.0307e-02, -1.7826e-01, -2.7450e-01,\n",
       "         6.4637e-01,  6.2256e-02, -3.3028e-01,  1.7331e-01,  6.4100e-04,\n",
       "        -3.1507e-01,  8.2299e-02, -2.0988e-02,  2.1575e-01,  1.7412e-01,\n",
       "        -2.6589e-01, -4.0738e-01,  8.0878e-02,  1.9378e-01, -4.6973e-02,\n",
       "        -1.2731e-01, -1.9839e-01, -6.2151e-02,  1.5786e-01, -1.3902e-01,\n",
       "         6.1991e-02, -2.7490e-01, -6.0800e-02,  2.2942e-01, -2.8212e-01,\n",
       "         1.9189e-01,  2.3318e-01,  2.6320e-01, -8.6362e-02,  2.2765e-01,\n",
       "         3.5385e-01, -2.3884e-01, -1.5338e-01, -2.2629e-01,  1.4148e-01,\n",
       "         1.4398e-01, -8.3492e-02,  4.3359e-03, -1.8171e-01,  1.5557e-01,\n",
       "         4.0525e-02, -6.2192e-02,  2.8008e-01,  1.7881e-01,  7.7860e-01,\n",
       "        -2.4558e-01, -2.4784e-01,  1.4740e-01,  6.4885e-03, -1.1213e-01,\n",
       "         1.3788e-02,  2.8907e-01,  1.8075e-01,  7.5049e-02,  1.1543e-01,\n",
       "        -6.7093e-01,  1.1601e-01,  7.7332e-02, -8.8778e-02, -2.5267e-01,\n",
       "         1.5213e-01, -7.3719e-02, -8.8099e-02, -1.1966e-01, -1.7058e-01,\n",
       "         7.9105e-02, -2.1579e-01,  1.9985e-01,  1.9589e-01,  8.0608e-01,\n",
       "        -5.3811e-01, -1.0245e-02, -9.9254e-03,  1.0610e-01, -7.6295e-02,\n",
       "         2.3631e-01, -1.5559e-01, -5.3928e-02, -2.0641e-01, -2.3053e-01,\n",
       "         1.8722e-01, -5.6669e-02,  2.5292e-01, -7.9143e-01, -9.3768e-02,\n",
       "         2.7969e-02,  1.9596e-01, -4.8590e-02, -7.9916e-02, -3.0908e-01,\n",
       "         2.2182e-01,  8.4604e-01,  2.4126e-01,  2.2712e-01, -5.2875e-01,\n",
       "         2.8082e-01,  2.5314e-01,  8.0005e-02, -1.5372e-01,  6.7369e-01,\n",
       "         5.6857e-01, -5.2148e-01,  3.9538e-01,  2.6403e-01, -5.9878e-01,\n",
       "         4.1539e-01, -7.7114e-03, -6.9900e-01, -2.0983e-01, -4.8400e-02,\n",
       "        -4.6952e-01, -6.8494e-01,  1.4493e-01,  3.4639e-01, -1.7583e-01,\n",
       "        -7.2526e-02, -6.9065e-01, -2.4761e-01, -1.2511e-01,  8.4257e-01,\n",
       "        -4.9600e-01,  5.6887e-01,  4.4731e-01,  6.4472e-02,  3.0429e-01,\n",
       "        -9.8740e-02, -6.5356e-01, -1.8756e-01,  5.6894e-01, -1.1585e-01,\n",
       "        -4.9077e-01, -2.9168e-01, -8.0539e-01,  1.0937e-01,  1.6244e-01,\n",
       "        -1.5702e-01,  9.8779e-02, -1.3183e-02,  4.8695e-01, -8.0168e-02,\n",
       "         3.6484e-02,  7.1814e-02,  8.6541e-02,  5.9616e-01, -8.7867e-02,\n",
       "        -2.9304e-01,  1.0710e-01, -1.5503e-01,  1.1721e-01,  1.4369e-01,\n",
       "         4.8917e-01,  1.5534e-03,  2.2738e-01, -4.2656e-01, -2.7430e-01,\n",
       "        -5.3157e-01, -5.5699e-01, -5.8704e-02,  7.9745e-01, -5.6605e-02,\n",
       "        -9.8631e-02,  3.2962e-01, -1.0488e+00,  1.3518e-01,  1.2595e-02,\n",
       "        -9.3307e-02,  1.5131e-01, -9.0699e-02,  1.0006e-01,  6.3160e-01,\n",
       "         6.5801e-01,  6.2745e-02, -1.4512e-01, -3.5153e-01, -2.1925e-01,\n",
       "        -1.9823e-01, -1.8649e-01,  2.9939e-01,  2.2179e-02,  6.4458e-02,\n",
       "        -4.3011e-01,  7.0278e-02, -1.3124e-01,  8.0527e-02, -1.0491e-01,\n",
       "        -7.6828e-02,  6.2592e-03,  4.4959e-02,  1.1892e-01,  2.4762e-01,\n",
       "        -6.9281e-01, -1.1406e-02, -2.8878e-02,  1.2579e-01, -1.1231e-01,\n",
       "        -1.5572e-01, -1.6730e-01,  3.5435e-02, -2.3402e-01, -2.8230e-03,\n",
       "        -1.0270e-01,  3.6779e-01,  3.1938e-01, -5.9023e-02,  3.4885e-02,\n",
       "        -2.1652e-01, -2.3704e-01,  3.5477e-02,  2.1169e-01,  2.7640e-01,\n",
       "        -5.0921e-02, -3.7449e-01, -1.2116e-01,  4.2912e-01, -3.2412e-02,\n",
       "         2.9482e-01,  3.9960e-02,  1.3489e-02, -9.9191e-02,  1.4317e-01,\n",
       "         3.1202e-01,  1.8178e-01,  3.7029e-01,  3.5692e-01, -5.0184e-01,\n",
       "         3.2693e-01, -4.4944e-02, -4.2035e-02, -5.3141e-02, -2.4085e-01,\n",
       "         2.0631e-01, -1.1642e-01,  1.3490e-01, -1.2175e-04, -3.3456e-01,\n",
       "         1.1546e-02, -4.9993e-01,  3.3247e-02, -2.4857e-04, -1.2626e-01,\n",
       "         4.3489e-01,  2.9746e-01, -2.4258e-01,  1.9238e-01, -2.6103e-01,\n",
       "        -2.3580e-01, -2.2710e-01,  1.6960e-01,  6.1578e-02, -2.2820e-01,\n",
       "        -1.2918e-01,  1.3356e-01, -2.1472e-01,  2.1496e-02,  4.5967e-01,\n",
       "         1.8367e-01, -1.3974e-01, -1.7785e-01,  1.1970e-01,  3.4757e-01,\n",
       "        -3.3443e-01, -2.6890e-01,  3.8072e-01, -2.3219e-01,  2.1565e-01,\n",
       "        -3.0500e-01, -1.9222e-01,  1.7263e-01,  2.1086e-01, -2.5473e-01,\n",
       "         9.9059e-02, -1.5470e-01,  2.6449e-01, -2.5862e-02,  8.5972e-02,\n",
       "         4.4993e-01,  3.6486e-02, -5.8935e-01,  6.7338e-02, -8.5520e-02,\n",
       "        -1.4362e-02,  4.0770e-01, -4.4242e-01, -2.1354e-01, -2.0500e-01,\n",
       "        -3.0881e-02, -4.7771e-01,  9.9082e-02,  1.2234e-01, -9.7068e-03,\n",
       "        -4.4688e-01,  2.8776e-02,  1.9030e-01, -3.1110e-01, -4.0030e-01,\n",
       "        -3.2500e-01, -6.2117e-01,  3.9939e-01,  1.5722e-01,  6.7047e-03,\n",
       "        -3.8642e-01,  2.0605e-01, -9.4553e-03, -3.3833e-01,  4.6462e-01,\n",
       "         1.3567e-01,  1.8277e-01,  3.8440e-01,  3.0049e-02, -1.0785e-01,\n",
       "        -2.3872e-01,  1.7959e-01,  2.3463e-01, -1.3387e-01, -2.6587e-01,\n",
       "         1.3431e-01, -2.9685e-01, -3.5311e-01, -1.1116e-01,  1.0430e-01,\n",
       "         9.5568e-03,  4.1393e-01, -1.8842e-01,  6.7933e-02,  2.5206e-01,\n",
       "         2.0077e-01,  1.7323e-01, -3.0422e-01, -5.3646e-01, -9.8372e-02,\n",
       "        -6.1671e-01,  5.9664e-02, -1.0911e-01, -3.3932e-01, -3.3925e-01,\n",
       "        -3.4843e-01, -6.2832e-01, -1.5829e-01, -2.0690e-01, -5.2812e-01,\n",
       "         6.4234e-01,  1.9425e-01,  1.9122e-01,  3.1562e-01,  7.3492e-02,\n",
       "         3.1973e-01, -1.9286e-01,  1.7612e-01, -2.4646e-01,  4.4075e-01,\n",
       "         7.6179e-02,  1.8423e-01, -2.6189e-01, -2.4326e-01, -1.7520e-02,\n",
       "        -4.8667e-01,  1.0531e-01,  3.1960e-01,  4.0946e-01,  8.9691e-02,\n",
       "        -1.6608e-01,  6.7089e-01, -3.2063e-01, -2.9241e-01, -8.0640e-02,\n",
       "         2.6379e-01, -2.3868e-01,  2.6290e-01, -2.1361e-03,  8.3004e-02,\n",
       "         8.6013e-02,  1.7583e-02,  4.5357e-02,  5.0624e-02, -6.4335e-02,\n",
       "        -1.6137e-02,  2.4363e-01, -1.5750e-01,  4.2687e-01,  2.9505e-01,\n",
       "        -5.2537e-01, -3.5712e-02,  1.6846e-01,  1.8825e-01, -4.6153e-01,\n",
       "        -4.0480e-01, -1.0431e-01,  5.4103e-01, -9.4344e-02, -8.2990e-02,\n",
       "         1.6572e-01,  9.9153e-02,  1.8104e-01,  2.3563e-02,  3.0483e-01,\n",
       "         1.2089e-01, -3.9605e-02, -2.3485e-02, -9.8616e-03, -1.3792e-01,\n",
       "        -6.2800e-02, -1.2153e-02,  6.4477e-02, -8.1838e-02, -3.0739e-01,\n",
       "         7.1739e-02, -2.3328e-02,  1.4369e-02, -1.8491e-01,  5.3603e-01,\n",
       "        -3.4591e-01, -1.6836e-01,  2.1436e-01, -1.3492e-01, -2.4970e-01,\n",
       "         1.5488e-01,  1.3698e-01,  3.1911e-01, -3.5536e-01, -3.8973e-01,\n",
       "         5.5466e-02,  1.7672e-01, -4.0377e-02, -3.4838e-01, -3.3844e-01,\n",
       "         1.2078e-01,  1.0078e-01,  7.0983e-02,  1.9044e-01, -2.7578e-02,\n",
       "        -1.4121e-01, -2.4887e-02,  3.4366e-01, -1.7526e-02, -6.0229e-02,\n",
       "        -1.2533e-01,  1.1945e-01, -9.6262e-02,  1.8240e-01, -1.2640e-01,\n",
       "         1.6516e-01,  3.5330e-01, -3.4919e-01, -1.0285e-01,  1.2205e-02,\n",
       "        -6.9453e-02, -1.4769e-02, -2.7700e-01, -2.8485e-02, -8.3910e-02,\n",
       "         1.6593e-01,  7.3718e-02, -3.8295e-02,  2.3854e-01,  7.5166e-02,\n",
       "         3.2411e-01, -9.5700e-02, -1.2651e-01, -1.4923e-01,  4.6605e-03,\n",
       "         1.2291e-01,  4.4952e-02,  1.6721e-01,  1.5785e-01, -7.7283e-02,\n",
       "         9.5847e-02, -1.2019e-01,  4.2663e-01,  1.2489e-01,  5.8858e-01,\n",
       "        -9.5926e-02, -1.7957e-01,  2.0012e-01, -1.6556e-01, -1.2779e-01,\n",
       "         5.8991e-02, -4.0901e-01, -4.0750e-01, -2.2539e-01, -1.2093e-01,\n",
       "        -2.9937e-02,  2.9614e-01, -2.5127e-01,  4.9432e-01, -9.1743e-02,\n",
       "        -1.5501e-02,  1.8418e-01,  1.7196e-01,  1.0281e-01,  1.3224e-01,\n",
       "        -1.5958e-01, -8.9080e-02, -9.8007e-03,  1.8915e-01, -1.4539e-01,\n",
       "         2.1220e-01,  8.1514e-02, -1.4316e-01, -6.0093e-02, -2.8010e-01,\n",
       "        -3.6343e-01,  2.0094e-01, -7.5586e-02,  5.3581e-01,  2.2553e-01,\n",
       "         3.7811e-01, -2.0340e-01, -3.2907e-01, -1.9082e-01, -2.3751e-01,\n",
       "         8.5717e-02,  1.1434e-01, -2.3029e-02, -1.2590e-02, -2.9721e-01,\n",
       "         7.7919e-01, -3.4497e-01, -3.1212e-01,  3.1702e-02, -9.8129e-02,\n",
       "         3.5762e-01,  1.8828e-01,  8.5996e-02,  8.1223e-02, -1.6087e-01,\n",
       "        -4.5654e-01,  1.1477e-01,  2.0607e-01, -2.4965e-01,  2.9657e-01,\n",
       "        -2.1169e-02, -2.7773e-01,  1.4439e-01, -1.7718e-01, -1.5660e-01,\n",
       "         2.1099e-01,  5.4218e-01, -1.2921e-01,  3.6137e-02, -4.5192e-01,\n",
       "         6.3399e-01,  4.4264e-01, -1.3204e-01,  2.4140e-01, -2.1557e-01,\n",
       "         8.0465e-03,  5.7305e-01,  5.7249e-03, -1.7565e-02,  8.4881e-02,\n",
       "         2.4005e-01, -1.6543e-01, -1.7789e-02,  3.5571e-01, -4.2362e-01,\n",
       "        -2.0214e-01,  3.1820e-01,  2.2079e-01, -3.3596e-02, -2.0905e-02,\n",
       "         4.4896e-01, -2.9693e-01, -3.5471e-01,  9.7783e-02, -1.8933e-01,\n",
       "        -3.9467e-01,  2.6630e-01,  2.6460e-01, -5.1034e-01,  1.2392e-01,\n",
       "         5.3633e-02, -1.5936e-01,  5.5081e-01, -2.0534e-01, -3.7111e-01,\n",
       "         1.7239e-01,  4.1699e-01,  4.1076e-01, -1.1563e-01, -3.3904e-01,\n",
       "        -2.2413e-01,  2.6653e-01,  1.8111e-01,  2.1060e-01,  8.1471e-01,\n",
       "        -3.3345e-01,  2.9863e-01,  5.7539e-01,  2.1296e-01,  2.8987e-01,\n",
       "         1.1713e-01,  1.2025e-01, -6.0295e-01, -2.1617e-01,  9.5749e-02,\n",
       "        -2.8884e-01,  5.4096e-01,  5.3116e-02,  7.6568e-02,  1.2535e-01,\n",
       "        -1.1609e-01,  6.9811e-02, -3.8387e-01,  1.2280e-01,  8.6243e-01,\n",
       "        -1.0406e-02, -4.2616e-02,  1.7337e-01, -1.3168e-01,  2.8373e-01,\n",
       "         3.6831e-02,  7.4304e-02,  6.2099e-01,  7.0007e-02, -5.2676e-02,\n",
       "         2.0327e-01,  2.5530e-01, -2.1611e-01, -5.0948e-01,  4.2386e-01,\n",
       "         4.4426e-01,  6.4588e-02, -3.5202e-01,  8.6853e-02, -1.8344e-01,\n",
       "         1.0844e-01,  9.5563e-02,  6.5092e-01,  2.1688e-01, -3.2227e-01,\n",
       "         1.6771e-01,  6.9736e-02,  1.6682e-02,  1.0371e-01, -2.0381e-01,\n",
       "         1.3478e-01, -9.2052e-02, -6.5770e-01,  4.2691e-02, -2.6214e-02,\n",
       "        -4.6479e-01,  4.0907e-01, -7.7925e-02,  4.1959e-01,  1.2978e-01,\n",
       "         2.4283e-01, -7.2488e-02, -3.2468e-01, -9.2368e-03, -1.1380e-01,\n",
       "        -1.3954e-01,  3.8453e-01, -2.6091e-01, -4.5657e-02, -9.7684e-02,\n",
       "        -3.0846e-01,  3.4643e-01,  1.9345e-01,  9.3619e-03, -1.1838e-01,\n",
       "         1.3684e-01, -2.1650e-01, -2.9375e-02,  3.2514e-01,  3.3087e-01,\n",
       "        -8.0517e-02,  5.4736e-02, -6.0619e-02, -1.5898e-01, -3.1152e-01,\n",
       "         2.7920e-02, -7.0451e-02,  3.6269e-01, -2.5640e-01,  2.6998e-01,\n",
       "        -5.0693e-01,  9.0752e-02,  3.2420e-02, -1.3662e-01, -6.5823e-02,\n",
       "        -2.1290e-01, -2.6441e-01, -3.4969e-01,  5.4717e-02, -1.4114e-01,\n",
       "         2.1344e-01,  4.7561e-01, -4.1879e-02,  2.3693e-01,  2.1285e-01,\n",
       "         2.0279e-01,  1.2495e-01, -1.3893e-02, -1.4684e-01,  2.9682e-02,\n",
       "         1.4931e-01, -9.5748e-03, -1.6159e-01, -1.3462e-01, -1.8322e-02,\n",
       "         2.0614e-01,  5.2214e-02,  3.1245e-01,  1.7771e-02, -2.2427e-01,\n",
       "         1.8363e-01, -1.1231e-01, -7.8380e-02], device='cuda:0',\n",
       "       requires_grad=True)),('model.encoder.layer.0.attention.self.key.weight', Parameter containing:\n",
       "tensor([[ 0.0078, -0.0359,  0.0210,  ...,  0.0146, -0.0144, -0.0082],\n",
       "        [ 0.0270, -0.0642,  0.0173,  ..., -0.0171, -0.0429,  0.0167],\n",
       "        [-0.0182, -0.0182, -0.0346,  ..., -0.0272, -0.0433, -0.0121],\n",
       "        ...,\n",
       "        [ 0.0192, -0.0186, -0.0100,  ...,  0.0187, -0.0560,  0.0831],\n",
       "        [-0.0531,  0.0213, -0.0182,  ..., -0.0067, -0.0191, -0.0659],\n",
       "        [ 0.0053, -0.0502,  0.0208,  ..., -0.0055, -0.0030, -0.0012]],\n",
       "       device='cuda:0', requires_grad=True)),('model.encoder.layer.0.attention.self.key.bias', Parameter containing:\n",
       "tensor([ 1.0431e-03,  3.5106e-04, -2.4626e-03, -1.0567e-04, -1.1928e-03,\n",
       "         2.6925e-03,  2.2769e-03,  8.4066e-04,  2.2366e-03,  8.5631e-04,\n",
       "         9.5796e-04,  1.4070e-03,  6.3313e-04, -1.6668e-03, -3.9759e-03,\n",
       "         1.9305e-03,  2.1245e-04, -6.6218e-03, -9.6426e-04, -1.3669e-03,\n",
       "         2.8618e-03,  3.8692e-03, -5.1340e-04,  8.7632e-04,  5.8980e-04,\n",
       "        -3.4487e-03, -1.0480e-03, -2.9190e-04, -3.7491e-03, -1.1196e-02,\n",
       "        -3.0301e-03, -9.7091e-04, -1.7841e-03,  1.2603e-03,  1.1210e-03,\n",
       "         1.1750e-03, -5.4153e-04, -3.1819e-03,  2.5912e-03,  2.1706e-04,\n",
       "        -3.3490e-04, -4.9331e-04, -1.8153e-03, -8.6359e-03, -2.5329e-03,\n",
       "        -3.0781e-03, -2.6580e-04, -5.3357e-04,  1.7155e-03, -4.6053e-04,\n",
       "        -1.3000e-03,  6.0365e-04,  9.6582e-04, -4.4838e-03,  1.1874e-03,\n",
       "        -1.5509e-03,  2.0464e-03,  2.3995e-03,  1.0435e-03, -7.9156e-04,\n",
       "        -1.9315e-03,  4.0070e-03, -1.5505e-03, -2.8468e-03, -4.1579e-03,\n",
       "        -2.2358e-03,  3.0939e-03,  2.3025e-03, -5.7412e-03, -6.5179e-04,\n",
       "         1.4284e-03,  5.6102e-03,  7.5654e-05, -2.7413e-04, -2.3201e-04,\n",
       "         7.3014e-03,  4.9583e-03,  2.7453e-03, -2.1549e-03,  5.1880e-03,\n",
       "        -5.8259e-04,  3.0841e-03, -1.7244e-03, -5.9742e-03, -2.4615e-03,\n",
       "         3.6710e-03,  1.2727e-03, -9.1166e-03,  2.1024e-03, -2.0577e-03,\n",
       "        -2.7588e-04,  1.9125e-03,  2.1786e-04,  5.8409e-03,  4.5047e-04,\n",
       "        -6.4889e-03,  1.4768e-03,  7.0867e-04,  2.9707e-03,  3.7071e-03,\n",
       "         6.1321e-04, -1.6805e-03, -1.0285e-03,  7.6123e-04, -3.7541e-03,\n",
       "         1.3802e-03,  4.0661e-03,  1.3468e-03,  2.0691e-03,  7.0522e-04,\n",
       "        -1.0956e-03,  1.5189e-04,  1.0138e-04,  5.2394e-03,  6.2775e-04,\n",
       "        -7.7419e-04, -1.0243e-03,  2.2899e-03,  8.2125e-05,  3.4014e-04,\n",
       "         3.2373e-04, -5.0135e-03,  4.9464e-03, -2.3620e-03, -3.2513e-03,\n",
       "        -9.0608e-03,  3.7853e-05, -3.1300e-04,  6.0969e-03, -5.0433e-03,\n",
       "         2.2494e-03, -3.9667e-03, -2.5700e-03,  3.4893e-03, -3.4346e-04,\n",
       "        -1.0859e-02, -5.1781e-04, -2.5808e-03,  5.9745e-03,  6.7779e-04,\n",
       "         5.6374e-03,  5.7691e-03,  4.9484e-04, -6.6995e-04, -3.0380e-04,\n",
       "         2.7891e-03,  1.5116e-03,  6.7941e-03,  7.0579e-03, -7.1740e-04,\n",
       "         1.2263e-03, -2.0803e-03, -1.2445e-02,  2.2425e-04, -2.5078e-03,\n",
       "        -4.8600e-04,  7.8770e-04,  2.2338e-04, -2.3877e-03,  1.7849e-04,\n",
       "         1.0370e-03, -8.2332e-04,  5.0712e-04, -5.5647e-03, -7.7268e-03,\n",
       "        -3.3996e-03, -8.1165e-03,  4.8382e-03, -6.8620e-03,  3.7298e-03,\n",
       "         1.1637e-03, -1.0816e-03, -2.4026e-03, -5.5749e-03,  9.1364e-03,\n",
       "        -9.7377e-03,  5.8054e-03,  4.1048e-03,  2.8541e-03,  1.2820e-03,\n",
       "         1.9604e-03, -2.5624e-03, -6.6849e-03,  3.7216e-03,  6.8816e-03,\n",
       "        -9.7042e-03, -4.9029e-03, -3.5374e-03, -4.1783e-04,  2.7750e-03,\n",
       "         3.2810e-03, -3.2365e-03,  1.3648e-03,  8.0742e-03, -1.5785e-03,\n",
       "         3.9737e-04,  1.0561e-02,  3.0356e-03, -7.4297e-03, -4.3169e-03,\n",
       "         2.2274e-03, -5.6777e-03, -2.2566e-03, -3.3339e-03, -1.8071e-04,\n",
       "        -3.0179e-03, -9.9552e-04, -3.0800e-03, -6.7715e-03, -5.1166e-03,\n",
       "         5.1844e-03,  3.9874e-03,  5.7430e-03,  5.3576e-04, -3.3581e-03,\n",
       "         2.5948e-03, -1.0682e-02,  1.7226e-03, -6.5578e-03, -3.5433e-03,\n",
       "        -6.7449e-03,  1.9850e-03, -2.5040e-03, -2.8073e-03, -2.1749e-03,\n",
       "         7.9526e-04,  1.9119e-03,  4.9029e-03, -3.9821e-03, -5.2596e-04,\n",
       "        -4.2743e-03, -7.1898e-03, -6.9820e-03, -1.3538e-04, -9.0344e-04,\n",
       "        -1.3415e-03, -3.5522e-03,  3.6009e-03, -1.1609e-03, -3.3243e-03,\n",
       "        -2.0417e-03, -5.3317e-03, -1.2358e-03, -1.4498e-03, -2.2774e-04,\n",
       "        -1.5560e-03, -1.8056e-03,  5.5098e-03, -8.7958e-03,  8.2840e-03,\n",
       "        -7.6833e-03, -5.6914e-03, -5.8619e-03, -9.0921e-04, -5.8744e-03,\n",
       "         3.7392e-04,  3.2069e-04, -8.4745e-04, -4.0236e-04,  6.4320e-04,\n",
       "         9.1090e-04, -7.2433e-04, -1.6909e-03,  1.4301e-03, -5.0588e-04,\n",
       "         1.3308e-03, -2.0329e-03,  1.1653e-03, -1.7977e-03, -1.3836e-03,\n",
       "        -1.0183e-03,  2.3465e-03, -2.4039e-04,  3.3329e-04, -1.6794e-03,\n",
       "        -1.1288e-03, -2.5752e-05, -1.5180e-03,  1.4402e-03, -8.0823e-04,\n",
       "         2.1207e-03, -2.0448e-03, -3.3600e-03, -1.2373e-03,  1.9503e-06,\n",
       "        -1.0871e-03,  1.3004e-04,  1.1808e-03,  6.9708e-04, -8.0657e-04,\n",
       "        -2.1594e-03,  3.5783e-03,  7.7612e-04,  7.3907e-04,  1.7375e-03,\n",
       "        -1.8736e-03,  2.1354e-04, -2.5787e-04, -5.3830e-04, -2.0698e-03,\n",
       "        -3.9820e-03,  3.1612e-04, -1.3805e-03,  5.8698e-04,  3.0345e-03,\n",
       "        -1.7009e-05,  3.9967e-04,  6.3367e-04, -3.1893e-03,  2.0281e-03,\n",
       "         6.1758e-04, -3.5339e-03,  5.0524e-04,  1.6291e-03, -2.4280e-03,\n",
       "        -3.4301e-04,  7.1670e-04,  4.5634e-04, -4.0376e-04, -3.6614e-03,\n",
       "        -8.4598e-04,  6.2077e-04, -1.2097e-03, -4.4474e-03,  4.6044e-03,\n",
       "        -6.5910e-04, -7.5349e-04, -2.2270e-03, -2.8809e-03, -7.6910e-04,\n",
       "        -8.3157e-03, -9.2905e-04, -1.2611e-03,  1.6958e-03,  1.7305e-03,\n",
       "         3.2044e-03,  2.6173e-03, -3.8723e-03,  1.2840e-04, -4.3503e-03,\n",
       "         8.2148e-04,  1.7199e-03,  4.5639e-03, -1.2464e-03,  1.9161e-03,\n",
       "        -2.2686e-04, -6.0822e-03, -3.3107e-03, -3.9914e-03, -1.8253e-03,\n",
       "        -9.8781e-05, -3.7622e-04,  4.0962e-04, -2.3172e-03,  1.7000e-03,\n",
       "         1.6250e-03, -4.1741e-03,  1.6663e-03,  2.3251e-03, -1.3617e-03,\n",
       "         1.8234e-03,  2.2528e-05, -4.6291e-05, -3.6841e-03,  3.4942e-03,\n",
       "         3.3400e-03, -2.2279e-03,  1.3605e-03, -2.3897e-03, -5.4269e-03,\n",
       "         1.0525e-03,  3.7370e-03,  6.7274e-04, -2.1267e-03,  1.1230e-03,\n",
       "        -1.9583e-03, -1.0119e-04,  5.4515e-03, -5.7069e-04,  4.0290e-03,\n",
       "         1.7061e-03,  8.8862e-04,  5.1579e-03, -1.7934e-03,  6.3909e-04,\n",
       "         4.3694e-03,  1.2166e-03,  6.3088e-04, -6.9658e-04,  2.8275e-03,\n",
       "         1.3525e-03, -1.4794e-04,  4.7986e-04,  2.9579e-03, -3.6428e-04,\n",
       "         3.1395e-03,  2.0283e-03,  6.6030e-04, -3.4356e-04,  2.2223e-03,\n",
       "         2.1018e-03, -3.6386e-04,  1.1514e-03,  4.3875e-04, -4.5161e-03,\n",
       "         1.0359e-03,  2.6807e-03, -1.5430e-03,  4.1554e-05, -3.0887e-04,\n",
       "        -7.9120e-04,  1.9608e-03,  2.5359e-04,  1.0937e-03, -3.2348e-04,\n",
       "         1.3112e-04,  1.5074e-03, -3.3533e-03,  9.8169e-04, -5.2284e-04,\n",
       "         1.3747e-03, -4.7408e-03, -5.5241e-04, -6.4054e-04,  3.0441e-04,\n",
       "         1.3037e-03, -4.5248e-04, -2.2012e-03,  7.6119e-04,  5.3694e-05,\n",
       "         4.7444e-04, -2.9804e-03,  4.0276e-04,  2.4306e-03,  3.8113e-04,\n",
       "        -1.2839e-03, -7.1419e-04, -3.2176e-03, -1.6195e-03,  8.4937e-04,\n",
       "         1.3038e-03, -3.5509e-04, -1.5786e-03, -1.7350e-03,  8.5845e-04,\n",
       "         9.1009e-04, -7.0567e-04, -6.2837e-04, -1.0712e-03, -9.7277e-05,\n",
       "         2.6638e-04,  2.3639e-03, -4.2611e-03, -2.2416e-03, -1.1255e-03,\n",
       "         8.2460e-04, -7.7557e-04,  1.9394e-03, -1.7107e-03,  1.0478e-03,\n",
       "         1.3784e-03,  5.1448e-04,  1.9722e-03, -1.6032e-03,  6.3765e-04,\n",
       "         4.6615e-04,  2.0904e-03,  1.9137e-04,  1.5728e-03, -1.6731e-03,\n",
       "         1.2058e-03, -2.1900e-03,  1.9766e-03, -2.3016e-03,  1.1875e-03,\n",
       "        -1.4003e-03, -2.4037e-04,  1.1378e-03, -6.7798e-04,  2.5701e-03,\n",
       "        -6.4769e-04, -2.3915e-03, -2.3310e-03, -1.2159e-03,  2.0487e-03,\n",
       "        -1.2956e-03,  1.7757e-03, -7.6944e-04, -4.1152e-03,  1.5858e-03,\n",
       "        -4.7277e-04, -6.1488e-04,  6.4725e-04, -1.4308e-03, -2.3531e-03,\n",
       "        -3.1443e-03, -1.6067e-03,  2.2642e-03,  9.2018e-05, -7.5677e-04,\n",
       "         2.3379e-03, -1.5432e-03,  2.2468e-03,  1.1935e-03, -5.7701e-04,\n",
       "         1.7961e-03,  5.8603e-04,  2.8852e-03,  1.8866e-03, -2.3367e-04,\n",
       "         6.1445e-04, -1.6887e-03, -1.5743e-03,  1.8171e-03,  1.4193e-04,\n",
       "         2.0321e-03,  6.5311e-03, -1.1974e-03, -1.3194e-03,  3.4582e-03,\n",
       "        -3.5933e-03,  3.0023e-03,  2.1659e-03,  4.5413e-03,  2.5582e-03,\n",
       "         9.0278e-05, -2.4386e-03, -3.4979e-04,  3.6338e-03,  1.4382e-03,\n",
       "        -2.1568e-03, -4.3663e-03,  2.4754e-03, -2.5498e-03,  9.3997e-04,\n",
       "        -2.9677e-03, -1.1288e-04, -3.2200e-03, -6.3911e-03, -7.9378e-04,\n",
       "         1.4907e-03,  1.9312e-03,  1.7382e-03,  5.5153e-03,  2.6058e-03,\n",
       "        -5.6212e-04, -7.1624e-03, -3.3079e-03, -3.2267e-03, -2.6781e-03,\n",
       "        -8.1573e-04, -3.5097e-03, -1.5455e-04,  3.6644e-03,  3.8557e-04,\n",
       "        -1.4939e-03,  1.7009e-03, -1.5032e-03, -5.1180e-03, -3.4543e-03,\n",
       "        -3.8104e-03,  3.9199e-03, -4.9379e-04,  2.3250e-03, -2.3061e-04,\n",
       "        -3.7607e-03, -2.2979e-03,  2.6172e-04, -1.8256e-03, -2.8880e-04,\n",
       "         1.8799e-03, -6.1913e-04,  2.0894e-03, -6.3174e-04, -2.7680e-03,\n",
       "         5.3992e-03, -5.8881e-03, -3.7810e-03, -1.2816e-03, -1.9544e-03,\n",
       "         5.9226e-03,  3.8861e-03,  1.9017e-03,  6.4641e-04,  1.3844e-04,\n",
       "        -3.7377e-03, -2.9628e-03, -3.2913e-03,  1.6391e-03, -5.8727e-05,\n",
       "         1.5404e-03, -6.1024e-03, -1.0886e-03,  2.7933e-03, -2.7643e-03,\n",
       "         2.3207e-03,  7.5202e-04, -1.8232e-03, -1.0905e-03, -2.9531e-03,\n",
       "         1.7102e-03,  2.4259e-03,  1.1053e-03,  4.1845e-03, -4.0787e-03,\n",
       "        -2.9755e-03, -6.9620e-05, -2.0987e-03,  3.1875e-03, -2.8671e-03,\n",
       "         1.6299e-03, -1.8977e-03, -4.6078e-03, -1.3457e-03,  2.6928e-04,\n",
       "        -3.0464e-03,  5.0422e-04,  2.1132e-03,  1.4270e-03,  1.5166e-03,\n",
       "        -2.1034e-03, -3.8364e-03, -2.6721e-03,  2.4307e-03,  2.0817e-03,\n",
       "        -4.3358e-03,  4.2757e-03,  1.0120e-03, -1.9561e-03,  1.3125e-03,\n",
       "         2.1250e-03, -3.4695e-03, -5.0636e-06, -3.6495e-03, -7.5881e-04,\n",
       "         4.1714e-03,  2.6322e-04,  1.7546e-03, -3.2954e-03, -3.3457e-03,\n",
       "        -5.6262e-03,  8.2010e-03,  3.1612e-03,  7.9004e-04, -4.1380e-03,\n",
       "        -1.9747e-03, -9.1793e-04,  4.1773e-03, -6.7487e-03,  1.3533e-03,\n",
       "        -5.1186e-03, -1.8396e-03, -2.9405e-03, -3.3857e-03, -2.1431e-03,\n",
       "         7.9259e-04, -2.1589e-04,  4.4159e-03, -1.0972e-05,  4.7717e-03,\n",
       "         5.9975e-03,  3.7115e-03, -5.8263e-03, -1.4897e-03,  4.7102e-03,\n",
       "         3.1084e-03,  7.5478e-03, -2.2411e-04, -3.2253e-03,  4.2187e-03,\n",
       "         2.8618e-03,  2.2959e-03, -5.5697e-03,  3.3445e-03,  1.9183e-03,\n",
       "         4.0987e-03,  4.7633e-03,  2.2716e-03, -3.9922e-03, -1.3958e-03,\n",
       "         3.0643e-03, -1.9670e-03, -3.1464e-03,  3.7902e-03,  1.2627e-05,\n",
       "        -2.9753e-03, -5.7541e-03, -1.0405e-03, -3.4386e-03, -5.8931e-03,\n",
       "        -2.1823e-03,  4.5738e-03,  2.8360e-03,  5.8113e-03, -1.6444e-03,\n",
       "         1.4431e-03,  8.1542e-03, -2.7134e-03, -1.7169e-03,  6.0826e-03,\n",
       "        -7.4264e-03,  4.8484e-03,  3.1272e-03,  3.5234e-03,  3.5074e-03,\n",
       "        -2.6778e-03,  1.1519e-04, -4.7536e-03, -1.9328e-03, -2.1680e-03,\n",
       "         5.4399e-03,  3.1075e-03, -4.1629e-03, -2.8152e-03,  3.7793e-03,\n",
       "         2.2695e-03, -1.7827e-03, -4.8512e-03, -3.5527e-03, -7.5123e-03,\n",
       "         4.0221e-03, -4.5522e-03,  2.8002e-03, -3.0477e-03,  1.3327e-03,\n",
       "         2.9849e-03, -2.3801e-03, -2.5520e-03,  4.8065e-03, -6.3975e-03,\n",
       "         7.9196e-03,  1.7384e-04, -4.7314e-03,  2.7880e-03, -1.1850e-03,\n",
       "        -1.0632e-03, -2.1725e-04, -8.7743e-04, -4.2044e-03, -3.0908e-03,\n",
       "         2.1465e-03,  1.5579e-03, -1.0300e-03, -1.0580e-03,  1.5577e-03,\n",
       "         1.1248e-03,  1.0437e-03, -5.8379e-03, -5.8021e-03, -2.5303e-03,\n",
       "        -1.7506e-03, -4.7767e-03, -1.0677e-03,  2.7741e-04, -1.9355e-03,\n",
       "         4.7698e-04, -3.2704e-03, -4.4860e-03, -3.0226e-03, -8.0377e-04,\n",
       "        -7.2165e-03, -1.1805e-03, -5.2408e-04, -1.8041e-04,  3.6946e-03,\n",
       "        -5.5780e-03,  5.7287e-03,  2.9305e-03], device='cuda:0',\n",
       "       requires_grad=True)),('model.encoder.layer.0.attention.self.value.weight', Parameter containing:\n",
       "tensor([[ 0.0115,  0.0027, -0.0095,  ...,  0.0228, -0.0271,  0.0007],\n",
       "        [-0.0271, -0.0127, -0.0421,  ...,  0.0582, -0.0118, -0.0239],\n",
       "        [ 0.0195, -0.0220,  0.0324,  ...,  0.0064, -0.0372, -0.0230],\n",
       "        ...,\n",
       "        [-0.0329, -0.0203,  0.0314,  ..., -0.0413, -0.0509, -0.0050],\n",
       "        [-0.0091,  0.0421,  0.0485,  ...,  0.0260,  0.0139, -0.0104],\n",
       "        [-0.0011, -0.0238,  0.0056,  ..., -0.0497, -0.0588, -0.0353]],\n",
       "       device='cuda:0', requires_grad=True))...]"
      ]
     },
     "execution_count": null,
     "metadata": {},
     "output_type": "execute_result"
    }
   ],
   "source": [
    "L(modeller.named_parameters())"
   ]
  },
  {
   "cell_type": "code",
   "execution_count": null,
   "metadata": {},
   "outputs": [
    {
     "data": {
      "text/html": [],
      "text/plain": [
       "<IPython.core.display.HTML object>"
      ]
     },
     "metadata": {},
     "output_type": "display_data"
    },
    {
     "data": {
      "text/plain": [
       "(#3) [0.2675606608390808,0.07412398606538773,0.07246539422446721]"
      ]
     },
     "execution_count": null,
     "metadata": {},
     "output_type": "execute_result"
    }
   ],
   "source": [
    "learn.validate()"
   ]
  },
  {
   "cell_type": "code",
   "execution_count": null,
   "metadata": {},
   "outputs": [
    {
     "data": {
      "text/html": [],
      "text/plain": [
       "<IPython.core.display.HTML object>"
      ]
     },
     "metadata": {},
     "output_type": "display_data"
    },
    {
     "data": {
      "text/plain": [
       "SuggestedLRs(lr_min=0.003981071710586548, lr_steep=3.0199516913853586e-05)"
      ]
     },
     "execution_count": null,
     "metadata": {},
     "output_type": "execute_result"
    },
    {
     "data": {
      "image/png": "[encoded data removed]",
      "text/plain": [
       "<Figure size 432x288 with 1 Axes>"
      ]
     },
     "metadata": {
      "needs_background": "light"
     },
     "output_type": "display_data"
    }
   ],
   "source": [
    "#export\n",
    "learn.lr_find()"
   ]
  },
  {
   "cell_type": "code",
   "execution_count": null,
   "metadata": {},
   "outputs": [
    {
     "data": {
      "text/html": [
       "<table border=\"1\" class=\"dataframe\">\n",
       "  <thead>\n",
       "    <tr style=\"text-align: left;\">\n",
       "      <th>epoch</th>\n",
       "      <th>train_loss</th>\n",
       "      <th>valid_loss</th>\n",
       "      <th>accuracy</th>\n",
       "      <th>f1_score</th>\n",
       "      <th>time</th>\n",
       "    </tr>\n",
       "  </thead>\n",
       "  <tbody>\n",
       "    <tr>\n",
       "      <td>0</td>\n",
       "      <td>0.073996</td>\n",
       "      <td>0.025904</td>\n",
       "      <td>0.776280</td>\n",
       "      <td>0.410963</td>\n",
       "      <td>00:23</td>\n",
       "    </tr>\n",
       "    <tr>\n",
       "      <td>1</td>\n",
       "      <td>0.030363</td>\n",
       "      <td>0.014618</td>\n",
       "      <td>0.816712</td>\n",
       "      <td>0.441600</td>\n",
       "      <td>00:23</td>\n",
       "    </tr>\n",
       "    <tr>\n",
       "      <td>2</td>\n",
       "      <td>0.015823</td>\n",
       "      <td>0.021170</td>\n",
       "      <td>0.812668</td>\n",
       "      <td>0.458863</td>\n",
       "      <td>00:22</td>\n",
       "    </tr>\n",
       "    <tr>\n",
       "      <td>3</td>\n",
       "      <td>0.008902</td>\n",
       "      <td>0.020337</td>\n",
       "      <td>0.799191</td>\n",
       "      <td>0.485091</td>\n",
       "      <td>00:23</td>\n",
       "    </tr>\n",
       "    <tr>\n",
       "      <td>4</td>\n",
       "      <td>0.004484</td>\n",
       "      <td>0.022919</td>\n",
       "      <td>0.793801</td>\n",
       "      <td>0.503127</td>\n",
       "      <td>00:23</td>\n",
       "    </tr>\n",
       "    <tr>\n",
       "      <td>5</td>\n",
       "      <td>0.002214</td>\n",
       "      <td>0.024975</td>\n",
       "      <td>0.789757</td>\n",
       "      <td>0.516347</td>\n",
       "      <td>00:23</td>\n",
       "    </tr>\n",
       "    <tr>\n",
       "      <td>6</td>\n",
       "      <td>0.001172</td>\n",
       "      <td>0.025302</td>\n",
       "      <td>0.788410</td>\n",
       "      <td>0.515206</td>\n",
       "      <td>00:23</td>\n",
       "    </tr>\n",
       "  </tbody>\n",
       "</table>"
      ],
      "text/plain": [
       "<IPython.core.display.HTML object>"
      ]
     },
     "metadata": {},
     "output_type": "display_data"
    }
   ],
   "source": [
    "#export\n",
    "lr = 2e-4\n",
    "\n",
    "# learn.fit_one_cycle(7, lr, moms=(0.8,0.7,0.8), wd=0.1)\n",
    "learn.fit_one_cycle(7, lr)"
   ]
  },
  {
   "cell_type": "code",
   "execution_count": null,
   "metadata": {},
   "outputs": [
    {
     "data": {
      "text/plain": [
       "Path('models/task2.pkl.pth')"
      ]
     },
     "execution_count": null,
     "metadata": {},
     "output_type": "execute_result"
    }
   ],
   "source": [
    "#export\n",
    "# learn.export(os.path.join('models', 'task2.pkl'))\n",
    "learn.save(os.path.join('task2.pkl'))"
   ]
  },
  {
   "cell_type": "markdown",
   "metadata": {},
   "source": [
    "## interp"
   ]
  },
  {
   "cell_type": "code",
   "execution_count": null,
   "metadata": {},
   "outputs": [],
   "source": [
    "learn.loss"
   ]
  },
  {
   "cell_type": "code",
   "execution_count": null,
   "metadata": {},
   "outputs": [
    {
     "data": {
      "text/plain": [
       "<fastai.text.data.SortedDL at 0x7f59ea08dc18>"
      ]
     },
     "execution_count": null,
     "metadata": {},
     "output_type": "execute_result"
    }
   ],
   "source": [
    "dls_clas.valid"
   ]
  },
  {
   "cell_type": "code",
   "execution_count": null,
   "metadata": {},
   "outputs": [
    {
     "data": {
      "text/html": [],
      "text/plain": [
       "<IPython.core.display.HTML object>"
      ]
     },
     "metadata": {},
     "output_type": "display_data"
    },
    {
     "data": {
      "text/plain": [
       "(tensor([[1.1006e-04, 9.9971e-01, 8.0556e-05, 9.6281e-05],\n",
       "         [7.0974e-05, 9.9980e-01, 6.5440e-05, 6.2897e-05],\n",
       "         [1.2697e-04, 9.9963e-01, 1.3288e-04, 1.0736e-04],\n",
       "         ...,\n",
       "         [1.1295e-03, 1.7662e-02, 1.5125e-03, 9.7970e-01],\n",
       "         [2.9721e-04, 9.9902e-01, 1.9905e-04, 4.8710e-04],\n",
       "         [5.6341e-03, 1.4437e-03, 2.2125e-02, 9.7080e-01]]),\n",
       " tensor([1, 1, 1, 1, 1, 0, 2, 0, 3, 3, 1, 3, 2, 2, 3, 1, 3, 1, 3, 3, 1, 1, 3, 3,\n",
       "         3, 1, 1, 1, 1, 1, 1, 1, 0, 3, 3, 1, 1, 1, 2, 1, 1, 1, 0, 1, 3, 3, 3, 3,\n",
       "         3, 3, 1, 2, 1, 3, 1, 3, 2, 3, 1, 3, 1, 3, 1, 1, 3, 3, 1, 1, 1, 0, 0, 3,\n",
       "         1, 1, 3, 1, 1, 1, 3, 1, 1, 1, 3, 3, 3, 1, 3, 1, 2, 3, 3, 1, 3, 1, 1, 1,\n",
       "         1, 3, 3, 1, 1, 3, 2, 3, 2, 3, 1, 2, 1, 1, 3, 3, 2, 1, 3, 3, 3, 3, 3, 3,\n",
       "         1, 1, 2, 1, 3, 3, 3, 3, 3, 1, 1, 2, 3, 3, 3, 1, 1, 1, 0, 3, 1, 1, 1, 1,\n",
       "         0, 1, 1, 3, 3, 3, 3, 3, 1, 3, 1, 1, 3, 3, 1, 1, 1, 1, 1, 1, 3, 1, 1, 3,\n",
       "         3, 3, 1, 3, 1, 3, 3, 3, 1, 3, 3, 3, 1, 3, 1, 2, 1, 1, 3, 1, 1, 1, 3, 1,\n",
       "         3, 3, 3, 1, 1, 3, 1, 1, 1, 3, 1, 3, 1, 1, 1, 1, 3, 1, 1, 1, 1, 1, 1, 3,\n",
       "         1, 2, 3, 1, 3, 3, 3, 1, 3, 3, 1, 3, 1, 3, 3, 3, 1, 3, 1, 0, 0, 1, 1, 1,\n",
       "         0, 3, 1, 3, 3, 3, 2, 2, 3, 2, 3, 1, 1, 1, 2, 3, 3, 3, 3, 0, 1, 0, 1, 3,\n",
       "         3, 1, 1, 2, 1, 3, 1, 3, 1, 3, 1, 0, 3, 1, 3, 1, 1, 3, 3, 1, 1, 3, 1, 1,\n",
       "         3, 1, 3, 3, 3, 1, 3, 1, 3, 1, 3, 3, 3, 1, 1, 1, 3, 1, 3, 3, 3, 1, 1, 1,\n",
       "         1, 1, 1, 1, 3, 2, 1, 3, 3, 1, 1, 1, 0, 1, 2, 1, 3, 1, 3, 2, 3, 1, 1, 0,\n",
       "         1, 1, 3, 0, 0, 1, 3, 1, 1, 1, 1, 2, 3, 3, 3, 1, 1, 1, 3, 2, 3, 1, 1, 1,\n",
       "         1, 1, 3, 3, 3, 1, 1, 1, 3, 3, 1, 1, 3, 1, 3, 1, 1, 3, 1, 2, 2, 3, 1, 3,\n",
       "         1, 1, 3, 1, 1, 3, 1, 2, 1, 3, 3, 1, 1, 1, 1, 3, 1, 1, 2, 1, 3, 3, 3, 1,\n",
       "         3, 3, 1, 2, 1, 1, 1, 2, 1, 1, 0, 1, 1, 1, 1, 2, 3, 1, 1, 2, 3, 1, 1, 3,\n",
       "         3, 1, 3, 3, 1, 3, 1, 3, 1, 1, 1, 2, 0, 3, 1, 3, 3, 3, 1, 2, 3, 3, 1, 1,\n",
       "         3, 3, 1, 1, 1, 3, 3, 3, 3, 1, 3, 3, 3, 2, 3, 0, 3, 1, 3, 3, 3, 1, 1, 1,\n",
       "         3, 1, 1, 3, 3, 1, 3, 1, 3, 3, 1, 3, 1, 2, 3, 1, 2, 3, 2, 3, 3, 3, 3, 1,\n",
       "         3, 3, 1, 1, 3, 3, 1, 3, 1, 1, 0, 3, 3, 3, 0, 3, 1, 1, 1, 1, 2, 1, 2, 1,\n",
       "         3, 1, 1, 1, 1, 1, 1, 2, 3, 3, 3, 2, 1, 1, 1, 1, 1, 1, 1, 1, 3, 0, 1, 1,\n",
       "         3, 1, 3, 1, 1, 3, 0, 3, 1, 1, 2, 1, 1, 3, 1, 3, 3, 3, 3, 3, 1, 1, 3, 1,\n",
       "         1, 3, 1, 1, 2, 3, 3, 1, 3, 1, 1, 1, 1, 3, 3, 3, 1, 1, 3, 1, 1, 1, 3, 1,\n",
       "         3, 1, 1, 1, 1, 1, 1, 1, 3, 1, 3, 1, 1, 1, 3, 2, 1, 1, 3, 1, 3, 1, 2, 1,\n",
       "         1, 3, 3, 2, 1, 3, 1, 1, 1, 1, 1, 1, 3, 1, 1, 3, 1, 3, 3, 1, 3, 1, 3, 1,\n",
       "         3, 1, 1, 1, 3, 1, 3, 1, 1, 1, 3, 1, 1, 1, 1, 1, 1, 1, 3, 0, 1, 1, 1, 1,\n",
       "         3, 1, 1, 3, 2, 3, 3, 3, 1, 3, 3, 1, 1, 1, 1, 1, 3, 3, 1, 1, 3, 3, 3, 1,\n",
       "         3, 1, 2, 1, 3, 0, 2, 3, 3, 1, 2, 1, 1, 1, 1, 1, 1, 1, 1, 1, 2, 1, 1, 2,\n",
       "         1, 1, 0, 1, 1, 1, 1, 2, 1, 2, 2, 0, 0, 2, 2, 0, 2, 2, 2, 2, 2, 2]))"
      ]
     },
     "execution_count": null,
     "metadata": {},
     "output_type": "execute_result"
    }
   ],
   "source": [
    "learn.get_preds(dl=dls_clas.valid)"
   ]
  },
  {
   "cell_type": "code",
   "execution_count": null,
   "metadata": {},
   "outputs": [
    {
     "data": {
      "text/html": [],
      "text/plain": [
       "<IPython.core.display.HTML object>"
      ]
     },
     "metadata": {},
     "output_type": "display_data"
    },
    {
     "name": "stderr",
     "output_type": "stream",
     "text": [
      "/usr/local/lib/python3.6/dist-packages/fastprogress/fastprogress.py:74: UserWarning: Your generator is empty.\n",
      "  warn(\"Your generator is empty.\")\n"
     ]
    },
    {
     "ename": "TypeError",
     "evalue": "__init__() missing 1 required positional argument: 'losses'",
     "output_type": "error",
     "traceback": [
      "\u001b[0;31m---------------------------------------------------------------------------\u001b[0m",
      "\u001b[0;31mTypeError\u001b[0m                                 Traceback (most recent call last)",
      "\u001b[0;32m<ipython-input-58-aa7f7b70a42b>\u001b[0m in \u001b[0;36m<module>\u001b[0;34m()\u001b[0m\n\u001b[0;32m----> 1\u001b[0;31m \u001b[0minterp\u001b[0m \u001b[0;34m=\u001b[0m \u001b[0mClassificationInterpretation\u001b[0m\u001b[0;34m.\u001b[0m\u001b[0mfrom_learner\u001b[0m\u001b[0;34m(\u001b[0m\u001b[0mlearn\u001b[0m\u001b[0;34m)\u001b[0m\u001b[0;34m\u001b[0m\u001b[0;34m\u001b[0m\u001b[0m\n\u001b[0m",
      "\u001b[0;32m/usr/local/lib/python3.6/dist-packages/fastai/interpret.py\u001b[0m in \u001b[0;36mfrom_learner\u001b[0;34m(cls, learn, ds_idx, dl, act)\u001b[0m\n\u001b[1;32m     27\u001b[0m         \u001b[0;34m\"Construct interpretation object from a learner\"\u001b[0m\u001b[0;34m\u001b[0m\u001b[0;34m\u001b[0m\u001b[0m\n\u001b[1;32m     28\u001b[0m         \u001b[0;32mif\u001b[0m \u001b[0mdl\u001b[0m \u001b[0;32mis\u001b[0m \u001b[0;32mNone\u001b[0m\u001b[0;34m:\u001b[0m \u001b[0mdl\u001b[0m \u001b[0;34m=\u001b[0m \u001b[0mlearn\u001b[0m\u001b[0;34m.\u001b[0m\u001b[0mdls\u001b[0m\u001b[0;34m[\u001b[0m\u001b[0mds_idx\u001b[0m\u001b[0;34m]\u001b[0m\u001b[0;34m\u001b[0m\u001b[0;34m\u001b[0m\u001b[0m\n\u001b[0;32m---> 29\u001b[0;31m         \u001b[0;32mreturn\u001b[0m \u001b[0mcls\u001b[0m\u001b[0;34m(\u001b[0m\u001b[0mdl\u001b[0m\u001b[0;34m,\u001b[0m \u001b[0;34m*\u001b[0m\u001b[0mlearn\u001b[0m\u001b[0;34m.\u001b[0m\u001b[0mget_preds\u001b[0m\u001b[0;34m(\u001b[0m\u001b[0mdl\u001b[0m\u001b[0;34m=\u001b[0m\u001b[0mdl\u001b[0m\u001b[0;34m,\u001b[0m \u001b[0mwith_input\u001b[0m\u001b[0;34m=\u001b[0m\u001b[0;32mTrue\u001b[0m\u001b[0;34m,\u001b[0m \u001b[0mwith_loss\u001b[0m\u001b[0;34m=\u001b[0m\u001b[0;32mTrue\u001b[0m\u001b[0;34m,\u001b[0m \u001b[0mwith_decoded\u001b[0m\u001b[0;34m=\u001b[0m\u001b[0;32mTrue\u001b[0m\u001b[0;34m,\u001b[0m \u001b[0mact\u001b[0m\u001b[0;34m=\u001b[0m\u001b[0;32mNone\u001b[0m\u001b[0;34m)\u001b[0m\u001b[0;34m)\u001b[0m\u001b[0;34m\u001b[0m\u001b[0;34m\u001b[0m\u001b[0m\n\u001b[0m\u001b[1;32m     30\u001b[0m \u001b[0;34m\u001b[0m\u001b[0m\n\u001b[1;32m     31\u001b[0m     \u001b[0;32mdef\u001b[0m \u001b[0mtop_losses\u001b[0m\u001b[0;34m(\u001b[0m\u001b[0mself\u001b[0m\u001b[0;34m,\u001b[0m \u001b[0mk\u001b[0m\u001b[0;34m=\u001b[0m\u001b[0;32mNone\u001b[0m\u001b[0;34m,\u001b[0m \u001b[0mlargest\u001b[0m\u001b[0;34m=\u001b[0m\u001b[0;32mTrue\u001b[0m\u001b[0;34m)\u001b[0m\u001b[0;34m:\u001b[0m\u001b[0;34m\u001b[0m\u001b[0;34m\u001b[0m\u001b[0m\n",
      "\u001b[0;31mTypeError\u001b[0m: __init__() missing 1 required positional argument: 'losses'"
     ]
    }
   ],
   "source": [
    "interp = ClassificationInterpretation.from_learner(learn)"
   ]
  },
  {
   "cell_type": "code",
   "execution_count": null,
   "metadata": {},
   "outputs": [],
   "source": [
    "# interp.plot_confusion_matrix()"
   ]
  },
  {
   "cell_type": "code",
   "execution_count": null,
   "metadata": {},
   "outputs": [
    {
     "data": {
      "text/html": [],
      "text/plain": [
       "<IPython.core.display.HTML object>"
      ]
     },
     "metadata": {},
     "output_type": "display_data"
    },
    {
     "ename": "IndexError",
     "evalue": "list index out of range",
     "output_type": "error",
     "traceback": [
      "\u001b[0;31m---------------------------------------------------------------------------\u001b[0m",
      "\u001b[0;31mIndexError\u001b[0m                                Traceback (most recent call last)",
      "\u001b[0;32m<ipython-input-41-c290410f3687>\u001b[0m in \u001b[0;36m<module>\u001b[0;34m()\u001b[0m\n\u001b[0;32m----> 1\u001b[0;31m \u001b[0mlearn\u001b[0m\u001b[0;34m.\u001b[0m\u001b[0mpredict\u001b[0m\u001b[0;34m(\u001b[0m\u001b[0;34m'What the fuck are you talking. go to hell'\u001b[0m\u001b[0;34m,\u001b[0m \u001b[0mwith_input\u001b[0m\u001b[0;34m=\u001b[0m\u001b[0;32mTrue\u001b[0m\u001b[0;34m)\u001b[0m\u001b[0;34m\u001b[0m\u001b[0;34m\u001b[0m\u001b[0m\n\u001b[0m",
      "\u001b[0;32m/usr/local/lib/python3.6/dist-packages/fastai/learner.py\u001b[0m in \u001b[0;36mpredict\u001b[0;34m(self, item, rm_type_tfms, with_input)\u001b[0m\n\u001b[1;32m    249\u001b[0m         \u001b[0mi\u001b[0m \u001b[0;34m=\u001b[0m \u001b[0mgetattr\u001b[0m\u001b[0;34m(\u001b[0m\u001b[0mself\u001b[0m\u001b[0;34m.\u001b[0m\u001b[0mdls\u001b[0m\u001b[0;34m,\u001b[0m \u001b[0;34m'n_inp'\u001b[0m\u001b[0;34m,\u001b[0m \u001b[0;34m-\u001b[0m\u001b[0;36m1\u001b[0m\u001b[0;34m)\u001b[0m\u001b[0;34m\u001b[0m\u001b[0;34m\u001b[0m\u001b[0m\n\u001b[1;32m    250\u001b[0m         \u001b[0minp\u001b[0m \u001b[0;34m=\u001b[0m \u001b[0;34m(\u001b[0m\u001b[0minp\u001b[0m\u001b[0;34m,\u001b[0m\u001b[0;34m)\u001b[0m \u001b[0;32mif\u001b[0m \u001b[0mi\u001b[0m\u001b[0;34m==\u001b[0m\u001b[0;36m1\u001b[0m \u001b[0;32melse\u001b[0m \u001b[0mtuplify\u001b[0m\u001b[0;34m(\u001b[0m\u001b[0minp\u001b[0m\u001b[0;34m)\u001b[0m\u001b[0;34m\u001b[0m\u001b[0;34m\u001b[0m\u001b[0m\n\u001b[0;32m--> 251\u001b[0;31m         \u001b[0mdec\u001b[0m \u001b[0;34m=\u001b[0m \u001b[0mself\u001b[0m\u001b[0;34m.\u001b[0m\u001b[0mdls\u001b[0m\u001b[0;34m.\u001b[0m\u001b[0mdecode_batch\u001b[0m\u001b[0;34m(\u001b[0m\u001b[0minp\u001b[0m \u001b[0;34m+\u001b[0m \u001b[0mtuplify\u001b[0m\u001b[0;34m(\u001b[0m\u001b[0mdec_preds\u001b[0m\u001b[0;34m)\u001b[0m\u001b[0;34m)\u001b[0m\u001b[0;34m[\u001b[0m\u001b[0;36m0\u001b[0m\u001b[0;34m]\u001b[0m\u001b[0;34m\u001b[0m\u001b[0;34m\u001b[0m\u001b[0m\n\u001b[0m\u001b[1;32m    252\u001b[0m         \u001b[0mdec_inp\u001b[0m\u001b[0;34m,\u001b[0m\u001b[0mdec_targ\u001b[0m \u001b[0;34m=\u001b[0m \u001b[0mmap\u001b[0m\u001b[0;34m(\u001b[0m\u001b[0mdetuplify\u001b[0m\u001b[0;34m,\u001b[0m \u001b[0;34m[\u001b[0m\u001b[0mdec\u001b[0m\u001b[0;34m[\u001b[0m\u001b[0;34m:\u001b[0m\u001b[0mi\u001b[0m\u001b[0;34m]\u001b[0m\u001b[0;34m,\u001b[0m\u001b[0mdec\u001b[0m\u001b[0;34m[\u001b[0m\u001b[0mi\u001b[0m\u001b[0;34m:\u001b[0m\u001b[0;34m]\u001b[0m\u001b[0;34m]\u001b[0m\u001b[0;34m)\u001b[0m\u001b[0;34m\u001b[0m\u001b[0;34m\u001b[0m\u001b[0m\n\u001b[1;32m    253\u001b[0m         \u001b[0mres\u001b[0m \u001b[0;34m=\u001b[0m \u001b[0mdec_targ\u001b[0m\u001b[0;34m,\u001b[0m\u001b[0mdec_preds\u001b[0m\u001b[0;34m[\u001b[0m\u001b[0;36m0\u001b[0m\u001b[0;34m]\u001b[0m\u001b[0;34m,\u001b[0m\u001b[0mpreds\u001b[0m\u001b[0;34m[\u001b[0m\u001b[0;36m0\u001b[0m\u001b[0;34m]\u001b[0m\u001b[0;34m\u001b[0m\u001b[0;34m\u001b[0m\u001b[0m\n",
      "\u001b[0;32m/usr/local/lib/python3.6/dist-packages/fastai/data/core.py\u001b[0m in \u001b[0;36mdecode_batch\u001b[0;34m(self, b, max_n, full)\u001b[0m\n\u001b[1;32m     79\u001b[0m \u001b[0;34m\u001b[0m\u001b[0m\n\u001b[1;32m     80\u001b[0m     \u001b[0;32mdef\u001b[0m \u001b[0mdecode\u001b[0m\u001b[0;34m(\u001b[0m\u001b[0mself\u001b[0m\u001b[0;34m,\u001b[0m \u001b[0mb\u001b[0m\u001b[0;34m)\u001b[0m\u001b[0;34m:\u001b[0m \u001b[0;32mreturn\u001b[0m \u001b[0mself\u001b[0m\u001b[0;34m.\u001b[0m\u001b[0mbefore_batch\u001b[0m\u001b[0;34m.\u001b[0m\u001b[0mdecode\u001b[0m\u001b[0;34m(\u001b[0m\u001b[0mto_cpu\u001b[0m\u001b[0;34m(\u001b[0m\u001b[0mself\u001b[0m\u001b[0;34m.\u001b[0m\u001b[0mafter_batch\u001b[0m\u001b[0;34m.\u001b[0m\u001b[0mdecode\u001b[0m\u001b[0;34m(\u001b[0m\u001b[0mself\u001b[0m\u001b[0;34m.\u001b[0m\u001b[0m_retain_dl\u001b[0m\u001b[0;34m(\u001b[0m\u001b[0mb\u001b[0m\u001b[0;34m)\u001b[0m\u001b[0;34m)\u001b[0m\u001b[0;34m)\u001b[0m\u001b[0;34m)\u001b[0m\u001b[0;34m\u001b[0m\u001b[0;34m\u001b[0m\u001b[0m\n\u001b[0;32m---> 81\u001b[0;31m     \u001b[0;32mdef\u001b[0m \u001b[0mdecode_batch\u001b[0m\u001b[0;34m(\u001b[0m\u001b[0mself\u001b[0m\u001b[0;34m,\u001b[0m \u001b[0mb\u001b[0m\u001b[0;34m,\u001b[0m \u001b[0mmax_n\u001b[0m\u001b[0;34m=\u001b[0m\u001b[0;36m9\u001b[0m\u001b[0;34m,\u001b[0m \u001b[0mfull\u001b[0m\u001b[0;34m=\u001b[0m\u001b[0;32mTrue\u001b[0m\u001b[0;34m)\u001b[0m\u001b[0;34m:\u001b[0m \u001b[0;32mreturn\u001b[0m \u001b[0mself\u001b[0m\u001b[0;34m.\u001b[0m\u001b[0m_decode_batch\u001b[0m\u001b[0;34m(\u001b[0m\u001b[0mself\u001b[0m\u001b[0;34m.\u001b[0m\u001b[0mdecode\u001b[0m\u001b[0;34m(\u001b[0m\u001b[0mb\u001b[0m\u001b[0;34m)\u001b[0m\u001b[0;34m,\u001b[0m \u001b[0mmax_n\u001b[0m\u001b[0;34m,\u001b[0m \u001b[0mfull\u001b[0m\u001b[0;34m)\u001b[0m\u001b[0;34m\u001b[0m\u001b[0;34m\u001b[0m\u001b[0m\n\u001b[0m\u001b[1;32m     82\u001b[0m \u001b[0;34m\u001b[0m\u001b[0m\n\u001b[1;32m     83\u001b[0m     \u001b[0;32mdef\u001b[0m \u001b[0m_decode_batch\u001b[0m\u001b[0;34m(\u001b[0m\u001b[0mself\u001b[0m\u001b[0;34m,\u001b[0m \u001b[0mb\u001b[0m\u001b[0;34m,\u001b[0m \u001b[0mmax_n\u001b[0m\u001b[0;34m=\u001b[0m\u001b[0;36m9\u001b[0m\u001b[0;34m,\u001b[0m \u001b[0mfull\u001b[0m\u001b[0;34m=\u001b[0m\u001b[0;32mTrue\u001b[0m\u001b[0;34m)\u001b[0m\u001b[0;34m:\u001b[0m\u001b[0;34m\u001b[0m\u001b[0;34m\u001b[0m\u001b[0m\n",
      "\u001b[0;32m/usr/local/lib/python3.6/dist-packages/fastai/data/core.py\u001b[0m in \u001b[0;36m_decode_batch\u001b[0;34m(self, b, max_n, full)\u001b[0m\n\u001b[1;32m     84\u001b[0m         \u001b[0mf\u001b[0m \u001b[0;34m=\u001b[0m \u001b[0mself\u001b[0m\u001b[0;34m.\u001b[0m\u001b[0mafter_item\u001b[0m\u001b[0;34m.\u001b[0m\u001b[0mdecode\u001b[0m\u001b[0;34m\u001b[0m\u001b[0;34m\u001b[0m\u001b[0m\n\u001b[1;32m     85\u001b[0m         \u001b[0mf\u001b[0m \u001b[0;34m=\u001b[0m \u001b[0mcompose\u001b[0m\u001b[0;34m(\u001b[0m\u001b[0mf\u001b[0m\u001b[0;34m,\u001b[0m \u001b[0mpartial\u001b[0m\u001b[0;34m(\u001b[0m\u001b[0mgetattr\u001b[0m\u001b[0;34m(\u001b[0m\u001b[0mself\u001b[0m\u001b[0;34m.\u001b[0m\u001b[0mdataset\u001b[0m\u001b[0;34m,\u001b[0m\u001b[0;34m'decode'\u001b[0m\u001b[0;34m,\u001b[0m\u001b[0mnoop\u001b[0m\u001b[0;34m)\u001b[0m\u001b[0;34m,\u001b[0m \u001b[0mfull\u001b[0m \u001b[0;34m=\u001b[0m \u001b[0mfull\u001b[0m\u001b[0;34m)\u001b[0m\u001b[0;34m)\u001b[0m\u001b[0;34m\u001b[0m\u001b[0;34m\u001b[0m\u001b[0m\n\u001b[0;32m---> 86\u001b[0;31m         \u001b[0;32mreturn\u001b[0m \u001b[0mL\u001b[0m\u001b[0;34m(\u001b[0m\u001b[0mbatch_to_samples\u001b[0m\u001b[0;34m(\u001b[0m\u001b[0mb\u001b[0m\u001b[0;34m,\u001b[0m \u001b[0mmax_n\u001b[0m\u001b[0;34m=\u001b[0m\u001b[0mmax_n\u001b[0m\u001b[0;34m)\u001b[0m\u001b[0;34m)\u001b[0m\u001b[0;34m.\u001b[0m\u001b[0mmap\u001b[0m\u001b[0;34m(\u001b[0m\u001b[0mf\u001b[0m\u001b[0;34m)\u001b[0m\u001b[0;34m\u001b[0m\u001b[0;34m\u001b[0m\u001b[0m\n\u001b[0m\u001b[1;32m     87\u001b[0m \u001b[0;34m\u001b[0m\u001b[0m\n\u001b[1;32m     88\u001b[0m     \u001b[0;32mdef\u001b[0m \u001b[0m_pre_show_batch\u001b[0m\u001b[0;34m(\u001b[0m\u001b[0mself\u001b[0m\u001b[0;34m,\u001b[0m \u001b[0mb\u001b[0m\u001b[0;34m,\u001b[0m \u001b[0mmax_n\u001b[0m\u001b[0;34m=\u001b[0m\u001b[0;36m9\u001b[0m\u001b[0;34m)\u001b[0m\u001b[0;34m:\u001b[0m\u001b[0;34m\u001b[0m\u001b[0;34m\u001b[0m\u001b[0m\n",
      "\u001b[0;32m/usr/local/lib/python3.6/dist-packages/fastcore/foundation.py\u001b[0m in \u001b[0;36mmap\u001b[0;34m(self, f, *args, **kwargs)\u001b[0m\n\u001b[1;32m    270\u001b[0m              \u001b[0;32melse\u001b[0m \u001b[0mf\u001b[0m\u001b[0;34m.\u001b[0m\u001b[0mformat\u001b[0m \u001b[0;32mif\u001b[0m \u001b[0misinstance\u001b[0m\u001b[0;34m(\u001b[0m\u001b[0mf\u001b[0m\u001b[0;34m,\u001b[0m\u001b[0mstr\u001b[0m\u001b[0;34m)\u001b[0m\u001b[0;34m\u001b[0m\u001b[0;34m\u001b[0m\u001b[0m\n\u001b[1;32m    271\u001b[0m              else f.__getitem__)\n\u001b[0;32m--> 272\u001b[0;31m         \u001b[0;32mreturn\u001b[0m \u001b[0mself\u001b[0m\u001b[0;34m.\u001b[0m\u001b[0m_new\u001b[0m\u001b[0;34m(\u001b[0m\u001b[0mmap\u001b[0m\u001b[0;34m(\u001b[0m\u001b[0mg\u001b[0m\u001b[0;34m,\u001b[0m \u001b[0mself\u001b[0m\u001b[0;34m)\u001b[0m\u001b[0;34m)\u001b[0m\u001b[0;34m\u001b[0m\u001b[0;34m\u001b[0m\u001b[0m\n\u001b[0m\u001b[1;32m    273\u001b[0m \u001b[0;34m\u001b[0m\u001b[0m\n\u001b[1;32m    274\u001b[0m     \u001b[0;32mdef\u001b[0m \u001b[0mfilter\u001b[0m\u001b[0;34m(\u001b[0m\u001b[0mself\u001b[0m\u001b[0;34m,\u001b[0m \u001b[0mf\u001b[0m\u001b[0;34m,\u001b[0m \u001b[0mnegate\u001b[0m\u001b[0;34m=\u001b[0m\u001b[0;32mFalse\u001b[0m\u001b[0;34m,\u001b[0m \u001b[0;34m**\u001b[0m\u001b[0mkwargs\u001b[0m\u001b[0;34m)\u001b[0m\u001b[0;34m:\u001b[0m\u001b[0;34m\u001b[0m\u001b[0;34m\u001b[0m\u001b[0m\n",
      "\u001b[0;32m/usr/local/lib/python3.6/dist-packages/fastcore/foundation.py\u001b[0m in \u001b[0;36m_new\u001b[0;34m(self, items, *args, **kwargs)\u001b[0m\n\u001b[1;32m    216\u001b[0m     \u001b[0;34m@\u001b[0m\u001b[0mproperty\u001b[0m\u001b[0;34m\u001b[0m\u001b[0;34m\u001b[0m\u001b[0m\n\u001b[1;32m    217\u001b[0m     \u001b[0;32mdef\u001b[0m \u001b[0m_xtra\u001b[0m\u001b[0;34m(\u001b[0m\u001b[0mself\u001b[0m\u001b[0;34m)\u001b[0m\u001b[0;34m:\u001b[0m \u001b[0;32mreturn\u001b[0m \u001b[0;32mNone\u001b[0m\u001b[0;34m\u001b[0m\u001b[0;34m\u001b[0m\u001b[0m\n\u001b[0;32m--> 218\u001b[0;31m     \u001b[0;32mdef\u001b[0m \u001b[0m_new\u001b[0m\u001b[0;34m(\u001b[0m\u001b[0mself\u001b[0m\u001b[0;34m,\u001b[0m \u001b[0mitems\u001b[0m\u001b[0;34m,\u001b[0m \u001b[0;34m*\u001b[0m\u001b[0margs\u001b[0m\u001b[0;34m,\u001b[0m \u001b[0;34m**\u001b[0m\u001b[0mkwargs\u001b[0m\u001b[0;34m)\u001b[0m\u001b[0;34m:\u001b[0m \u001b[0;32mreturn\u001b[0m \u001b[0mtype\u001b[0m\u001b[0;34m(\u001b[0m\u001b[0mself\u001b[0m\u001b[0;34m)\u001b[0m\u001b[0;34m(\u001b[0m\u001b[0mitems\u001b[0m\u001b[0;34m,\u001b[0m \u001b[0;34m*\u001b[0m\u001b[0margs\u001b[0m\u001b[0;34m,\u001b[0m \u001b[0muse_list\u001b[0m\u001b[0;34m=\u001b[0m\u001b[0;32mNone\u001b[0m\u001b[0;34m,\u001b[0m \u001b[0;34m**\u001b[0m\u001b[0mkwargs\u001b[0m\u001b[0;34m)\u001b[0m\u001b[0;34m\u001b[0m\u001b[0;34m\u001b[0m\u001b[0m\n\u001b[0m\u001b[1;32m    219\u001b[0m     \u001b[0;32mdef\u001b[0m \u001b[0m__getitem__\u001b[0m\u001b[0;34m(\u001b[0m\u001b[0mself\u001b[0m\u001b[0;34m,\u001b[0m \u001b[0midx\u001b[0m\u001b[0;34m)\u001b[0m\u001b[0;34m:\u001b[0m \u001b[0;32mreturn\u001b[0m \u001b[0mself\u001b[0m\u001b[0;34m.\u001b[0m\u001b[0m_get\u001b[0m\u001b[0;34m(\u001b[0m\u001b[0midx\u001b[0m\u001b[0;34m)\u001b[0m \u001b[0;32mif\u001b[0m \u001b[0mis_indexer\u001b[0m\u001b[0;34m(\u001b[0m\u001b[0midx\u001b[0m\u001b[0;34m)\u001b[0m \u001b[0;32melse\u001b[0m \u001b[0mL\u001b[0m\u001b[0;34m(\u001b[0m\u001b[0mself\u001b[0m\u001b[0;34m.\u001b[0m\u001b[0m_get\u001b[0m\u001b[0;34m(\u001b[0m\u001b[0midx\u001b[0m\u001b[0;34m)\u001b[0m\u001b[0;34m,\u001b[0m \u001b[0muse_list\u001b[0m\u001b[0;34m=\u001b[0m\u001b[0;32mNone\u001b[0m\u001b[0;34m)\u001b[0m\u001b[0;34m\u001b[0m\u001b[0;34m\u001b[0m\u001b[0m\n\u001b[1;32m    220\u001b[0m     \u001b[0;32mdef\u001b[0m \u001b[0mcopy\u001b[0m\u001b[0;34m(\u001b[0m\u001b[0mself\u001b[0m\u001b[0;34m)\u001b[0m\u001b[0;34m:\u001b[0m \u001b[0;32mreturn\u001b[0m \u001b[0mself\u001b[0m\u001b[0;34m.\u001b[0m\u001b[0m_new\u001b[0m\u001b[0;34m(\u001b[0m\u001b[0mself\u001b[0m\u001b[0;34m.\u001b[0m\u001b[0mitems\u001b[0m\u001b[0;34m.\u001b[0m\u001b[0mcopy\u001b[0m\u001b[0;34m(\u001b[0m\u001b[0;34m)\u001b[0m\u001b[0;34m)\u001b[0m\u001b[0;34m\u001b[0m\u001b[0;34m\u001b[0m\u001b[0m\n",
      "\u001b[0;32m/usr/local/lib/python3.6/dist-packages/fastcore/foundation.py\u001b[0m in \u001b[0;36m__call__\u001b[0;34m(cls, x, *args, **kwargs)\u001b[0m\n\u001b[1;32m    197\u001b[0m     \u001b[0;32mdef\u001b[0m \u001b[0m__call__\u001b[0m\u001b[0;34m(\u001b[0m\u001b[0mcls\u001b[0m\u001b[0;34m,\u001b[0m \u001b[0mx\u001b[0m\u001b[0;34m=\u001b[0m\u001b[0;32mNone\u001b[0m\u001b[0;34m,\u001b[0m \u001b[0;34m*\u001b[0m\u001b[0margs\u001b[0m\u001b[0;34m,\u001b[0m \u001b[0;34m**\u001b[0m\u001b[0mkwargs\u001b[0m\u001b[0;34m)\u001b[0m\u001b[0;34m:\u001b[0m\u001b[0;34m\u001b[0m\u001b[0;34m\u001b[0m\u001b[0m\n\u001b[1;32m    198\u001b[0m         \u001b[0;32mif\u001b[0m \u001b[0;32mnot\u001b[0m \u001b[0margs\u001b[0m \u001b[0;32mand\u001b[0m \u001b[0;32mnot\u001b[0m \u001b[0mkwargs\u001b[0m \u001b[0;32mand\u001b[0m \u001b[0mx\u001b[0m \u001b[0;32mis\u001b[0m \u001b[0;32mnot\u001b[0m \u001b[0;32mNone\u001b[0m \u001b[0;32mand\u001b[0m \u001b[0misinstance\u001b[0m\u001b[0;34m(\u001b[0m\u001b[0mx\u001b[0m\u001b[0;34m,\u001b[0m\u001b[0mcls\u001b[0m\u001b[0;34m)\u001b[0m\u001b[0;34m:\u001b[0m \u001b[0;32mreturn\u001b[0m \u001b[0mx\u001b[0m\u001b[0;34m\u001b[0m\u001b[0;34m\u001b[0m\u001b[0m\n\u001b[0;32m--> 199\u001b[0;31m         \u001b[0;32mreturn\u001b[0m \u001b[0msuper\u001b[0m\u001b[0;34m(\u001b[0m\u001b[0;34m)\u001b[0m\u001b[0;34m.\u001b[0m\u001b[0m__call__\u001b[0m\u001b[0;34m(\u001b[0m\u001b[0mx\u001b[0m\u001b[0;34m,\u001b[0m \u001b[0;34m*\u001b[0m\u001b[0margs\u001b[0m\u001b[0;34m,\u001b[0m \u001b[0;34m**\u001b[0m\u001b[0mkwargs\u001b[0m\u001b[0;34m)\u001b[0m\u001b[0;34m\u001b[0m\u001b[0;34m\u001b[0m\u001b[0m\n\u001b[0m\u001b[1;32m    200\u001b[0m \u001b[0;34m\u001b[0m\u001b[0m\n\u001b[1;32m    201\u001b[0m \u001b[0;31m# Cell\u001b[0m\u001b[0;34m\u001b[0m\u001b[0;34m\u001b[0m\u001b[0;34m\u001b[0m\u001b[0m\n",
      "\u001b[0;32m/usr/local/lib/python3.6/dist-packages/fastcore/foundation.py\u001b[0m in \u001b[0;36m__init__\u001b[0;34m(self, items, use_list, match, *rest)\u001b[0m\n\u001b[1;32m    207\u001b[0m         \u001b[0;32mif\u001b[0m \u001b[0mitems\u001b[0m \u001b[0;32mis\u001b[0m \u001b[0;32mNone\u001b[0m\u001b[0;34m:\u001b[0m \u001b[0mitems\u001b[0m \u001b[0;34m=\u001b[0m \u001b[0;34m[\u001b[0m\u001b[0;34m]\u001b[0m\u001b[0;34m\u001b[0m\u001b[0;34m\u001b[0m\u001b[0m\n\u001b[1;32m    208\u001b[0m         \u001b[0;32mif\u001b[0m \u001b[0;34m(\u001b[0m\u001b[0muse_list\u001b[0m \u001b[0;32mis\u001b[0m \u001b[0;32mnot\u001b[0m \u001b[0;32mNone\u001b[0m\u001b[0;34m)\u001b[0m \u001b[0;32mor\u001b[0m \u001b[0;32mnot\u001b[0m \u001b[0m_is_array\u001b[0m\u001b[0;34m(\u001b[0m\u001b[0mitems\u001b[0m\u001b[0;34m)\u001b[0m\u001b[0;34m:\u001b[0m\u001b[0;34m\u001b[0m\u001b[0;34m\u001b[0m\u001b[0m\n\u001b[0;32m--> 209\u001b[0;31m             \u001b[0mitems\u001b[0m \u001b[0;34m=\u001b[0m \u001b[0mlist\u001b[0m\u001b[0;34m(\u001b[0m\u001b[0mitems\u001b[0m\u001b[0;34m)\u001b[0m \u001b[0;32mif\u001b[0m \u001b[0muse_list\u001b[0m \u001b[0;32melse\u001b[0m \u001b[0m_listify\u001b[0m\u001b[0;34m(\u001b[0m\u001b[0mitems\u001b[0m\u001b[0;34m)\u001b[0m\u001b[0;34m\u001b[0m\u001b[0;34m\u001b[0m\u001b[0m\n\u001b[0m\u001b[1;32m    210\u001b[0m         \u001b[0;32mif\u001b[0m \u001b[0mmatch\u001b[0m \u001b[0;32mis\u001b[0m \u001b[0;32mnot\u001b[0m \u001b[0;32mNone\u001b[0m\u001b[0;34m:\u001b[0m\u001b[0;34m\u001b[0m\u001b[0;34m\u001b[0m\u001b[0m\n\u001b[1;32m    211\u001b[0m             \u001b[0;32mif\u001b[0m \u001b[0mis_coll\u001b[0m\u001b[0;34m(\u001b[0m\u001b[0mmatch\u001b[0m\u001b[0;34m)\u001b[0m\u001b[0;34m:\u001b[0m \u001b[0mmatch\u001b[0m \u001b[0;34m=\u001b[0m \u001b[0mlen\u001b[0m\u001b[0;34m(\u001b[0m\u001b[0mmatch\u001b[0m\u001b[0;34m)\u001b[0m\u001b[0;34m\u001b[0m\u001b[0;34m\u001b[0m\u001b[0m\n",
      "\u001b[0;32m/usr/local/lib/python3.6/dist-packages/fastcore/foundation.py\u001b[0m in \u001b[0;36m_listify\u001b[0;34m(o)\u001b[0m\n\u001b[1;32m    114\u001b[0m     \u001b[0;32mif\u001b[0m \u001b[0misinstance\u001b[0m\u001b[0;34m(\u001b[0m\u001b[0mo\u001b[0m\u001b[0;34m,\u001b[0m \u001b[0mlist\u001b[0m\u001b[0;34m)\u001b[0m\u001b[0;34m:\u001b[0m \u001b[0;32mreturn\u001b[0m \u001b[0mo\u001b[0m\u001b[0;34m\u001b[0m\u001b[0;34m\u001b[0m\u001b[0m\n\u001b[1;32m    115\u001b[0m     \u001b[0;32mif\u001b[0m \u001b[0misinstance\u001b[0m\u001b[0;34m(\u001b[0m\u001b[0mo\u001b[0m\u001b[0;34m,\u001b[0m \u001b[0mstr\u001b[0m\u001b[0;34m)\u001b[0m \u001b[0;32mor\u001b[0m \u001b[0m_is_array\u001b[0m\u001b[0;34m(\u001b[0m\u001b[0mo\u001b[0m\u001b[0;34m)\u001b[0m\u001b[0;34m:\u001b[0m \u001b[0;32mreturn\u001b[0m \u001b[0;34m[\u001b[0m\u001b[0mo\u001b[0m\u001b[0;34m]\u001b[0m\u001b[0;34m\u001b[0m\u001b[0;34m\u001b[0m\u001b[0m\n\u001b[0;32m--> 116\u001b[0;31m     \u001b[0;32mif\u001b[0m \u001b[0mis_iter\u001b[0m\u001b[0;34m(\u001b[0m\u001b[0mo\u001b[0m\u001b[0;34m)\u001b[0m\u001b[0;34m:\u001b[0m \u001b[0;32mreturn\u001b[0m \u001b[0mlist\u001b[0m\u001b[0;34m(\u001b[0m\u001b[0mo\u001b[0m\u001b[0;34m)\u001b[0m\u001b[0;34m\u001b[0m\u001b[0;34m\u001b[0m\u001b[0m\n\u001b[0m\u001b[1;32m    117\u001b[0m     \u001b[0;32mreturn\u001b[0m \u001b[0;34m[\u001b[0m\u001b[0mo\u001b[0m\u001b[0;34m]\u001b[0m\u001b[0;34m\u001b[0m\u001b[0;34m\u001b[0m\u001b[0m\n\u001b[1;32m    118\u001b[0m \u001b[0;34m\u001b[0m\u001b[0m\n",
      "\u001b[0;32m/usr/local/lib/python3.6/dist-packages/fastcore/foundation.py\u001b[0m in \u001b[0;36m__call__\u001b[0;34m(self, *args, **kwargs)\u001b[0m\n\u001b[1;32m    177\u001b[0m             \u001b[0;32mif\u001b[0m \u001b[0misinstance\u001b[0m\u001b[0;34m(\u001b[0m\u001b[0mv\u001b[0m\u001b[0;34m,\u001b[0m\u001b[0m_Arg\u001b[0m\u001b[0;34m)\u001b[0m\u001b[0;34m:\u001b[0m \u001b[0mkwargs\u001b[0m\u001b[0;34m[\u001b[0m\u001b[0mk\u001b[0m\u001b[0;34m]\u001b[0m \u001b[0;34m=\u001b[0m \u001b[0margs\u001b[0m\u001b[0;34m.\u001b[0m\u001b[0mpop\u001b[0m\u001b[0;34m(\u001b[0m\u001b[0mv\u001b[0m\u001b[0;34m.\u001b[0m\u001b[0mi\u001b[0m\u001b[0;34m)\u001b[0m\u001b[0;34m\u001b[0m\u001b[0;34m\u001b[0m\u001b[0m\n\u001b[1;32m    178\u001b[0m         \u001b[0mfargs\u001b[0m \u001b[0;34m=\u001b[0m \u001b[0;34m[\u001b[0m\u001b[0margs\u001b[0m\u001b[0;34m[\u001b[0m\u001b[0mx\u001b[0m\u001b[0;34m.\u001b[0m\u001b[0mi\u001b[0m\u001b[0;34m]\u001b[0m \u001b[0;32mif\u001b[0m \u001b[0misinstance\u001b[0m\u001b[0;34m(\u001b[0m\u001b[0mx\u001b[0m\u001b[0;34m,\u001b[0m \u001b[0m_Arg\u001b[0m\u001b[0;34m)\u001b[0m \u001b[0;32melse\u001b[0m \u001b[0mx\u001b[0m \u001b[0;32mfor\u001b[0m \u001b[0mx\u001b[0m \u001b[0;32min\u001b[0m \u001b[0mself\u001b[0m\u001b[0;34m.\u001b[0m\u001b[0mpargs\u001b[0m\u001b[0;34m]\u001b[0m \u001b[0;34m+\u001b[0m \u001b[0margs\u001b[0m\u001b[0;34m[\u001b[0m\u001b[0mself\u001b[0m\u001b[0;34m.\u001b[0m\u001b[0mmaxi\u001b[0m\u001b[0;34m+\u001b[0m\u001b[0;36m1\u001b[0m\u001b[0;34m:\u001b[0m\u001b[0;34m]\u001b[0m\u001b[0;34m\u001b[0m\u001b[0;34m\u001b[0m\u001b[0m\n\u001b[0;32m--> 179\u001b[0;31m         \u001b[0;32mreturn\u001b[0m \u001b[0mself\u001b[0m\u001b[0;34m.\u001b[0m\u001b[0mfn\u001b[0m\u001b[0;34m(\u001b[0m\u001b[0;34m*\u001b[0m\u001b[0mfargs\u001b[0m\u001b[0;34m,\u001b[0m \u001b[0;34m**\u001b[0m\u001b[0mkwargs\u001b[0m\u001b[0;34m)\u001b[0m\u001b[0;34m\u001b[0m\u001b[0;34m\u001b[0m\u001b[0m\n\u001b[0m\u001b[1;32m    180\u001b[0m \u001b[0;34m\u001b[0m\u001b[0m\n\u001b[1;32m    181\u001b[0m \u001b[0;31m# Cell\u001b[0m\u001b[0;34m\u001b[0m\u001b[0;34m\u001b[0m\u001b[0;34m\u001b[0m\u001b[0m\n",
      "\u001b[0;32m/usr/local/lib/python3.6/dist-packages/fastcore/utils.py\u001b[0m in \u001b[0;36m_inner\u001b[0;34m(x, *args, **kwargs)\u001b[0m\n\u001b[1;32m    398\u001b[0m     \u001b[0;32mif\u001b[0m \u001b[0morder\u001b[0m \u001b[0;32mis\u001b[0m \u001b[0;32mnot\u001b[0m \u001b[0;32mNone\u001b[0m\u001b[0;34m:\u001b[0m \u001b[0mfuncs\u001b[0m \u001b[0;34m=\u001b[0m \u001b[0mfuncs\u001b[0m\u001b[0;34m.\u001b[0m\u001b[0msorted\u001b[0m\u001b[0;34m(\u001b[0m\u001b[0morder\u001b[0m\u001b[0;34m)\u001b[0m\u001b[0;34m\u001b[0m\u001b[0;34m\u001b[0m\u001b[0m\n\u001b[1;32m    399\u001b[0m     \u001b[0;32mdef\u001b[0m \u001b[0m_inner\u001b[0m\u001b[0;34m(\u001b[0m\u001b[0mx\u001b[0m\u001b[0;34m,\u001b[0m \u001b[0;34m*\u001b[0m\u001b[0margs\u001b[0m\u001b[0;34m,\u001b[0m \u001b[0;34m**\u001b[0m\u001b[0mkwargs\u001b[0m\u001b[0;34m)\u001b[0m\u001b[0;34m:\u001b[0m\u001b[0;34m\u001b[0m\u001b[0;34m\u001b[0m\u001b[0m\n\u001b[0;32m--> 400\u001b[0;31m         \u001b[0;32mfor\u001b[0m \u001b[0mf\u001b[0m \u001b[0;32min\u001b[0m \u001b[0mL\u001b[0m\u001b[0;34m(\u001b[0m\u001b[0mfuncs\u001b[0m\u001b[0;34m)\u001b[0m\u001b[0;34m:\u001b[0m \u001b[0mx\u001b[0m \u001b[0;34m=\u001b[0m \u001b[0mf\u001b[0m\u001b[0;34m(\u001b[0m\u001b[0mx\u001b[0m\u001b[0;34m,\u001b[0m \u001b[0;34m*\u001b[0m\u001b[0margs\u001b[0m\u001b[0;34m,\u001b[0m \u001b[0;34m**\u001b[0m\u001b[0mkwargs\u001b[0m\u001b[0;34m)\u001b[0m\u001b[0;34m\u001b[0m\u001b[0;34m\u001b[0m\u001b[0m\n\u001b[0m\u001b[1;32m    401\u001b[0m         \u001b[0;32mreturn\u001b[0m \u001b[0mx\u001b[0m\u001b[0;34m\u001b[0m\u001b[0;34m\u001b[0m\u001b[0m\n\u001b[1;32m    402\u001b[0m     \u001b[0;32mreturn\u001b[0m \u001b[0m_inner\u001b[0m\u001b[0;34m\u001b[0m\u001b[0;34m\u001b[0m\u001b[0m\n",
      "\u001b[0;32m/usr/local/lib/python3.6/dist-packages/fastai/data/core.py\u001b[0m in \u001b[0;36mdecode\u001b[0;34m(self, o, full)\u001b[0m\n\u001b[1;32m    320\u001b[0m     \u001b[0;32mdef\u001b[0m \u001b[0m__iter__\u001b[0m\u001b[0;34m(\u001b[0m\u001b[0mself\u001b[0m\u001b[0;34m)\u001b[0m\u001b[0;34m:\u001b[0m \u001b[0;32mreturn\u001b[0m \u001b[0;34m(\u001b[0m\u001b[0mself\u001b[0m\u001b[0;34m[\u001b[0m\u001b[0mi\u001b[0m\u001b[0;34m]\u001b[0m \u001b[0;32mfor\u001b[0m \u001b[0mi\u001b[0m \u001b[0;32min\u001b[0m \u001b[0mrange\u001b[0m\u001b[0;34m(\u001b[0m\u001b[0mlen\u001b[0m\u001b[0;34m(\u001b[0m\u001b[0mself\u001b[0m\u001b[0;34m)\u001b[0m\u001b[0;34m)\u001b[0m\u001b[0;34m)\u001b[0m\u001b[0;34m\u001b[0m\u001b[0;34m\u001b[0m\u001b[0m\n\u001b[1;32m    321\u001b[0m     \u001b[0;32mdef\u001b[0m \u001b[0m__repr__\u001b[0m\u001b[0;34m(\u001b[0m\u001b[0mself\u001b[0m\u001b[0;34m)\u001b[0m\u001b[0;34m:\u001b[0m \u001b[0;32mreturn\u001b[0m \u001b[0mcoll_repr\u001b[0m\u001b[0;34m(\u001b[0m\u001b[0mself\u001b[0m\u001b[0;34m)\u001b[0m\u001b[0;34m\u001b[0m\u001b[0;34m\u001b[0m\u001b[0m\n\u001b[0;32m--> 322\u001b[0;31m     \u001b[0;32mdef\u001b[0m \u001b[0mdecode\u001b[0m\u001b[0;34m(\u001b[0m\u001b[0mself\u001b[0m\u001b[0;34m,\u001b[0m \u001b[0mo\u001b[0m\u001b[0;34m,\u001b[0m \u001b[0mfull\u001b[0m\u001b[0;34m=\u001b[0m\u001b[0;32mTrue\u001b[0m\u001b[0;34m)\u001b[0m\u001b[0;34m:\u001b[0m \u001b[0;32mreturn\u001b[0m \u001b[0mtuple\u001b[0m\u001b[0;34m(\u001b[0m\u001b[0mtl\u001b[0m\u001b[0;34m.\u001b[0m\u001b[0mdecode\u001b[0m\u001b[0;34m(\u001b[0m\u001b[0mo_\u001b[0m\u001b[0;34m,\u001b[0m \u001b[0mfull\u001b[0m\u001b[0;34m=\u001b[0m\u001b[0mfull\u001b[0m\u001b[0;34m)\u001b[0m \u001b[0;32mfor\u001b[0m \u001b[0mo_\u001b[0m\u001b[0;34m,\u001b[0m\u001b[0mtl\u001b[0m \u001b[0;32min\u001b[0m \u001b[0mzip\u001b[0m\u001b[0;34m(\u001b[0m\u001b[0mo\u001b[0m\u001b[0;34m,\u001b[0m\u001b[0mtuplify\u001b[0m\u001b[0;34m(\u001b[0m\u001b[0mself\u001b[0m\u001b[0;34m.\u001b[0m\u001b[0mtls\u001b[0m\u001b[0;34m,\u001b[0m \u001b[0mmatch\u001b[0m\u001b[0;34m=\u001b[0m\u001b[0mo\u001b[0m\u001b[0;34m)\u001b[0m\u001b[0;34m)\u001b[0m\u001b[0;34m)\u001b[0m\u001b[0;34m\u001b[0m\u001b[0;34m\u001b[0m\u001b[0m\n\u001b[0m\u001b[1;32m    323\u001b[0m     \u001b[0;32mdef\u001b[0m \u001b[0msubset\u001b[0m\u001b[0;34m(\u001b[0m\u001b[0mself\u001b[0m\u001b[0;34m,\u001b[0m \u001b[0mi\u001b[0m\u001b[0;34m)\u001b[0m\u001b[0;34m:\u001b[0m \u001b[0;32mreturn\u001b[0m \u001b[0mtype\u001b[0m\u001b[0;34m(\u001b[0m\u001b[0mself\u001b[0m\u001b[0;34m)\u001b[0m\u001b[0;34m(\u001b[0m\u001b[0mtls\u001b[0m\u001b[0;34m=\u001b[0m\u001b[0mL\u001b[0m\u001b[0;34m(\u001b[0m\u001b[0mtl\u001b[0m\u001b[0;34m.\u001b[0m\u001b[0msubset\u001b[0m\u001b[0;34m(\u001b[0m\u001b[0mi\u001b[0m\u001b[0;34m)\u001b[0m \u001b[0;32mfor\u001b[0m \u001b[0mtl\u001b[0m \u001b[0;32min\u001b[0m \u001b[0mself\u001b[0m\u001b[0;34m.\u001b[0m\u001b[0mtls\u001b[0m\u001b[0;34m)\u001b[0m\u001b[0;34m,\u001b[0m \u001b[0mn_inp\u001b[0m\u001b[0;34m=\u001b[0m\u001b[0mself\u001b[0m\u001b[0;34m.\u001b[0m\u001b[0mn_inp\u001b[0m\u001b[0;34m)\u001b[0m\u001b[0;34m\u001b[0m\u001b[0;34m\u001b[0m\u001b[0m\n\u001b[1;32m    324\u001b[0m     \u001b[0;32mdef\u001b[0m \u001b[0m_new\u001b[0m\u001b[0;34m(\u001b[0m\u001b[0mself\u001b[0m\u001b[0;34m,\u001b[0m \u001b[0mitems\u001b[0m\u001b[0;34m,\u001b[0m \u001b[0;34m*\u001b[0m\u001b[0margs\u001b[0m\u001b[0;34m,\u001b[0m \u001b[0;34m**\u001b[0m\u001b[0mkwargs\u001b[0m\u001b[0;34m)\u001b[0m\u001b[0;34m:\u001b[0m \u001b[0;32mreturn\u001b[0m \u001b[0msuper\u001b[0m\u001b[0;34m(\u001b[0m\u001b[0;34m)\u001b[0m\u001b[0;34m.\u001b[0m\u001b[0m_new\u001b[0m\u001b[0;34m(\u001b[0m\u001b[0mitems\u001b[0m\u001b[0;34m,\u001b[0m \u001b[0mtfms\u001b[0m\u001b[0;34m=\u001b[0m\u001b[0mself\u001b[0m\u001b[0;34m.\u001b[0m\u001b[0mtfms\u001b[0m\u001b[0;34m,\u001b[0m \u001b[0mdo_setup\u001b[0m\u001b[0;34m=\u001b[0m\u001b[0;32mFalse\u001b[0m\u001b[0;34m,\u001b[0m \u001b[0;34m**\u001b[0m\u001b[0mkwargs\u001b[0m\u001b[0;34m)\u001b[0m\u001b[0;34m\u001b[0m\u001b[0;34m\u001b[0m\u001b[0m\n",
      "\u001b[0;32m/usr/local/lib/python3.6/dist-packages/fastai/data/core.py\u001b[0m in \u001b[0;36m<genexpr>\u001b[0;34m(.0)\u001b[0m\n\u001b[1;32m    320\u001b[0m     \u001b[0;32mdef\u001b[0m \u001b[0m__iter__\u001b[0m\u001b[0;34m(\u001b[0m\u001b[0mself\u001b[0m\u001b[0;34m)\u001b[0m\u001b[0;34m:\u001b[0m \u001b[0;32mreturn\u001b[0m \u001b[0;34m(\u001b[0m\u001b[0mself\u001b[0m\u001b[0;34m[\u001b[0m\u001b[0mi\u001b[0m\u001b[0;34m]\u001b[0m \u001b[0;32mfor\u001b[0m \u001b[0mi\u001b[0m \u001b[0;32min\u001b[0m \u001b[0mrange\u001b[0m\u001b[0;34m(\u001b[0m\u001b[0mlen\u001b[0m\u001b[0;34m(\u001b[0m\u001b[0mself\u001b[0m\u001b[0;34m)\u001b[0m\u001b[0;34m)\u001b[0m\u001b[0;34m)\u001b[0m\u001b[0;34m\u001b[0m\u001b[0;34m\u001b[0m\u001b[0m\n\u001b[1;32m    321\u001b[0m     \u001b[0;32mdef\u001b[0m \u001b[0m__repr__\u001b[0m\u001b[0;34m(\u001b[0m\u001b[0mself\u001b[0m\u001b[0;34m)\u001b[0m\u001b[0;34m:\u001b[0m \u001b[0;32mreturn\u001b[0m \u001b[0mcoll_repr\u001b[0m\u001b[0;34m(\u001b[0m\u001b[0mself\u001b[0m\u001b[0;34m)\u001b[0m\u001b[0;34m\u001b[0m\u001b[0;34m\u001b[0m\u001b[0m\n\u001b[0;32m--> 322\u001b[0;31m     \u001b[0;32mdef\u001b[0m \u001b[0mdecode\u001b[0m\u001b[0;34m(\u001b[0m\u001b[0mself\u001b[0m\u001b[0;34m,\u001b[0m \u001b[0mo\u001b[0m\u001b[0;34m,\u001b[0m \u001b[0mfull\u001b[0m\u001b[0;34m=\u001b[0m\u001b[0;32mTrue\u001b[0m\u001b[0;34m)\u001b[0m\u001b[0;34m:\u001b[0m \u001b[0;32mreturn\u001b[0m \u001b[0mtuple\u001b[0m\u001b[0;34m(\u001b[0m\u001b[0mtl\u001b[0m\u001b[0;34m.\u001b[0m\u001b[0mdecode\u001b[0m\u001b[0;34m(\u001b[0m\u001b[0mo_\u001b[0m\u001b[0;34m,\u001b[0m \u001b[0mfull\u001b[0m\u001b[0;34m=\u001b[0m\u001b[0mfull\u001b[0m\u001b[0;34m)\u001b[0m \u001b[0;32mfor\u001b[0m \u001b[0mo_\u001b[0m\u001b[0;34m,\u001b[0m\u001b[0mtl\u001b[0m \u001b[0;32min\u001b[0m \u001b[0mzip\u001b[0m\u001b[0;34m(\u001b[0m\u001b[0mo\u001b[0m\u001b[0;34m,\u001b[0m\u001b[0mtuplify\u001b[0m\u001b[0;34m(\u001b[0m\u001b[0mself\u001b[0m\u001b[0;34m.\u001b[0m\u001b[0mtls\u001b[0m\u001b[0;34m,\u001b[0m \u001b[0mmatch\u001b[0m\u001b[0;34m=\u001b[0m\u001b[0mo\u001b[0m\u001b[0;34m)\u001b[0m\u001b[0;34m)\u001b[0m\u001b[0;34m)\u001b[0m\u001b[0;34m\u001b[0m\u001b[0;34m\u001b[0m\u001b[0m\n\u001b[0m\u001b[1;32m    323\u001b[0m     \u001b[0;32mdef\u001b[0m \u001b[0msubset\u001b[0m\u001b[0;34m(\u001b[0m\u001b[0mself\u001b[0m\u001b[0;34m,\u001b[0m \u001b[0mi\u001b[0m\u001b[0;34m)\u001b[0m\u001b[0;34m:\u001b[0m \u001b[0;32mreturn\u001b[0m \u001b[0mtype\u001b[0m\u001b[0;34m(\u001b[0m\u001b[0mself\u001b[0m\u001b[0;34m)\u001b[0m\u001b[0;34m(\u001b[0m\u001b[0mtls\u001b[0m\u001b[0;34m=\u001b[0m\u001b[0mL\u001b[0m\u001b[0;34m(\u001b[0m\u001b[0mtl\u001b[0m\u001b[0;34m.\u001b[0m\u001b[0msubset\u001b[0m\u001b[0;34m(\u001b[0m\u001b[0mi\u001b[0m\u001b[0;34m)\u001b[0m \u001b[0;32mfor\u001b[0m \u001b[0mtl\u001b[0m \u001b[0;32min\u001b[0m \u001b[0mself\u001b[0m\u001b[0;34m.\u001b[0m\u001b[0mtls\u001b[0m\u001b[0;34m)\u001b[0m\u001b[0;34m,\u001b[0m \u001b[0mn_inp\u001b[0m\u001b[0;34m=\u001b[0m\u001b[0mself\u001b[0m\u001b[0;34m.\u001b[0m\u001b[0mn_inp\u001b[0m\u001b[0;34m)\u001b[0m\u001b[0;34m\u001b[0m\u001b[0;34m\u001b[0m\u001b[0m\n\u001b[1;32m    324\u001b[0m     \u001b[0;32mdef\u001b[0m \u001b[0m_new\u001b[0m\u001b[0;34m(\u001b[0m\u001b[0mself\u001b[0m\u001b[0;34m,\u001b[0m \u001b[0mitems\u001b[0m\u001b[0;34m,\u001b[0m \u001b[0;34m*\u001b[0m\u001b[0margs\u001b[0m\u001b[0;34m,\u001b[0m \u001b[0;34m**\u001b[0m\u001b[0mkwargs\u001b[0m\u001b[0;34m)\u001b[0m\u001b[0;34m:\u001b[0m \u001b[0;32mreturn\u001b[0m \u001b[0msuper\u001b[0m\u001b[0;34m(\u001b[0m\u001b[0;34m)\u001b[0m\u001b[0;34m.\u001b[0m\u001b[0m_new\u001b[0m\u001b[0;34m(\u001b[0m\u001b[0mitems\u001b[0m\u001b[0;34m,\u001b[0m \u001b[0mtfms\u001b[0m\u001b[0;34m=\u001b[0m\u001b[0mself\u001b[0m\u001b[0;34m.\u001b[0m\u001b[0mtfms\u001b[0m\u001b[0;34m,\u001b[0m \u001b[0mdo_setup\u001b[0m\u001b[0;34m=\u001b[0m\u001b[0;32mFalse\u001b[0m\u001b[0;34m,\u001b[0m \u001b[0;34m**\u001b[0m\u001b[0mkwargs\u001b[0m\u001b[0;34m)\u001b[0m\u001b[0;34m\u001b[0m\u001b[0;34m\u001b[0m\u001b[0m\n",
      "\u001b[0;32m/usr/local/lib/python3.6/dist-packages/fastai/data/core.py\u001b[0m in \u001b[0;36mdecode\u001b[0;34m(self, o, **kwargs)\u001b[0m\n\u001b[1;32m    244\u001b[0m     \u001b[0;32mdef\u001b[0m \u001b[0m__iter__\u001b[0m\u001b[0;34m(\u001b[0m\u001b[0mself\u001b[0m\u001b[0;34m)\u001b[0m\u001b[0;34m:\u001b[0m \u001b[0;32mreturn\u001b[0m \u001b[0;34m(\u001b[0m\u001b[0mself\u001b[0m\u001b[0;34m[\u001b[0m\u001b[0mi\u001b[0m\u001b[0;34m]\u001b[0m \u001b[0;32mfor\u001b[0m \u001b[0mi\u001b[0m \u001b[0;32min\u001b[0m \u001b[0mrange\u001b[0m\u001b[0;34m(\u001b[0m\u001b[0mlen\u001b[0m\u001b[0;34m(\u001b[0m\u001b[0mself\u001b[0m\u001b[0;34m)\u001b[0m\u001b[0;34m)\u001b[0m\u001b[0;34m)\u001b[0m\u001b[0;34m\u001b[0m\u001b[0;34m\u001b[0m\u001b[0m\n\u001b[1;32m    245\u001b[0m     \u001b[0;32mdef\u001b[0m \u001b[0mshow\u001b[0m\u001b[0;34m(\u001b[0m\u001b[0mself\u001b[0m\u001b[0;34m,\u001b[0m \u001b[0mo\u001b[0m\u001b[0;34m,\u001b[0m \u001b[0;34m**\u001b[0m\u001b[0mkwargs\u001b[0m\u001b[0;34m)\u001b[0m\u001b[0;34m:\u001b[0m \u001b[0;32mreturn\u001b[0m \u001b[0mself\u001b[0m\u001b[0;34m.\u001b[0m\u001b[0mtfms\u001b[0m\u001b[0;34m.\u001b[0m\u001b[0mshow\u001b[0m\u001b[0;34m(\u001b[0m\u001b[0mo\u001b[0m\u001b[0;34m,\u001b[0m \u001b[0;34m**\u001b[0m\u001b[0mkwargs\u001b[0m\u001b[0;34m)\u001b[0m\u001b[0;34m\u001b[0m\u001b[0;34m\u001b[0m\u001b[0m\n\u001b[0;32m--> 246\u001b[0;31m     \u001b[0;32mdef\u001b[0m \u001b[0mdecode\u001b[0m\u001b[0;34m(\u001b[0m\u001b[0mself\u001b[0m\u001b[0;34m,\u001b[0m \u001b[0mo\u001b[0m\u001b[0;34m,\u001b[0m \u001b[0;34m**\u001b[0m\u001b[0mkwargs\u001b[0m\u001b[0;34m)\u001b[0m\u001b[0;34m:\u001b[0m \u001b[0;32mreturn\u001b[0m \u001b[0mself\u001b[0m\u001b[0;34m.\u001b[0m\u001b[0mtfms\u001b[0m\u001b[0;34m.\u001b[0m\u001b[0mdecode\u001b[0m\u001b[0;34m(\u001b[0m\u001b[0mo\u001b[0m\u001b[0;34m,\u001b[0m \u001b[0;34m**\u001b[0m\u001b[0mkwargs\u001b[0m\u001b[0;34m)\u001b[0m\u001b[0;34m\u001b[0m\u001b[0;34m\u001b[0m\u001b[0m\n\u001b[0m\u001b[1;32m    247\u001b[0m     \u001b[0;32mdef\u001b[0m \u001b[0m__call__\u001b[0m\u001b[0;34m(\u001b[0m\u001b[0mself\u001b[0m\u001b[0;34m,\u001b[0m \u001b[0mo\u001b[0m\u001b[0;34m,\u001b[0m \u001b[0;34m**\u001b[0m\u001b[0mkwargs\u001b[0m\u001b[0;34m)\u001b[0m\u001b[0;34m:\u001b[0m \u001b[0;32mreturn\u001b[0m \u001b[0mself\u001b[0m\u001b[0;34m.\u001b[0m\u001b[0mtfms\u001b[0m\u001b[0;34m.\u001b[0m\u001b[0m__call__\u001b[0m\u001b[0;34m(\u001b[0m\u001b[0mo\u001b[0m\u001b[0;34m,\u001b[0m \u001b[0;34m**\u001b[0m\u001b[0mkwargs\u001b[0m\u001b[0;34m)\u001b[0m\u001b[0;34m\u001b[0m\u001b[0;34m\u001b[0m\u001b[0m\n\u001b[1;32m    248\u001b[0m     \u001b[0;32mdef\u001b[0m \u001b[0moverlapping_splits\u001b[0m\u001b[0;34m(\u001b[0m\u001b[0mself\u001b[0m\u001b[0;34m)\u001b[0m\u001b[0;34m:\u001b[0m \u001b[0;32mreturn\u001b[0m \u001b[0mL\u001b[0m\u001b[0;34m(\u001b[0m\u001b[0mCounter\u001b[0m\u001b[0;34m(\u001b[0m\u001b[0mself\u001b[0m\u001b[0;34m.\u001b[0m\u001b[0msplits\u001b[0m\u001b[0;34m.\u001b[0m\u001b[0mconcat\u001b[0m\u001b[0;34m(\u001b[0m\u001b[0;34m)\u001b[0m\u001b[0;34m)\u001b[0m\u001b[0;34m.\u001b[0m\u001b[0mvalues\u001b[0m\u001b[0;34m(\u001b[0m\u001b[0;34m)\u001b[0m\u001b[0;34m)\u001b[0m\u001b[0;34m.\u001b[0m\u001b[0mfilter\u001b[0m\u001b[0;34m(\u001b[0m\u001b[0mgt\u001b[0m\u001b[0;34m(\u001b[0m\u001b[0;36m1\u001b[0m\u001b[0;34m)\u001b[0m\u001b[0;34m)\u001b[0m\u001b[0;34m\u001b[0m\u001b[0;34m\u001b[0m\u001b[0m\n",
      "\u001b[0;32m/usr/local/lib/python3.6/dist-packages/fastcore/transform.py\u001b[0m in \u001b[0;36mdecode\u001b[0;34m(self, o, full)\u001b[0m\n\u001b[1;32m    204\u001b[0m \u001b[0;34m\u001b[0m\u001b[0m\n\u001b[1;32m    205\u001b[0m     \u001b[0;32mdef\u001b[0m \u001b[0mdecode\u001b[0m  \u001b[0;34m(\u001b[0m\u001b[0mself\u001b[0m\u001b[0;34m,\u001b[0m \u001b[0mo\u001b[0m\u001b[0;34m,\u001b[0m \u001b[0mfull\u001b[0m\u001b[0;34m=\u001b[0m\u001b[0;32mTrue\u001b[0m\u001b[0;34m)\u001b[0m\u001b[0;34m:\u001b[0m\u001b[0;34m\u001b[0m\u001b[0;34m\u001b[0m\u001b[0m\n\u001b[0;32m--> 206\u001b[0;31m         \u001b[0;32mif\u001b[0m \u001b[0mfull\u001b[0m\u001b[0;34m:\u001b[0m \u001b[0;32mreturn\u001b[0m \u001b[0mcompose_tfms\u001b[0m\u001b[0;34m(\u001b[0m\u001b[0mo\u001b[0m\u001b[0;34m,\u001b[0m \u001b[0mtfms\u001b[0m\u001b[0;34m=\u001b[0m\u001b[0mself\u001b[0m\u001b[0;34m.\u001b[0m\u001b[0mfs\u001b[0m\u001b[0;34m,\u001b[0m \u001b[0mis_enc\u001b[0m\u001b[0;34m=\u001b[0m\u001b[0;32mFalse\u001b[0m\u001b[0;34m,\u001b[0m \u001b[0mreverse\u001b[0m\u001b[0;34m=\u001b[0m\u001b[0;32mTrue\u001b[0m\u001b[0;34m,\u001b[0m \u001b[0msplit_idx\u001b[0m\u001b[0;34m=\u001b[0m\u001b[0mself\u001b[0m\u001b[0;34m.\u001b[0m\u001b[0msplit_idx\u001b[0m\u001b[0;34m)\u001b[0m\u001b[0;34m\u001b[0m\u001b[0;34m\u001b[0m\u001b[0m\n\u001b[0m\u001b[1;32m    207\u001b[0m         \u001b[0;31m#Not full means we decode up to the point the item knows how to show itself.\u001b[0m\u001b[0;34m\u001b[0m\u001b[0;34m\u001b[0m\u001b[0;34m\u001b[0m\u001b[0m\n\u001b[1;32m    208\u001b[0m         \u001b[0;32mfor\u001b[0m \u001b[0mf\u001b[0m \u001b[0;32min\u001b[0m \u001b[0mreversed\u001b[0m\u001b[0;34m(\u001b[0m\u001b[0mself\u001b[0m\u001b[0;34m.\u001b[0m\u001b[0mfs\u001b[0m\u001b[0;34m)\u001b[0m\u001b[0;34m:\u001b[0m\u001b[0;34m\u001b[0m\u001b[0;34m\u001b[0m\u001b[0m\n",
      "\u001b[0;32m/usr/local/lib/python3.6/dist-packages/fastcore/transform.py\u001b[0m in \u001b[0;36mcompose_tfms\u001b[0;34m(x, tfms, is_enc, reverse, **kwargs)\u001b[0m\n\u001b[1;32m    148\u001b[0m     \u001b[0;32mfor\u001b[0m \u001b[0mf\u001b[0m \u001b[0;32min\u001b[0m \u001b[0mtfms\u001b[0m\u001b[0;34m:\u001b[0m\u001b[0;34m\u001b[0m\u001b[0;34m\u001b[0m\u001b[0m\n\u001b[1;32m    149\u001b[0m         \u001b[0;32mif\u001b[0m \u001b[0;32mnot\u001b[0m \u001b[0mis_enc\u001b[0m\u001b[0;34m:\u001b[0m \u001b[0mf\u001b[0m \u001b[0;34m=\u001b[0m \u001b[0mf\u001b[0m\u001b[0;34m.\u001b[0m\u001b[0mdecode\u001b[0m\u001b[0;34m\u001b[0m\u001b[0;34m\u001b[0m\u001b[0m\n\u001b[0;32m--> 150\u001b[0;31m         \u001b[0mx\u001b[0m \u001b[0;34m=\u001b[0m \u001b[0mf\u001b[0m\u001b[0;34m(\u001b[0m\u001b[0mx\u001b[0m\u001b[0;34m,\u001b[0m \u001b[0;34m**\u001b[0m\u001b[0mkwargs\u001b[0m\u001b[0;34m)\u001b[0m\u001b[0;34m\u001b[0m\u001b[0;34m\u001b[0m\u001b[0m\n\u001b[0m\u001b[1;32m    151\u001b[0m     \u001b[0;32mreturn\u001b[0m \u001b[0mx\u001b[0m\u001b[0;34m\u001b[0m\u001b[0;34m\u001b[0m\u001b[0m\n\u001b[1;32m    152\u001b[0m \u001b[0;34m\u001b[0m\u001b[0m\n",
      "\u001b[0;32m/usr/local/lib/python3.6/dist-packages/fastcore/transform.py\u001b[0m in \u001b[0;36mdecode\u001b[0;34m(self, x, **kwargs)\u001b[0m\n\u001b[1;32m     72\u001b[0m     \u001b[0;32mdef\u001b[0m \u001b[0mname\u001b[0m\u001b[0;34m(\u001b[0m\u001b[0mself\u001b[0m\u001b[0;34m)\u001b[0m\u001b[0;34m:\u001b[0m \u001b[0;32mreturn\u001b[0m \u001b[0mgetattr\u001b[0m\u001b[0;34m(\u001b[0m\u001b[0mself\u001b[0m\u001b[0;34m,\u001b[0m \u001b[0;34m'_name'\u001b[0m\u001b[0;34m,\u001b[0m \u001b[0m_get_name\u001b[0m\u001b[0;34m(\u001b[0m\u001b[0mself\u001b[0m\u001b[0;34m)\u001b[0m\u001b[0;34m)\u001b[0m\u001b[0;34m\u001b[0m\u001b[0;34m\u001b[0m\u001b[0m\n\u001b[1;32m     73\u001b[0m     \u001b[0;32mdef\u001b[0m \u001b[0m__call__\u001b[0m\u001b[0;34m(\u001b[0m\u001b[0mself\u001b[0m\u001b[0;34m,\u001b[0m \u001b[0mx\u001b[0m\u001b[0;34m,\u001b[0m \u001b[0;34m**\u001b[0m\u001b[0mkwargs\u001b[0m\u001b[0;34m)\u001b[0m\u001b[0;34m:\u001b[0m \u001b[0;32mreturn\u001b[0m \u001b[0mself\u001b[0m\u001b[0;34m.\u001b[0m\u001b[0m_call\u001b[0m\u001b[0;34m(\u001b[0m\u001b[0;34m'encodes'\u001b[0m\u001b[0;34m,\u001b[0m \u001b[0mx\u001b[0m\u001b[0;34m,\u001b[0m \u001b[0;34m**\u001b[0m\u001b[0mkwargs\u001b[0m\u001b[0;34m)\u001b[0m\u001b[0;34m\u001b[0m\u001b[0;34m\u001b[0m\u001b[0m\n\u001b[0;32m---> 74\u001b[0;31m     \u001b[0;32mdef\u001b[0m \u001b[0mdecode\u001b[0m  \u001b[0;34m(\u001b[0m\u001b[0mself\u001b[0m\u001b[0;34m,\u001b[0m \u001b[0mx\u001b[0m\u001b[0;34m,\u001b[0m \u001b[0;34m**\u001b[0m\u001b[0mkwargs\u001b[0m\u001b[0;34m)\u001b[0m\u001b[0;34m:\u001b[0m \u001b[0;32mreturn\u001b[0m \u001b[0mself\u001b[0m\u001b[0;34m.\u001b[0m\u001b[0m_call\u001b[0m\u001b[0;34m(\u001b[0m\u001b[0;34m'decodes'\u001b[0m\u001b[0;34m,\u001b[0m \u001b[0mx\u001b[0m\u001b[0;34m,\u001b[0m \u001b[0;34m**\u001b[0m\u001b[0mkwargs\u001b[0m\u001b[0;34m)\u001b[0m\u001b[0;34m\u001b[0m\u001b[0;34m\u001b[0m\u001b[0m\n\u001b[0m\u001b[1;32m     75\u001b[0m     \u001b[0;32mdef\u001b[0m \u001b[0m__repr__\u001b[0m\u001b[0;34m(\u001b[0m\u001b[0mself\u001b[0m\u001b[0;34m)\u001b[0m\u001b[0;34m:\u001b[0m \u001b[0;32mreturn\u001b[0m \u001b[0;34mf'{self.name}:\\nencodes: {self.encodes}decodes: {self.decodes}'\u001b[0m\u001b[0;34m\u001b[0m\u001b[0;34m\u001b[0m\u001b[0m\n\u001b[1;32m     76\u001b[0m \u001b[0;34m\u001b[0m\u001b[0m\n",
      "\u001b[0;32m/usr/local/lib/python3.6/dist-packages/fastcore/transform.py\u001b[0m in \u001b[0;36m_call\u001b[0;34m(self, fn, x, split_idx, **kwargs)\u001b[0m\n\u001b[1;32m     81\u001b[0m     \u001b[0;32mdef\u001b[0m \u001b[0m_call\u001b[0m\u001b[0;34m(\u001b[0m\u001b[0mself\u001b[0m\u001b[0;34m,\u001b[0m \u001b[0mfn\u001b[0m\u001b[0;34m,\u001b[0m \u001b[0mx\u001b[0m\u001b[0;34m,\u001b[0m \u001b[0msplit_idx\u001b[0m\u001b[0;34m=\u001b[0m\u001b[0;32mNone\u001b[0m\u001b[0;34m,\u001b[0m \u001b[0;34m**\u001b[0m\u001b[0mkwargs\u001b[0m\u001b[0;34m)\u001b[0m\u001b[0;34m:\u001b[0m\u001b[0;34m\u001b[0m\u001b[0;34m\u001b[0m\u001b[0m\n\u001b[1;32m     82\u001b[0m         \u001b[0;32mif\u001b[0m \u001b[0msplit_idx\u001b[0m\u001b[0;34m!=\u001b[0m\u001b[0mself\u001b[0m\u001b[0;34m.\u001b[0m\u001b[0msplit_idx\u001b[0m \u001b[0;32mand\u001b[0m \u001b[0mself\u001b[0m\u001b[0;34m.\u001b[0m\u001b[0msplit_idx\u001b[0m \u001b[0;32mis\u001b[0m \u001b[0;32mnot\u001b[0m \u001b[0;32mNone\u001b[0m\u001b[0;34m:\u001b[0m \u001b[0;32mreturn\u001b[0m \u001b[0mx\u001b[0m\u001b[0;34m\u001b[0m\u001b[0;34m\u001b[0m\u001b[0m\n\u001b[0;32m---> 83\u001b[0;31m         \u001b[0;32mreturn\u001b[0m \u001b[0mself\u001b[0m\u001b[0;34m.\u001b[0m\u001b[0m_do_call\u001b[0m\u001b[0;34m(\u001b[0m\u001b[0mgetattr\u001b[0m\u001b[0;34m(\u001b[0m\u001b[0mself\u001b[0m\u001b[0;34m,\u001b[0m \u001b[0mfn\u001b[0m\u001b[0;34m)\u001b[0m\u001b[0;34m,\u001b[0m \u001b[0mx\u001b[0m\u001b[0;34m,\u001b[0m \u001b[0;34m**\u001b[0m\u001b[0mkwargs\u001b[0m\u001b[0;34m)\u001b[0m\u001b[0;34m\u001b[0m\u001b[0;34m\u001b[0m\u001b[0m\n\u001b[0m\u001b[1;32m     84\u001b[0m \u001b[0;34m\u001b[0m\u001b[0m\n\u001b[1;32m     85\u001b[0m     \u001b[0;32mdef\u001b[0m \u001b[0m_do_call\u001b[0m\u001b[0;34m(\u001b[0m\u001b[0mself\u001b[0m\u001b[0;34m,\u001b[0m \u001b[0mf\u001b[0m\u001b[0;34m,\u001b[0m \u001b[0mx\u001b[0m\u001b[0;34m,\u001b[0m \u001b[0;34m**\u001b[0m\u001b[0mkwargs\u001b[0m\u001b[0;34m)\u001b[0m\u001b[0;34m:\u001b[0m\u001b[0;34m\u001b[0m\u001b[0;34m\u001b[0m\u001b[0m\n",
      "\u001b[0;32m/usr/local/lib/python3.6/dist-packages/fastcore/transform.py\u001b[0m in \u001b[0;36m_do_call\u001b[0;34m(self, f, x, **kwargs)\u001b[0m\n\u001b[1;32m     87\u001b[0m             \u001b[0;32mif\u001b[0m \u001b[0mf\u001b[0m \u001b[0;32mis\u001b[0m \u001b[0;32mNone\u001b[0m\u001b[0;34m:\u001b[0m \u001b[0;32mreturn\u001b[0m \u001b[0mx\u001b[0m\u001b[0;34m\u001b[0m\u001b[0;34m\u001b[0m\u001b[0m\n\u001b[1;32m     88\u001b[0m             \u001b[0mret\u001b[0m \u001b[0;34m=\u001b[0m \u001b[0mf\u001b[0m\u001b[0;34m.\u001b[0m\u001b[0mreturns_none\u001b[0m\u001b[0;34m(\u001b[0m\u001b[0mx\u001b[0m\u001b[0;34m)\u001b[0m \u001b[0;32mif\u001b[0m \u001b[0mhasattr\u001b[0m\u001b[0;34m(\u001b[0m\u001b[0mf\u001b[0m\u001b[0;34m,\u001b[0m\u001b[0;34m'returns_none'\u001b[0m\u001b[0;34m)\u001b[0m \u001b[0;32melse\u001b[0m \u001b[0;32mNone\u001b[0m\u001b[0;34m\u001b[0m\u001b[0;34m\u001b[0m\u001b[0m\n\u001b[0;32m---> 89\u001b[0;31m             \u001b[0;32mreturn\u001b[0m \u001b[0mretain_type\u001b[0m\u001b[0;34m(\u001b[0m\u001b[0mf\u001b[0m\u001b[0;34m(\u001b[0m\u001b[0mx\u001b[0m\u001b[0;34m,\u001b[0m \u001b[0;34m**\u001b[0m\u001b[0mkwargs\u001b[0m\u001b[0;34m)\u001b[0m\u001b[0;34m,\u001b[0m \u001b[0mx\u001b[0m\u001b[0;34m,\u001b[0m \u001b[0mret\u001b[0m\u001b[0;34m)\u001b[0m\u001b[0;34m\u001b[0m\u001b[0;34m\u001b[0m\u001b[0m\n\u001b[0m\u001b[1;32m     90\u001b[0m         \u001b[0mres\u001b[0m \u001b[0;34m=\u001b[0m \u001b[0mtuple\u001b[0m\u001b[0;34m(\u001b[0m\u001b[0mself\u001b[0m\u001b[0;34m.\u001b[0m\u001b[0m_do_call\u001b[0m\u001b[0;34m(\u001b[0m\u001b[0mf\u001b[0m\u001b[0;34m,\u001b[0m \u001b[0mx_\u001b[0m\u001b[0;34m,\u001b[0m \u001b[0;34m**\u001b[0m\u001b[0mkwargs\u001b[0m\u001b[0;34m)\u001b[0m \u001b[0;32mfor\u001b[0m \u001b[0mx_\u001b[0m \u001b[0;32min\u001b[0m \u001b[0mx\u001b[0m\u001b[0;34m)\u001b[0m\u001b[0;34m\u001b[0m\u001b[0;34m\u001b[0m\u001b[0m\n\u001b[1;32m     91\u001b[0m         \u001b[0;32mreturn\u001b[0m \u001b[0mretain_type\u001b[0m\u001b[0;34m(\u001b[0m\u001b[0mres\u001b[0m\u001b[0;34m,\u001b[0m \u001b[0mx\u001b[0m\u001b[0;34m)\u001b[0m\u001b[0;34m\u001b[0m\u001b[0;34m\u001b[0m\u001b[0m\n",
      "\u001b[0;32m/usr/local/lib/python3.6/dist-packages/fastcore/dispatch.py\u001b[0m in \u001b[0;36m__call__\u001b[0;34m(self, *args, **kwargs)\u001b[0m\n\u001b[1;32m    110\u001b[0m         \u001b[0;32mif\u001b[0m \u001b[0;32mnot\u001b[0m \u001b[0mf\u001b[0m\u001b[0;34m:\u001b[0m \u001b[0;32mreturn\u001b[0m \u001b[0margs\u001b[0m\u001b[0;34m[\u001b[0m\u001b[0;36m0\u001b[0m\u001b[0;34m]\u001b[0m\u001b[0;34m\u001b[0m\u001b[0;34m\u001b[0m\u001b[0m\n\u001b[1;32m    111\u001b[0m         \u001b[0;32mif\u001b[0m \u001b[0mself\u001b[0m\u001b[0;34m.\u001b[0m\u001b[0minst\u001b[0m \u001b[0;32mis\u001b[0m \u001b[0;32mnot\u001b[0m \u001b[0;32mNone\u001b[0m\u001b[0;34m:\u001b[0m \u001b[0mf\u001b[0m \u001b[0;34m=\u001b[0m \u001b[0mMethodType\u001b[0m\u001b[0;34m(\u001b[0m\u001b[0mf\u001b[0m\u001b[0;34m,\u001b[0m \u001b[0mself\u001b[0m\u001b[0;34m.\u001b[0m\u001b[0minst\u001b[0m\u001b[0;34m)\u001b[0m\u001b[0;34m\u001b[0m\u001b[0;34m\u001b[0m\u001b[0m\n\u001b[0;32m--> 112\u001b[0;31m         \u001b[0;32mreturn\u001b[0m \u001b[0mf\u001b[0m\u001b[0;34m(\u001b[0m\u001b[0;34m*\u001b[0m\u001b[0margs\u001b[0m\u001b[0;34m,\u001b[0m \u001b[0;34m**\u001b[0m\u001b[0mkwargs\u001b[0m\u001b[0;34m)\u001b[0m\u001b[0;34m\u001b[0m\u001b[0;34m\u001b[0m\u001b[0m\n\u001b[0m\u001b[1;32m    113\u001b[0m \u001b[0;34m\u001b[0m\u001b[0m\n\u001b[1;32m    114\u001b[0m     \u001b[0;32mdef\u001b[0m \u001b[0m__get__\u001b[0m\u001b[0;34m(\u001b[0m\u001b[0mself\u001b[0m\u001b[0;34m,\u001b[0m \u001b[0minst\u001b[0m\u001b[0;34m,\u001b[0m \u001b[0mowner\u001b[0m\u001b[0;34m)\u001b[0m\u001b[0;34m:\u001b[0m\u001b[0;34m\u001b[0m\u001b[0;34m\u001b[0m\u001b[0m\n",
      "\u001b[0;32m/usr/local/lib/python3.6/dist-packages/fastai/data/transforms.py\u001b[0m in \u001b[0;36mdecodes\u001b[0;34m(self, o)\u001b[0m\n\u001b[1;32m    239\u001b[0m \u001b[0;34m\u001b[0m\u001b[0m\n\u001b[1;32m    240\u001b[0m     \u001b[0;32mdef\u001b[0m \u001b[0mencodes\u001b[0m\u001b[0;34m(\u001b[0m\u001b[0mself\u001b[0m\u001b[0;34m,\u001b[0m \u001b[0mo\u001b[0m\u001b[0;34m)\u001b[0m\u001b[0;34m:\u001b[0m \u001b[0;32mreturn\u001b[0m \u001b[0mTensorCategory\u001b[0m\u001b[0;34m(\u001b[0m\u001b[0mself\u001b[0m\u001b[0;34m.\u001b[0m\u001b[0mvocab\u001b[0m\u001b[0;34m.\u001b[0m\u001b[0mo2i\u001b[0m\u001b[0;34m[\u001b[0m\u001b[0mo\u001b[0m\u001b[0;34m]\u001b[0m\u001b[0;34m)\u001b[0m\u001b[0;34m\u001b[0m\u001b[0;34m\u001b[0m\u001b[0m\n\u001b[0;32m--> 241\u001b[0;31m     \u001b[0;32mdef\u001b[0m \u001b[0mdecodes\u001b[0m\u001b[0;34m(\u001b[0m\u001b[0mself\u001b[0m\u001b[0;34m,\u001b[0m \u001b[0mo\u001b[0m\u001b[0;34m)\u001b[0m\u001b[0;34m:\u001b[0m \u001b[0;32mreturn\u001b[0m \u001b[0mCategory\u001b[0m      \u001b[0;34m(\u001b[0m\u001b[0mself\u001b[0m\u001b[0;34m.\u001b[0m\u001b[0mvocab\u001b[0m    \u001b[0;34m[\u001b[0m\u001b[0mo\u001b[0m\u001b[0;34m]\u001b[0m\u001b[0;34m)\u001b[0m\u001b[0;34m\u001b[0m\u001b[0;34m\u001b[0m\u001b[0m\n\u001b[0m\u001b[1;32m    242\u001b[0m \u001b[0;34m\u001b[0m\u001b[0m\n\u001b[1;32m    243\u001b[0m \u001b[0;31m# Cell\u001b[0m\u001b[0;34m\u001b[0m\u001b[0;34m\u001b[0m\u001b[0;34m\u001b[0m\u001b[0m\n",
      "\u001b[0;32m/usr/local/lib/python3.6/dist-packages/fastcore/foundation.py\u001b[0m in \u001b[0;36m__getitem__\u001b[0;34m(self, k)\u001b[0m\n\u001b[1;32m    187\u001b[0m     \u001b[0;32mdef\u001b[0m \u001b[0m__init__\u001b[0m\u001b[0;34m(\u001b[0m\u001b[0mself\u001b[0m\u001b[0;34m,\u001b[0m \u001b[0mitems\u001b[0m\u001b[0;34m)\u001b[0m\u001b[0;34m:\u001b[0m \u001b[0mself\u001b[0m\u001b[0;34m.\u001b[0m\u001b[0mitems\u001b[0m \u001b[0;34m=\u001b[0m \u001b[0mitems\u001b[0m\u001b[0;34m\u001b[0m\u001b[0;34m\u001b[0m\u001b[0m\n\u001b[1;32m    188\u001b[0m     \u001b[0;32mdef\u001b[0m \u001b[0m__len__\u001b[0m\u001b[0;34m(\u001b[0m\u001b[0mself\u001b[0m\u001b[0;34m)\u001b[0m\u001b[0;34m:\u001b[0m \u001b[0;32mreturn\u001b[0m \u001b[0mlen\u001b[0m\u001b[0;34m(\u001b[0m\u001b[0mself\u001b[0m\u001b[0;34m.\u001b[0m\u001b[0mitems\u001b[0m\u001b[0;34m)\u001b[0m\u001b[0;34m\u001b[0m\u001b[0;34m\u001b[0m\u001b[0m\n\u001b[0;32m--> 189\u001b[0;31m     \u001b[0;32mdef\u001b[0m \u001b[0m__getitem__\u001b[0m\u001b[0;34m(\u001b[0m\u001b[0mself\u001b[0m\u001b[0;34m,\u001b[0m \u001b[0mk\u001b[0m\u001b[0;34m)\u001b[0m\u001b[0;34m:\u001b[0m \u001b[0;32mreturn\u001b[0m \u001b[0mself\u001b[0m\u001b[0;34m.\u001b[0m\u001b[0mitems\u001b[0m\u001b[0;34m[\u001b[0m\u001b[0mlist\u001b[0m\u001b[0;34m(\u001b[0m\u001b[0mk\u001b[0m\u001b[0;34m)\u001b[0m \u001b[0;32mif\u001b[0m \u001b[0misinstance\u001b[0m\u001b[0;34m(\u001b[0m\u001b[0mk\u001b[0m\u001b[0;34m,\u001b[0m\u001b[0mCollBase\u001b[0m\u001b[0;34m)\u001b[0m \u001b[0;32melse\u001b[0m \u001b[0mk\u001b[0m\u001b[0;34m]\u001b[0m\u001b[0;34m\u001b[0m\u001b[0;34m\u001b[0m\u001b[0m\n\u001b[0m\u001b[1;32m    190\u001b[0m     \u001b[0;32mdef\u001b[0m \u001b[0m__setitem__\u001b[0m\u001b[0;34m(\u001b[0m\u001b[0mself\u001b[0m\u001b[0;34m,\u001b[0m \u001b[0mk\u001b[0m\u001b[0;34m,\u001b[0m \u001b[0mv\u001b[0m\u001b[0;34m)\u001b[0m\u001b[0;34m:\u001b[0m \u001b[0mself\u001b[0m\u001b[0;34m.\u001b[0m\u001b[0mitems\u001b[0m\u001b[0;34m[\u001b[0m\u001b[0mlist\u001b[0m\u001b[0;34m(\u001b[0m\u001b[0mk\u001b[0m\u001b[0;34m)\u001b[0m \u001b[0;32mif\u001b[0m \u001b[0misinstance\u001b[0m\u001b[0;34m(\u001b[0m\u001b[0mk\u001b[0m\u001b[0;34m,\u001b[0m\u001b[0mCollBase\u001b[0m\u001b[0;34m)\u001b[0m \u001b[0;32melse\u001b[0m \u001b[0mk\u001b[0m\u001b[0;34m]\u001b[0m \u001b[0;34m=\u001b[0m \u001b[0mv\u001b[0m\u001b[0;34m\u001b[0m\u001b[0;34m\u001b[0m\u001b[0m\n\u001b[1;32m    191\u001b[0m     \u001b[0;32mdef\u001b[0m \u001b[0m__delitem__\u001b[0m\u001b[0;34m(\u001b[0m\u001b[0mself\u001b[0m\u001b[0;34m,\u001b[0m \u001b[0mi\u001b[0m\u001b[0;34m)\u001b[0m\u001b[0;34m:\u001b[0m \u001b[0;32mdel\u001b[0m\u001b[0;34m(\u001b[0m\u001b[0mself\u001b[0m\u001b[0;34m.\u001b[0m\u001b[0mitems\u001b[0m\u001b[0;34m[\u001b[0m\u001b[0mi\u001b[0m\u001b[0;34m]\u001b[0m\u001b[0;34m)\u001b[0m\u001b[0;34m\u001b[0m\u001b[0;34m\u001b[0m\u001b[0m\n",
      "\u001b[0;32m/usr/local/lib/python3.6/dist-packages/fastcore/foundation.py\u001b[0m in \u001b[0;36m__getitem__\u001b[0;34m(self, idx)\u001b[0m\n\u001b[1;32m    217\u001b[0m     \u001b[0;32mdef\u001b[0m \u001b[0m_xtra\u001b[0m\u001b[0;34m(\u001b[0m\u001b[0mself\u001b[0m\u001b[0;34m)\u001b[0m\u001b[0;34m:\u001b[0m \u001b[0;32mreturn\u001b[0m \u001b[0;32mNone\u001b[0m\u001b[0;34m\u001b[0m\u001b[0;34m\u001b[0m\u001b[0m\n\u001b[1;32m    218\u001b[0m     \u001b[0;32mdef\u001b[0m \u001b[0m_new\u001b[0m\u001b[0;34m(\u001b[0m\u001b[0mself\u001b[0m\u001b[0;34m,\u001b[0m \u001b[0mitems\u001b[0m\u001b[0;34m,\u001b[0m \u001b[0;34m*\u001b[0m\u001b[0margs\u001b[0m\u001b[0;34m,\u001b[0m \u001b[0;34m**\u001b[0m\u001b[0mkwargs\u001b[0m\u001b[0;34m)\u001b[0m\u001b[0;34m:\u001b[0m \u001b[0;32mreturn\u001b[0m \u001b[0mtype\u001b[0m\u001b[0;34m(\u001b[0m\u001b[0mself\u001b[0m\u001b[0;34m)\u001b[0m\u001b[0;34m(\u001b[0m\u001b[0mitems\u001b[0m\u001b[0;34m,\u001b[0m \u001b[0;34m*\u001b[0m\u001b[0margs\u001b[0m\u001b[0;34m,\u001b[0m \u001b[0muse_list\u001b[0m\u001b[0;34m=\u001b[0m\u001b[0;32mNone\u001b[0m\u001b[0;34m,\u001b[0m \u001b[0;34m**\u001b[0m\u001b[0mkwargs\u001b[0m\u001b[0;34m)\u001b[0m\u001b[0;34m\u001b[0m\u001b[0;34m\u001b[0m\u001b[0m\n\u001b[0;32m--> 219\u001b[0;31m     \u001b[0;32mdef\u001b[0m \u001b[0m__getitem__\u001b[0m\u001b[0;34m(\u001b[0m\u001b[0mself\u001b[0m\u001b[0;34m,\u001b[0m \u001b[0midx\u001b[0m\u001b[0;34m)\u001b[0m\u001b[0;34m:\u001b[0m \u001b[0;32mreturn\u001b[0m \u001b[0mself\u001b[0m\u001b[0;34m.\u001b[0m\u001b[0m_get\u001b[0m\u001b[0;34m(\u001b[0m\u001b[0midx\u001b[0m\u001b[0;34m)\u001b[0m \u001b[0;32mif\u001b[0m \u001b[0mis_indexer\u001b[0m\u001b[0;34m(\u001b[0m\u001b[0midx\u001b[0m\u001b[0;34m)\u001b[0m \u001b[0;32melse\u001b[0m \u001b[0mL\u001b[0m\u001b[0;34m(\u001b[0m\u001b[0mself\u001b[0m\u001b[0;34m.\u001b[0m\u001b[0m_get\u001b[0m\u001b[0;34m(\u001b[0m\u001b[0midx\u001b[0m\u001b[0;34m)\u001b[0m\u001b[0;34m,\u001b[0m \u001b[0muse_list\u001b[0m\u001b[0;34m=\u001b[0m\u001b[0;32mNone\u001b[0m\u001b[0;34m)\u001b[0m\u001b[0;34m\u001b[0m\u001b[0;34m\u001b[0m\u001b[0m\n\u001b[0m\u001b[1;32m    220\u001b[0m     \u001b[0;32mdef\u001b[0m \u001b[0mcopy\u001b[0m\u001b[0;34m(\u001b[0m\u001b[0mself\u001b[0m\u001b[0;34m)\u001b[0m\u001b[0;34m:\u001b[0m \u001b[0;32mreturn\u001b[0m \u001b[0mself\u001b[0m\u001b[0;34m.\u001b[0m\u001b[0m_new\u001b[0m\u001b[0;34m(\u001b[0m\u001b[0mself\u001b[0m\u001b[0;34m.\u001b[0m\u001b[0mitems\u001b[0m\u001b[0;34m.\u001b[0m\u001b[0mcopy\u001b[0m\u001b[0;34m(\u001b[0m\u001b[0;34m)\u001b[0m\u001b[0;34m)\u001b[0m\u001b[0;34m\u001b[0m\u001b[0;34m\u001b[0m\u001b[0m\n\u001b[1;32m    221\u001b[0m \u001b[0;34m\u001b[0m\u001b[0m\n",
      "\u001b[0;32m/usr/local/lib/python3.6/dist-packages/fastcore/foundation.py\u001b[0m in \u001b[0;36m_get\u001b[0;34m(self, i)\u001b[0m\n\u001b[1;32m    225\u001b[0m         return (self.items.iloc[list(i)] if hasattr(self.items,'iloc')\n\u001b[1;32m    226\u001b[0m                 \u001b[0;32melse\u001b[0m \u001b[0mself\u001b[0m\u001b[0;34m.\u001b[0m\u001b[0mitems\u001b[0m\u001b[0;34m.\u001b[0m\u001b[0m__array__\u001b[0m\u001b[0;34m(\u001b[0m\u001b[0;34m)\u001b[0m\u001b[0;34m[\u001b[0m\u001b[0;34m(\u001b[0m\u001b[0mi\u001b[0m\u001b[0;34m,\u001b[0m\u001b[0;34m)\u001b[0m\u001b[0;34m]\u001b[0m \u001b[0;32mif\u001b[0m \u001b[0mhasattr\u001b[0m\u001b[0;34m(\u001b[0m\u001b[0mself\u001b[0m\u001b[0;34m.\u001b[0m\u001b[0mitems\u001b[0m\u001b[0;34m,\u001b[0m\u001b[0;34m'__array__'\u001b[0m\u001b[0;34m)\u001b[0m\u001b[0;34m\u001b[0m\u001b[0;34m\u001b[0m\u001b[0m\n\u001b[0;32m--> 227\u001b[0;31m                 else [self.items[i_] for i_ in i])\n\u001b[0m\u001b[1;32m    228\u001b[0m \u001b[0;34m\u001b[0m\u001b[0m\n\u001b[1;32m    229\u001b[0m     \u001b[0;32mdef\u001b[0m \u001b[0m__setitem__\u001b[0m\u001b[0;34m(\u001b[0m\u001b[0mself\u001b[0m\u001b[0;34m,\u001b[0m \u001b[0midx\u001b[0m\u001b[0;34m,\u001b[0m \u001b[0mo\u001b[0m\u001b[0;34m)\u001b[0m\u001b[0;34m:\u001b[0m\u001b[0;34m\u001b[0m\u001b[0;34m\u001b[0m\u001b[0m\n",
      "\u001b[0;32m/usr/local/lib/python3.6/dist-packages/fastcore/foundation.py\u001b[0m in \u001b[0;36m<listcomp>\u001b[0;34m(.0)\u001b[0m\n\u001b[1;32m    225\u001b[0m         return (self.items.iloc[list(i)] if hasattr(self.items,'iloc')\n\u001b[1;32m    226\u001b[0m                 \u001b[0;32melse\u001b[0m \u001b[0mself\u001b[0m\u001b[0;34m.\u001b[0m\u001b[0mitems\u001b[0m\u001b[0;34m.\u001b[0m\u001b[0m__array__\u001b[0m\u001b[0;34m(\u001b[0m\u001b[0;34m)\u001b[0m\u001b[0;34m[\u001b[0m\u001b[0;34m(\u001b[0m\u001b[0mi\u001b[0m\u001b[0;34m,\u001b[0m\u001b[0;34m)\u001b[0m\u001b[0;34m]\u001b[0m \u001b[0;32mif\u001b[0m \u001b[0mhasattr\u001b[0m\u001b[0;34m(\u001b[0m\u001b[0mself\u001b[0m\u001b[0;34m.\u001b[0m\u001b[0mitems\u001b[0m\u001b[0;34m,\u001b[0m\u001b[0;34m'__array__'\u001b[0m\u001b[0;34m)\u001b[0m\u001b[0;34m\u001b[0m\u001b[0;34m\u001b[0m\u001b[0m\n\u001b[0;32m--> 227\u001b[0;31m                 else [self.items[i_] for i_ in i])\n\u001b[0m\u001b[1;32m    228\u001b[0m \u001b[0;34m\u001b[0m\u001b[0m\n\u001b[1;32m    229\u001b[0m     \u001b[0;32mdef\u001b[0m \u001b[0m__setitem__\u001b[0m\u001b[0;34m(\u001b[0m\u001b[0mself\u001b[0m\u001b[0;34m,\u001b[0m \u001b[0midx\u001b[0m\u001b[0;34m,\u001b[0m \u001b[0mo\u001b[0m\u001b[0;34m)\u001b[0m\u001b[0;34m:\u001b[0m\u001b[0;34m\u001b[0m\u001b[0;34m\u001b[0m\u001b[0m\n",
      "\u001b[0;31mIndexError\u001b[0m: list index out of range"
     ]
    }
   ],
   "source": [
    "learn.predict('What the fuck are you talking. go to hell', with_input=True)"
   ]
  },
  {
   "cell_type": "code",
   "execution_count": null,
   "metadata": {},
   "outputs": [
    {
     "data": {
      "text/html": [],
      "text/plain": [
       "<IPython.core.display.HTML object>"
      ]
     },
     "metadata": {},
     "output_type": "display_data"
    },
    {
     "data": {
      "text/plain": [
       "(\"(#4) ['PRFN','NONE','HATE','PRFN']\",\n",
       " tensor([-1.5455, -3.4268,  0.8430, -1.8050]),\n",
       " tensor([-1.5455, -3.4268,  0.8430, -1.8050]))"
      ]
     },
     "execution_count": null,
     "metadata": {},
     "output_type": "execute_result"
    }
   ],
   "source": [
    "learn.predict(\"I will chop off your head and kill you\")"
   ]
  },
  {
   "cell_type": "code",
   "execution_count": null,
   "metadata": {},
   "outputs": [],
   "source": []
  }
 ],
 "metadata": {
  "kernelspec": {
   "display_name": "Python 3",
   "language": "python",
   "name": "python3"
  }
 },
 "nbformat": 4,
 "nbformat_minor": 2
}
